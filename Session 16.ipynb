{
 "cells": [
  {
   "cell_type": "code",
   "execution_count": 1,
   "id": "d08ea4fd",
   "metadata": {},
   "outputs": [],
   "source": [
    "# ADVANCED PYTHON MODULES"
   ]
  },
  {
   "cell_type": "code",
   "execution_count": 2,
   "id": "61a888e6",
   "metadata": {},
   "outputs": [],
   "source": [
    "# collections a lot of modules in it\n",
    "# counter is a part of collections and it serves as a dictionary sub class and it stores keys and values"
   ]
  },
  {
   "cell_type": "code",
   "execution_count": 6,
   "id": "82c6856d",
   "metadata": {},
   "outputs": [],
   "source": [
    "from collections import Counter\n",
    "# counter has elements as the key and number of occurences as the values\n"
   ]
  },
  {
   "cell_type": "code",
   "execution_count": 7,
   "id": "8f66de3b",
   "metadata": {},
   "outputs": [],
   "source": [
    "lst = [1,2,2,2,2,2,3,3,3,4,4,4,4,4,4,6,6,6,6,6,5,5,7,7,7,7,7,7,7,7,7,7,8,9,0,0,0,0,0,]"
   ]
  },
  {
   "cell_type": "code",
   "execution_count": 8,
   "id": "0a23300d",
   "metadata": {},
   "outputs": [
    {
     "data": {
      "text/plain": [
       "Counter({1: 1, 2: 5, 3: 3, 4: 6, 6: 5, 5: 2, 7: 10, 8: 1, 9: 1, 0: 5})"
      ]
     },
     "execution_count": 8,
     "metadata": {},
     "output_type": "execute_result"
    }
   ],
   "source": [
    "Counter(lst)"
   ]
  },
  {
   "cell_type": "code",
   "execution_count": 9,
   "id": "6a072fdd",
   "metadata": {},
   "outputs": [],
   "source": [
    "s = 'Hello i am sawraj and i am eating garlic bread with cheese and i am little exhausted taking a 2 hour class and i also have a bad memory'"
   ]
  },
  {
   "cell_type": "code",
   "execution_count": 10,
   "id": "cc4b2e3f",
   "metadata": {},
   "outputs": [],
   "source": [
    "words= s.split()"
   ]
  },
  {
   "cell_type": "code",
   "execution_count": 11,
   "id": "31b01a05",
   "metadata": {},
   "outputs": [
    {
     "name": "stdout",
     "output_type": "stream",
     "text": [
      "['Hello', 'i', 'am', 'sawraj', 'and', 'i', 'am', 'eating', 'garlic', 'bread', 'with', 'cheese', 'and', 'i', 'am', 'little', 'exhausted', 'taking', 'a', '2', 'hour', 'class', 'and', 'i', 'also', 'have', 'a', 'bad', 'memory']\n"
     ]
    }
   ],
   "source": [
    "print(words)"
   ]
  },
  {
   "cell_type": "code",
   "execution_count": 12,
   "id": "7f88d8f7",
   "metadata": {},
   "outputs": [
    {
     "data": {
      "text/plain": [
       "Counter({'Hello': 1,\n",
       "         'i': 4,\n",
       "         'am': 3,\n",
       "         'sawraj': 1,\n",
       "         'and': 3,\n",
       "         'eating': 1,\n",
       "         'garlic': 1,\n",
       "         'bread': 1,\n",
       "         'with': 1,\n",
       "         'cheese': 1,\n",
       "         'little': 1,\n",
       "         'exhausted': 1,\n",
       "         'taking': 1,\n",
       "         'a': 2,\n",
       "         '2': 1,\n",
       "         'hour': 1,\n",
       "         'class': 1,\n",
       "         'also': 1,\n",
       "         'have': 1,\n",
       "         'bad': 1,\n",
       "         'memory': 1})"
      ]
     },
     "execution_count": 12,
     "metadata": {},
     "output_type": "execute_result"
    }
   ],
   "source": [
    "Counter(words)"
   ]
  },
  {
   "cell_type": "code",
   "execution_count": 13,
   "id": "cb14efec",
   "metadata": {},
   "outputs": [],
   "source": [
    "d = {1:'one',2:'two',3:'three',4:'four'}"
   ]
  },
  {
   "cell_type": "code",
   "execution_count": 18,
   "id": "4ddad1ef",
   "metadata": {},
   "outputs": [
    {
     "ename": "KeyError",
     "evalue": "5",
     "output_type": "error",
     "traceback": [
      "\u001b[0;31m---------------------------------------------------------------------------\u001b[0m",
      "\u001b[0;31mKeyError\u001b[0m                                  Traceback (most recent call last)",
      "\u001b[0;32m/tmp/ipykernel_5865/143692285.py\u001b[0m in \u001b[0;36m<module>\u001b[0;34m\u001b[0m\n\u001b[0;32m----> 1\u001b[0;31m \u001b[0mprint\u001b[0m\u001b[0;34m(\u001b[0m\u001b[0md\u001b[0m\u001b[0;34m[\u001b[0m\u001b[0;36m5\u001b[0m\u001b[0;34m]\u001b[0m\u001b[0;34m)\u001b[0m\u001b[0;34m\u001b[0m\u001b[0;34m\u001b[0m\u001b[0m\n\u001b[0m",
      "\u001b[0;31mKeyError\u001b[0m: 5"
     ]
    }
   ],
   "source": [
    "print(d[5])"
   ]
  },
  {
   "cell_type": "code",
   "execution_count": 25,
   "id": "98282ab9",
   "metadata": {},
   "outputs": [],
   "source": [
    "from collections import defaultdict\n",
    "# deafaultdict will never raise a key error"
   ]
  },
  {
   "cell_type": "code",
   "execution_count": 26,
   "id": "f5fdd7d5",
   "metadata": {},
   "outputs": [],
   "source": [
    "d = defaultdict(object)"
   ]
  },
  {
   "cell_type": "code",
   "execution_count": 27,
   "id": "26fc76ef",
   "metadata": {},
   "outputs": [
    {
     "name": "stdout",
     "output_type": "stream",
     "text": [
      "<object object at 0x7f1d7fa58540>\n"
     ]
    }
   ],
   "source": [
    "print(d[1])"
   ]
  },
  {
   "cell_type": "code",
   "execution_count": 28,
   "id": "5046d656",
   "metadata": {},
   "outputs": [],
   "source": [
    "import datetime"
   ]
  },
  {
   "cell_type": "code",
   "execution_count": 29,
   "id": "dbcf7009",
   "metadata": {},
   "outputs": [],
   "source": [
    "t = datetime.time(5,12,1)"
   ]
  },
  {
   "cell_type": "code",
   "execution_count": 30,
   "id": "2a9d3fe8",
   "metadata": {},
   "outputs": [
    {
     "name": "stdout",
     "output_type": "stream",
     "text": [
      "05:12:01\n"
     ]
    }
   ],
   "source": [
    "print(t)"
   ]
  },
  {
   "cell_type": "code",
   "execution_count": 31,
   "id": "4ee0b1e8",
   "metadata": {},
   "outputs": [
    {
     "name": "stdout",
     "output_type": "stream",
     "text": [
      "5\n"
     ]
    }
   ],
   "source": [
    "print(t.hour)"
   ]
  },
  {
   "cell_type": "code",
   "execution_count": 33,
   "id": "41bb95aa",
   "metadata": {},
   "outputs": [
    {
     "name": "stdout",
     "output_type": "stream",
     "text": [
      "12\n"
     ]
    }
   ],
   "source": [
    "print(t.minute)"
   ]
  },
  {
   "cell_type": "code",
   "execution_count": 34,
   "id": "7464b2ac",
   "metadata": {},
   "outputs": [
    {
     "name": "stdout",
     "output_type": "stream",
     "text": [
      "1\n"
     ]
    }
   ],
   "source": [
    "print(t.second)"
   ]
  },
  {
   "cell_type": "code",
   "execution_count": 36,
   "id": "4872a088",
   "metadata": {},
   "outputs": [
    {
     "name": "stdout",
     "output_type": "stream",
     "text": [
      "0\n"
     ]
    }
   ],
   "source": [
    "print(t.microsecond)"
   ]
  },
  {
   "cell_type": "code",
   "execution_count": 37,
   "id": "a05ded92",
   "metadata": {},
   "outputs": [
    {
     "name": "stdout",
     "output_type": "stream",
     "text": [
      "None\n"
     ]
    }
   ],
   "source": [
    "print(t.tzinfo)"
   ]
  },
  {
   "cell_type": "code",
   "execution_count": 47,
   "id": "7e6e2a58",
   "metadata": {},
   "outputs": [],
   "source": [
    "today = datetime.date.today()"
   ]
  },
  {
   "cell_type": "code",
   "execution_count": 50,
   "id": "171d8d11",
   "metadata": {},
   "outputs": [
    {
     "name": "stdout",
     "output_type": "stream",
     "text": [
      "Sat Jan 29 00:00:00 2022\n"
     ]
    }
   ],
   "source": [
    "print(today.ctime())"
   ]
  },
  {
   "cell_type": "code",
   "execution_count": 51,
   "id": "bf74abee",
   "metadata": {},
   "outputs": [
    {
     "name": "stdout",
     "output_type": "stream",
     "text": [
      "time.struct_time(tm_year=2022, tm_mon=1, tm_mday=29, tm_hour=0, tm_min=0, tm_sec=0, tm_wday=5, tm_yday=29, tm_isdst=-1)\n"
     ]
    }
   ],
   "source": [
    "print(today.timetuple())"
   ]
  },
  {
   "cell_type": "code",
   "execution_count": 52,
   "id": "e4dee666",
   "metadata": {},
   "outputs": [],
   "source": [
    "import math"
   ]
  },
  {
   "cell_type": "code",
   "execution_count": 54,
   "id": "4e95c9e9",
   "metadata": {},
   "outputs": [],
   "source": [
    "x =5\n"
   ]
  },
  {
   "cell_type": "code",
   "execution_count": 55,
   "id": "67091803",
   "metadata": {},
   "outputs": [
    {
     "name": "stdout",
     "output_type": "stream",
     "text": [
      "120\n"
     ]
    }
   ],
   "source": [
    "print(math.factorial(x))"
   ]
  },
  {
   "cell_type": "code",
   "execution_count": 59,
   "id": "e7aeab89",
   "metadata": {},
   "outputs": [],
   "source": [
    "x = 1.78"
   ]
  },
  {
   "cell_type": "code",
   "execution_count": 60,
   "id": "5b5efa63",
   "metadata": {},
   "outputs": [
    {
     "name": "stdout",
     "output_type": "stream",
     "text": [
      "2\n"
     ]
    }
   ],
   "source": [
    "print(round(x))"
   ]
  },
  {
   "cell_type": "code",
   "execution_count": 61,
   "id": "de209b2e",
   "metadata": {},
   "outputs": [],
   "source": [
    "import random"
   ]
  },
  {
   "cell_type": "code",
   "execution_count": 71,
   "id": "12aeab00",
   "metadata": {},
   "outputs": [
    {
     "data": {
      "text/plain": [
       "8"
      ]
     },
     "execution_count": 71,
     "metadata": {},
     "output_type": "execute_result"
    }
   ],
   "source": [
    "random.randint(0,10)"
   ]
  },
  {
   "cell_type": "code",
   "execution_count": 80,
   "id": "3def6a20",
   "metadata": {},
   "outputs": [],
   "source": [
    "# random\n",
    "# sample\n",
    "# choices\n",
    "\n",
    "\n",
    "# sample - sample without replacement\n",
    "# choices - sample with replacement"
   ]
  },
  {
   "cell_type": "code",
   "execution_count": 73,
   "id": "20988005",
   "metadata": {},
   "outputs": [],
   "source": [
    "lst = [1,2,3,4,5,6,7,8,9,10,12,14,15]\n"
   ]
  },
  {
   "cell_type": "code",
   "execution_count": 79,
   "id": "f3f81a90",
   "metadata": {},
   "outputs": [
    {
     "data": {
      "text/plain": [
       "[10, 9, 7]"
      ]
     },
     "execution_count": 79,
     "metadata": {},
     "output_type": "execute_result"
    }
   ],
   "source": [
    "random.sample(population=lst,k=3)"
   ]
  },
  {
   "cell_type": "code",
   "execution_count": 85,
   "id": "889e0e9a",
   "metadata": {},
   "outputs": [
    {
     "data": {
      "text/plain": [
       "[8, 10, 5]"
      ]
     },
     "execution_count": 85,
     "metadata": {},
     "output_type": "execute_result"
    }
   ],
   "source": [
    "random.choices(population=lst,k=3)"
   ]
  },
  {
   "cell_type": "code",
   "execution_count": null,
   "id": "e7356f1c",
   "metadata": {},
   "outputs": [],
   "source": []
  },
  {
   "cell_type": "code",
   "execution_count": null,
   "id": "ec537966",
   "metadata": {},
   "outputs": [],
   "source": []
  }
 ],
 "metadata": {
  "kernelspec": {
   "display_name": "Python 3 (ipykernel)",
   "language": "python",
   "name": "python3"
  },
  "language_info": {
   "codemirror_mode": {
    "name": "ipython",
    "version": 3
   },
   "file_extension": ".py",
   "mimetype": "text/x-python",
   "name": "python",
   "nbconvert_exporter": "python",
   "pygments_lexer": "ipython3",
   "version": "3.9.7"
  }
 },
 "nbformat": 4,
 "nbformat_minor": 5
}
