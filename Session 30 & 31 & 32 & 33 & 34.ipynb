{
 "cells": [
  {
   "cell_type": "code",
   "execution_count": 25,
   "id": "9b9f97ea",
   "metadata": {},
   "outputs": [],
   "source": [
    "from tkinter import *\n",
    "from PIL import ImageTk,Image\n",
    "import mysql.connector\n",
    "import csv\n",
    "from tkinter import ttk"
   ]
  },
  {
   "cell_type": "code",
   "execution_count": 26,
   "id": "de80601a",
   "metadata": {},
   "outputs": [],
   "source": [
    "root = Tk()"
   ]
  },
  {
   "cell_type": "code",
   "execution_count": 27,
   "id": "4bec2403",
   "metadata": {},
   "outputs": [],
   "source": [
    "mydb = mysql.connector.connect(\n",
    "\t\thost = \"localhost\",\n",
    "\t\tuser = \"root\",\n",
    "\t\tpasswd = \"Himanshu@9716\",\n",
    "\t)"
   ]
  },
  {
   "cell_type": "code",
   "execution_count": 28,
   "id": "a9c8bdf4",
   "metadata": {},
   "outputs": [],
   "source": [
    "my_cursor = mydb.cursor()\n",
    "my_cursor.execute('CREATE DATABASE IF NOT EXISTS Codevidhya')"
   ]
  },
  {
   "cell_type": "code",
   "execution_count": 29,
   "id": "7794f2fe",
   "metadata": {},
   "outputs": [],
   "source": [
    "mydb = mysql.connector.connect(\n",
    "\t\thost = \"localhost\",\n",
    "\t\tuser = \"root\",\n",
    "\t\tpasswd = \"Himanshu@9716\",\n",
    "\t\tdatabase = \"Codevidhya\",\n",
    "\t)"
   ]
  },
  {
   "cell_type": "code",
   "execution_count": 30,
   "id": "7ea5adaf",
   "metadata": {},
   "outputs": [
    {
     "name": "stdout",
     "output_type": "stream",
     "text": [
      "<mysql.connector.connection_cext.CMySQLConnection object at 0x7fe4b3925150>\n"
     ]
    }
   ],
   "source": [
    "print(mydb)"
   ]
  },
  {
   "cell_type": "code",
   "execution_count": 31,
   "id": "091e83f0",
   "metadata": {},
   "outputs": [],
   "source": [
    "my_cursor = mydb.cursor()"
   ]
  },
  {
   "cell_type": "code",
   "execution_count": 32,
   "id": "ccd90b44",
   "metadata": {},
   "outputs": [],
   "source": [
    "my_cursor.execute(\"CREATE TABLE IF NOT EXISTS customers (first_name VARCHAR(255), \\\n",
    "\tlast_name VARCHAR(255), \\\n",
    "\tzipcode INT(10), \\\n",
    "\tprice_paid DECIMAL(10, 2), \\\n",
    "\tuser_id INT AUTO_INCREMENT PRIMARY KEY)\")"
   ]
  },
  {
   "cell_type": "code",
   "execution_count": 33,
   "id": "4d0d33d8",
   "metadata": {},
   "outputs": [
    {
     "ename": "ProgrammingError",
     "evalue": "1060 (42S21): Duplicate column name 'email'",
     "output_type": "error",
     "traceback": [
      "\u001b[0;31m---------------------------------------------------------------------------\u001b[0m",
      "\u001b[0;31mMySQLInterfaceError\u001b[0m                       Traceback (most recent call last)",
      "File \u001b[0;32m~/.local/lib/python3.10/site-packages/mysql/connector/connection_cext.py:535\u001b[0m, in \u001b[0;36mCMySQLConnection.cmd_query\u001b[0;34m(self, query, raw, buffered, raw_as_string)\u001b[0m\n\u001b[1;32m    534\u001b[0m         query \u001b[38;5;241m=\u001b[39m query\u001b[38;5;241m.\u001b[39mencode(\u001b[38;5;124m'\u001b[39m\u001b[38;5;124mutf-8\u001b[39m\u001b[38;5;124m'\u001b[39m)\n\u001b[0;32m--> 535\u001b[0m     \u001b[38;5;28;43mself\u001b[39;49m\u001b[38;5;241;43m.\u001b[39;49m\u001b[43m_cmysql\u001b[49m\u001b[38;5;241;43m.\u001b[39;49m\u001b[43mquery\u001b[49m\u001b[43m(\u001b[49m\u001b[43mquery\u001b[49m\u001b[43m,\u001b[49m\n\u001b[1;32m    536\u001b[0m \u001b[43m                       \u001b[49m\u001b[43mraw\u001b[49m\u001b[38;5;241;43m=\u001b[39;49m\u001b[43mraw\u001b[49m\u001b[43m,\u001b[49m\u001b[43m \u001b[49m\u001b[43mbuffered\u001b[49m\u001b[38;5;241;43m=\u001b[39;49m\u001b[43mbuffered\u001b[49m\u001b[43m,\u001b[49m\n\u001b[1;32m    537\u001b[0m \u001b[43m                       \u001b[49m\u001b[43mraw_as_string\u001b[49m\u001b[38;5;241;43m=\u001b[39;49m\u001b[43mraw_as_string\u001b[49m\u001b[43m,\u001b[49m\n\u001b[1;32m    538\u001b[0m \u001b[43m                       \u001b[49m\u001b[43mquery_attrs\u001b[49m\u001b[38;5;241;43m=\u001b[39;49m\u001b[38;5;28;43mself\u001b[39;49m\u001b[38;5;241;43m.\u001b[39;49m\u001b[43m_query_attrs\u001b[49m\u001b[43m)\u001b[49m\n\u001b[1;32m    539\u001b[0m \u001b[38;5;28;01mexcept\u001b[39;00m MySQLInterfaceError \u001b[38;5;28;01mas\u001b[39;00m exc:\n",
      "\u001b[0;31mMySQLInterfaceError\u001b[0m: Duplicate column name 'email'",
      "\nDuring handling of the above exception, another exception occurred:\n",
      "\u001b[0;31mProgrammingError\u001b[0m                          Traceback (most recent call last)",
      "Input \u001b[0;32mIn [33]\u001b[0m, in \u001b[0;36m<cell line: 1>\u001b[0;34m()\u001b[0m\n\u001b[0;32m----> 1\u001b[0m \u001b[43mmy_cursor\u001b[49m\u001b[38;5;241;43m.\u001b[39;49m\u001b[43mexecute\u001b[49m\u001b[43m(\u001b[49m\u001b[38;5;124;43m\"\u001b[39;49m\u001b[38;5;124;43mALTER TABLE customers ADD  (\u001b[39;49m\u001b[38;5;130;43;01m\\\u001b[39;49;00m\n\u001b[1;32m      2\u001b[0m \u001b[38;5;124;43m\temail VARCHAR(255),\u001b[39;49m\u001b[38;5;130;43;01m\\\u001b[39;49;00m\n\u001b[1;32m      3\u001b[0m \u001b[38;5;124;43m\taddress_1 VARCHAR(255),\u001b[39;49m\u001b[38;5;130;43;01m\\\u001b[39;49;00m\n\u001b[1;32m      4\u001b[0m \u001b[38;5;124;43m\taddress_2 VARCHAR(255),\u001b[39;49m\u001b[38;5;130;43;01m\\\u001b[39;49;00m\n\u001b[1;32m      5\u001b[0m \u001b[38;5;124;43m\tcity VARCHAR(50),\u001b[39;49m\u001b[38;5;130;43;01m\\\u001b[39;49;00m\n\u001b[1;32m      6\u001b[0m \u001b[38;5;124;43m\tstate VARCHAR(50),\u001b[39;49m\u001b[38;5;130;43;01m\\\u001b[39;49;00m\n\u001b[1;32m      7\u001b[0m \u001b[38;5;124;43m\tcountry VARCHAR(255),\u001b[39;49m\u001b[38;5;130;43;01m\\\u001b[39;49;00m\n\u001b[1;32m      8\u001b[0m \u001b[38;5;124;43m\tphone VARCHAR(255),\u001b[39;49m\u001b[38;5;130;43;01m\\\u001b[39;49;00m\n\u001b[1;32m      9\u001b[0m \u001b[38;5;124;43m\tpayment_method VARCHAR(50),\u001b[39;49m\u001b[38;5;130;43;01m\\\u001b[39;49;00m\n\u001b[1;32m     10\u001b[0m \u001b[38;5;124;43m\tdiscount_code VARCHAR(255))\u001b[39;49m\u001b[38;5;124;43m\"\u001b[39;49m\u001b[43m)\u001b[49m\n",
      "File \u001b[0;32m~/.local/lib/python3.10/site-packages/mysql/connector/cursor_cext.py:269\u001b[0m, in \u001b[0;36mCMySQLCursor.execute\u001b[0;34m(self, operation, params, multi)\u001b[0m\n\u001b[1;32m    265\u001b[0m             \u001b[38;5;28;01mraise\u001b[39;00m errors\u001b[38;5;241m.\u001b[39mProgrammingError(\n\u001b[1;32m    266\u001b[0m                 \u001b[38;5;124m\"\u001b[39m\u001b[38;5;124mNot all parameters were used in the SQL statement\u001b[39m\u001b[38;5;124m\"\u001b[39m)\n\u001b[1;32m    268\u001b[0m \u001b[38;5;28;01mtry\u001b[39;00m:\n\u001b[0;32m--> 269\u001b[0m     result \u001b[38;5;241m=\u001b[39m \u001b[38;5;28;43mself\u001b[39;49m\u001b[38;5;241;43m.\u001b[39;49m\u001b[43m_cnx\u001b[49m\u001b[38;5;241;43m.\u001b[39;49m\u001b[43mcmd_query\u001b[49m\u001b[43m(\u001b[49m\u001b[43mstmt\u001b[49m\u001b[43m,\u001b[49m\u001b[43m \u001b[49m\u001b[43mraw\u001b[49m\u001b[38;5;241;43m=\u001b[39;49m\u001b[38;5;28;43mself\u001b[39;49m\u001b[38;5;241;43m.\u001b[39;49m\u001b[43m_raw\u001b[49m\u001b[43m,\u001b[49m\n\u001b[1;32m    270\u001b[0m \u001b[43m                                 \u001b[49m\u001b[43mbuffered\u001b[49m\u001b[38;5;241;43m=\u001b[39;49m\u001b[38;5;28;43mself\u001b[39;49m\u001b[38;5;241;43m.\u001b[39;49m\u001b[43m_buffered\u001b[49m\u001b[43m,\u001b[49m\n\u001b[1;32m    271\u001b[0m \u001b[43m                                 \u001b[49m\u001b[43mraw_as_string\u001b[49m\u001b[38;5;241;43m=\u001b[39;49m\u001b[38;5;28;43mself\u001b[39;49m\u001b[38;5;241;43m.\u001b[39;49m\u001b[43m_raw_as_string\u001b[49m\u001b[43m)\u001b[49m\n\u001b[1;32m    272\u001b[0m \u001b[38;5;28;01mexcept\u001b[39;00m MySQLInterfaceError \u001b[38;5;28;01mas\u001b[39;00m exc:\n\u001b[1;32m    273\u001b[0m     \u001b[38;5;28;01mraise\u001b[39;00m errors\u001b[38;5;241m.\u001b[39mget_mysql_exception(msg\u001b[38;5;241m=\u001b[39mexc\u001b[38;5;241m.\u001b[39mmsg, errno\u001b[38;5;241m=\u001b[39mexc\u001b[38;5;241m.\u001b[39merrno,\n\u001b[1;32m    274\u001b[0m                                      sqlstate\u001b[38;5;241m=\u001b[39mexc\u001b[38;5;241m.\u001b[39msqlstate)\n",
      "File \u001b[0;32m~/.local/lib/python3.10/site-packages/mysql/connector/connection_cext.py:540\u001b[0m, in \u001b[0;36mCMySQLConnection.cmd_query\u001b[0;34m(self, query, raw, buffered, raw_as_string)\u001b[0m\n\u001b[1;32m    535\u001b[0m     \u001b[38;5;28mself\u001b[39m\u001b[38;5;241m.\u001b[39m_cmysql\u001b[38;5;241m.\u001b[39mquery(query,\n\u001b[1;32m    536\u001b[0m                        raw\u001b[38;5;241m=\u001b[39mraw, buffered\u001b[38;5;241m=\u001b[39mbuffered,\n\u001b[1;32m    537\u001b[0m                        raw_as_string\u001b[38;5;241m=\u001b[39mraw_as_string,\n\u001b[1;32m    538\u001b[0m                        query_attrs\u001b[38;5;241m=\u001b[39m\u001b[38;5;28mself\u001b[39m\u001b[38;5;241m.\u001b[39m_query_attrs)\n\u001b[1;32m    539\u001b[0m \u001b[38;5;28;01mexcept\u001b[39;00m MySQLInterfaceError \u001b[38;5;28;01mas\u001b[39;00m exc:\n\u001b[0;32m--> 540\u001b[0m     \u001b[38;5;28;01mraise\u001b[39;00m errors\u001b[38;5;241m.\u001b[39mget_mysql_exception(exc\u001b[38;5;241m.\u001b[39merrno, msg\u001b[38;5;241m=\u001b[39mexc\u001b[38;5;241m.\u001b[39mmsg,\n\u001b[1;32m    541\u001b[0m                                      sqlstate\u001b[38;5;241m=\u001b[39mexc\u001b[38;5;241m.\u001b[39msqlstate)\n\u001b[1;32m    542\u001b[0m \u001b[38;5;28;01mexcept\u001b[39;00m \u001b[38;5;167;01mAttributeError\u001b[39;00m:\n\u001b[1;32m    543\u001b[0m     \u001b[38;5;28;01mif\u001b[39;00m \u001b[38;5;28mself\u001b[39m\u001b[38;5;241m.\u001b[39m_unix_socket:\n",
      "\u001b[0;31mProgrammingError\u001b[0m: 1060 (42S21): Duplicate column name 'email'"
     ]
    }
   ],
   "source": [
    "my_cursor.execute(\"ALTER TABLE customers ADD  (\\\n",
    "\temail VARCHAR(255),\\\n",
    "\taddress_1 VARCHAR(255),\\\n",
    "\taddress_2 VARCHAR(255),\\\n",
    "\tcity VARCHAR(50),\\\n",
    "\tstate VARCHAR(50),\\\n",
    "\tcountry VARCHAR(255),\\\n",
    "\tphone VARCHAR(255),\\\n",
    "\tpayment_method VARCHAR(50),\\\n",
    "\tdiscount_code VARCHAR(255))\")"
   ]
  },
  {
   "cell_type": "code",
   "execution_count": null,
   "id": "6425f3d6",
   "metadata": {},
   "outputs": [],
   "source": [
    "my_cursor.execute(\"SELECT * FROM customers\")\n",
    "print(my_cursor.description)\n"
   ]
  },
  {
   "cell_type": "code",
   "execution_count": 34,
   "id": "d9ddb481",
   "metadata": {},
   "outputs": [],
   "source": [
    "title_label = Label(root,text='XOXO Customer Databse')\n",
    "title_label.grid(row=0,column=0,columnspan=2,pady=10)"
   ]
  },
  {
   "cell_type": "code",
   "execution_count": 35,
   "id": "14c6d8b1",
   "metadata": {},
   "outputs": [],
   "source": [
    "first_name_label = Label(root,text='First Name').grid(row=1,column=0,sticky=W,padx=10)\n",
    "last_name_label = Label(root,text='Last Name').grid(row=2,column=0,sticky=W,padx=10)\n",
    "address1_label = Label(root,text='Address 1').grid(row=3,column=0,sticky=W,padx=10)\n",
    "address2_label = Label(root,text='Address 2').grid(row=4,column=0,sticky=W,padx=10)\n",
    "city_label = Label(root,text='City').grid(row=5,column=0,sticky=W,padx=10)\n",
    "state_label = Label(root,text='State').grid(row=6,column=0,sticky=W,padx=10)\n",
    "zipcode_label = Label(root,text='Zipcode').grid(row=7,column=0,sticky=W,padx=10)\n",
    "country_label = Label(root,text='Country').grid(row=8,column=0,sticky=W,padx=10)\n",
    "phone_label = Label(root,text='Phone Number').grid(row=9,column=0,sticky=W,padx=10)\n",
    "email_label = Label(root,text='Email').grid(row=10,column=0,sticky=W,padx=10)\n",
    "payment_method_label = Label(root,text='Payment Method').grid(row=11,column=0,sticky=W,padx=10)\n",
    "discount_code_label = Label(root,text='Discount Code').grid(row=12,column=0,sticky=W,padx=10)\n",
    "price_paid_label = Label(root,text='Price Paid').grid(row=13,column=0,sticky=W,padx=10)\n"
   ]
  },
  {
   "cell_type": "code",
   "execution_count": 36,
   "id": "014cf350",
   "metadata": {},
   "outputs": [],
   "source": [
    "first_name_box = Entry(root)\n",
    "first_name_box.grid(row=1,column=1)\n",
    "\n",
    "last_name_box = Entry(root)\n",
    "last_name_box.grid(row=2,column=1)\n",
    "\n",
    "address1_box = Entry(root)\n",
    "address1_box.grid(row=3,column=1)\n",
    "\n",
    "address2_box = Entry(root)\n",
    "address2_box.grid(row=4,column=1)\n",
    "\n",
    "city_box = Entry(root)\n",
    "city_box.grid(row=5,column=1)\n",
    "\n",
    "state_box = Entry(root)\n",
    "state_box.grid(row=6,column=1)\n",
    "\n",
    "zipcode_box = Entry(root)\n",
    "zipcode_box.grid(row=7,column=1)\n",
    "\n",
    "country_box = Entry(root)\n",
    "country_box.grid(row=8,column=1)\n",
    "\n",
    "phone_box = Entry(root)\n",
    "phone_box.grid(row=9,column=1)\n",
    "\n",
    "email_box = Entry(root)\n",
    "email_box.grid(row=10,column=1)\n",
    "\n",
    "payment_method_box = Entry(root)\n",
    "payment_method_box.grid(row=11,column=1)\n",
    "\n",
    "discount_code_box = Entry(root)\n",
    "discount_code_box.grid(row=12,column=1)\n",
    "\n",
    "price_paid_box = Entry(root)\n",
    "price_paid_box.grid(row=13,column=1)"
   ]
  },
  {
   "cell_type": "code",
   "execution_count": 37,
   "id": "0c5d0f5f",
   "metadata": {},
   "outputs": [],
   "source": [
    "def clear_fields():\n",
    "\tfirst_name_box.delete(0, END)\n",
    "\tlast_name_box.delete(0, END)\n",
    "\taddress1_box.delete(0, END)\n",
    "\taddress2_box.delete(0, END)\n",
    "\tcity_box.delete(0, END)\n",
    "\tstate_box.delete(0, END)\n",
    "\tzipcode_box.delete(0, END)\n",
    "\tcountry_box.delete(0, END)\n",
    "\tphone_box.delete(0, END)\n",
    "\temail_box.delete(0, END)\n",
    "\tpayment_method_box.delete(0, END)\n",
    "\tdiscount_code_box.delete(0, END)\n",
    "\tprice_paid_box.delete(0, END)"
   ]
  },
  {
   "cell_type": "code",
   "execution_count": 38,
   "id": "279d884f",
   "metadata": {},
   "outputs": [],
   "source": [
    "def add_customer():\n",
    "\tsql_command = \"INSERT INTO customers (first_name, last_name, zipcode, price_paid, email, address_1, address_2, city, state, country, phone, payment_method, discount_code) VALUES (%s, %s, %s, %s, %s, %s, %s, %s, %s, %s, %s, %s, %s)\"\n",
    "\t# %s is just a wild card entry we can susbtiute any value. We give a tuple of all the required values\n",
    "\t# Values\n",
    "\tvalues = (first_name_box.get(), last_name_box.get(), zipcode_box.get(), price_paid_box.get(), email_box.get(), address1_box.get(), address2_box.get(), city_box.get(), state_box.get(), country_box.get(), phone_box.get(), payment_method_box.get(), discount_code_box.get())\n",
    "\t# Syntax if we use placeholders\n",
    "\tmy_cursor.execute(sql_command, values)\n",
    "\n",
    "\t# Commit the changes to the database\n",
    "\tmydb.commit()\n",
    "\t# Clear the fields\n",
    "\tclear_fields()"
   ]
  },
  {
   "cell_type": "code",
   "execution_count": 39,
   "id": "b183ead5",
   "metadata": {},
   "outputs": [],
   "source": [
    "add_customer_button = Button(root,text='Add customer to database', command=add_customer)\n",
    "add_customer_button.grid(row=14,column=0,padx=10,pady=10)\n",
    "\n",
    "\n",
    "clear_fields_button = Button(root,text='Clear Field', command=clear_fields)\n",
    "clear_fields_button.grid(row=14,column=1)"
   ]
  },
  {
   "cell_type": "code",
   "execution_count": 40,
   "id": "95908068",
   "metadata": {},
   "outputs": [],
   "source": [
    "def list_customers():\n",
    "\tlist_customer_query = Tk()\n",
    "\tlist_customer_query.title(\"List All Customers\")\n",
    "\t# Query The Database\n",
    "\tmy_cursor.execute(\"SELECT * FROM customers\")\n",
    "\tresult = my_cursor.fetchall()\n",
    "\t\n",
    "\tfor index, x in enumerate(result):\n",
    "\t\tnum = 0\n",
    "\t\tfor y in x:\n",
    "\t\t\tlookup_label = Label(list_customer_query, text=y)\n",
    "\t\t\tlookup_label.grid(row=index, column=num)\n",
    "\t\t\tnum +=1\n",
    "\tcsv_button = Button(list_customer_query, text=\"Save to Excel\", command=lambda: write_to_csv(result))\n",
    "\tcsv_button.grid(row=index+1, column=0)"
   ]
  },
  {
   "cell_type": "code",
   "execution_count": 41,
   "id": "d13822d9",
   "metadata": {},
   "outputs": [],
   "source": [
    "list_customers_button = Button(root,text='List of Customers', command=list_customers)\n",
    "list_customers_button.grid(row=15,column=0,sticky=W,padx=10)"
   ]
  },
  {
   "cell_type": "code",
   "execution_count": 42,
   "id": "8c83425d",
   "metadata": {},
   "outputs": [
    {
     "name": "stdout",
     "output_type": "stream",
     "text": [
      "0 apple\n",
      "1 ball\n",
      "2 cat\n",
      "3 dog\n",
      "4 egg\n",
      "5 fish\n"
     ]
    }
   ],
   "source": [
    "# for reference only\n",
    "x = ['apple','ball','cat','dog','egg','fish']\n",
    "\n",
    "for i,y in enumerate(x):\n",
    "    print(i,y)"
   ]
  },
  {
   "cell_type": "code",
   "execution_count": 43,
   "id": "f22112b2",
   "metadata": {},
   "outputs": [],
   "source": [
    "def write_to_csv(result):\n",
    "\twith open('customers.csv', 'a', newline='') as f:\n",
    "\t\tw = csv.writer(f, dialect='excel')\n",
    "\t\tfor record in result:\n",
    "\t\t\tw.writerow(record)\n"
   ]
  },
  {
   "cell_type": "code",
   "execution_count": 44,
   "id": "a624e992",
   "metadata": {},
   "outputs": [],
   "source": [
    "def search_customer():\n",
    "\t# Creating a new window for searching purpose\n",
    "\tsearch_customers = Tk()\n",
    "\tsearch_customers.title(\"Search Customers\")\n",
    "    # Entry box to search for customer\n",
    "\tsearch_box = Entry(search_customers)\n",
    "\tsearch_box.grid(row=0, column=1, padx=10, pady=10)\n",
    "\t# Entry box Label search for customer\n",
    "\tsearch_box_label = Label(search_customers, text=\"Search Customers \")\n",
    "\tsearch_box_label.grid(row=0, column=0, padx=10, pady=10)\n",
    "\t# Entry box search  Button for customer\n",
    "\tsearch_button = Button(search_customers, text=\"Search Customers\", command=search_now)\n",
    "\tsearch_button.grid(row=1, column=0, padx=10)\n",
    "    # Drop Down Box\n",
    "\tdrop = ttk.Combobox(search_customers, value=[\"Search by...\", \"Last Name\", \"Email Address\", \"Customer ID\"])\n",
    "\tdrop.current(0)\n",
    "\tdrop.grid(row=0, column=2)"
   ]
  },
  {
   "cell_type": "code",
   "execution_count": 45,
   "id": "7ab47c23",
   "metadata": {},
   "outputs": [],
   "source": [
    "search_customers_button = Button(root,text='Search Customers', command=search_customer)\n",
    "search_customers_button.grid(row=15,column=1,sticky=W,padx=10)"
   ]
  },
  {
   "cell_type": "code",
   "execution_count": 46,
   "id": "535f7e1e",
   "metadata": {},
   "outputs": [],
   "source": [
    "def search_now():\n",
    "\t\t# First we get the result from dropdown\n",
    "\t\tselected = drop.get()\n",
    "\t\tsql = \"\"\n",
    "\t\n",
    "\t\tif selected == \"Search by...\":\n",
    "\t\t\ttest = Label(search_customers, text=\"Hey! You forgot to pick a drop down selection\")\n",
    "\t\t\ttest.grid(row=2, column=0)\n",
    "\t\tif selected == \"Last Name\":\n",
    "\t\t\tsql = \"SELECT * FROM customers WHERE last_name = %s\"\n",
    "\t\t\t\n",
    "\t\tif selected == \"Email Address\":\n",
    "\t\t\tsql = \"SELECT * FROM customers WHERE email = %s\"\n",
    "\t\t\t\n",
    "\t\tif selected == \"Customer ID\":\n",
    "\t\t\tsql = \"SELECT * FROM customers WHERE user_id = %s\"\n",
    "\n",
    "\t\t\n",
    "\t\tsearched = search_box.get()\n",
    "\t\t# Conditio according to last name\n",
    "\t\t#sql = \"SELECT * FROM customers WHERE last_name = %s\"\n",
    "\t\tname = (searched, )\n",
    "\t\tresult = my_cursor.execute(sql, name)\n",
    "\t\tresult = my_cursor.fetchall()\n",
    "\n",
    "\t\tif not result: \n",
    "\t\t\tresult = \"Record Not Found...\"\n",
    "\t\t\tsearched_label = Label(search_customers, text=result)\n",
    "\t\t\tsearched_label.grid(row=2, column=0)\n",
    "\t\t\n",
    "\t\telse:\n",
    "\t\t\t# Each x is a customer.\n",
    "\t\t\tfor index, x in enumerate(result):\n",
    "\t\t\t\tnum = 0\n",
    "\t\t\t\tindex += 2\n",
    "\t\t\t\t# Fifth element of each customer is the id_number\n",
    "\t\t\t\tid_reference = str(x[4])\n",
    "\t\t\t\t# Note the command we have to do this trick to the command becase if we simply \n",
    "\t\t\t\t# Write lambda : edit(id_reference , index) always id_reference of the last customer will be send.\n",
    "\t\t\t\tedit_button = Button(search_customers, text=\"Edit\", command=lambda id_reference=id_reference: edit_now(id_reference, index))\n",
    "\t\t\t\tedit_button.grid(row=index, column=num)\n",
    "\t\t\t\tfor y in x:\n",
    "\t\t\t\t\tsearched_label = Label(search_customers, text=y)\n",
    "\t\t\t\t\tsearched_label.grid(row=index, column=num+1)\n",
    "\t\t\t\t\tnum +=1\n",
    "\t\t\t \n",
    "\t\t\tcsv_button = Button(search_customers, text=\"Save to Excel\", command=lambda: write_to_csv(result))\n",
    "\t\t\tcsv_button.grid(row=index+1, column=0)\n",
    "\t\t\n",
    "\t\t# This is not asthetic way of printing the results\n",
    "\t\t#searched_label = Label(search_customers, text=result)\n",
    "\t\t#searched_label.grid(row=3, column=0, padx=10, columnspan=2)\n",
    "\t\t"
   ]
  },
  {
   "cell_type": "code",
   "execution_count": 47,
   "id": "f2cae1be",
   "metadata": {},
   "outputs": [],
   "source": []
  },
  {
   "cell_type": "code",
   "execution_count": 48,
   "id": "62e5efdd",
   "metadata": {},
   "outputs": [],
   "source": [
    "def edit_now(id,index):\n",
    "    sql2  = 'SELECT * FROM customers WHERE user_id = %s'\n",
    "    name2 = (id, )\n",
    "    result2 = my_cursor.execute(sql2, name2)\n",
    "    result2 = my_cursor.fetchall()\n",
    "    index +=1\n",
    "    \n",
    "    first_name_label = Label(search_customers, text=\"First Name\").grid(row=index+1, column=0, sticky=W, padx=10, pady=10)\n",
    "    last_name_label = Label(search_customers, text=\"Last Name\").grid(row=index+2, column=0, sticky=W, padx=10)\n",
    "    address1_label = Label(search_customers, text=\"Address 1\").grid(row=index+3, column=0, sticky=W, padx=10)\n",
    "    address2_label = Label(search_customers, text=\"Address 2\").grid(row=index+4, column=0, sticky=W, padx=10)\n",
    "    city_label = Label(search_customers, text=\"City\").grid(row=index+5, column=0, sticky=W, padx=10)\n",
    "    state_label = Label(search_customers, text=\"State\").grid(row=index+6, column=0, sticky=W, padx=10)\n",
    "    zipcode_label = Label(search_customers, text=\"Zipcode\").grid(row=index+7, column=0, sticky=W, padx=10)\n",
    "    country_label = Label(search_customers, text=\"Country\").grid(row=index+8, column=0, sticky=W, padx=10)\n",
    "    phone_label = Label(search_customers, text=\"Phone Number\").grid(row=index+9, column=0, sticky=W, padx=10)\n",
    "    email_label = Label(search_customers, text=\"Email Address\").grid(row=index+10, column=0, sticky=W, padx=10)\n",
    "    payment_method_label = Label(search_customers, text=\"Payment Method\").grid(row=index+11, column=0, sticky=W, padx=10)\n",
    "    discount_code_label = Label(search_customers, text=\"Discount Code\").grid(row=index+12, column=0, sticky=W, padx=10)\n",
    "    price_paid_label = Label(search_customers, text=\"Price Paid\").grid(row=index+13, column=0, sticky=W, padx=10)\n",
    "    id_label = Label(search_customers, text=\"User ID\").grid(row=index+14, column=0, sticky=W, padx=10)\n",
    "    \n",
    "    \n",
    "    global first_name_box2\n",
    "    first_name_box2 = Entry(search_customers)\n",
    "    first_name_box2.grid(row=index+1, column=1, pady=10)\n",
    "    first_name_box2.insert(0, result2[0][0])\n",
    "\n",
    "    global last_name_box2\n",
    "    last_name_box2 = Entry(search_customers)\n",
    "    last_name_box2.grid(row=index+2, column=1, pady=5)\n",
    "    last_name_box2.insert(0, result2[0][1])\n",
    "\n",
    "    global address1_box2\n",
    "    address1_box2 = Entry(search_customers)\n",
    "    address1_box2.grid(row=index+3, column=1, pady=5)\n",
    "    address1_box2.insert(0, result2[0][6])\n",
    "\n",
    "    global address2_box2\n",
    "    address2_box2 = Entry(search_customers)\n",
    "    address2_box2.grid(row=index+4, column=1, pady=5)\n",
    "    address2_box2.insert(0, result2[0][7])\n",
    "    \n",
    "    global city_box2 \n",
    "    city_box2 = Entry(search_customers)\n",
    "    city_box2.grid(row=index+5, column=1, pady=5)\n",
    "    city_box2.insert(0, result2[0][8])\n",
    "\n",
    "    global state_box2\n",
    "    state_box2 = Entry(search_customers)\n",
    "    state_box2.grid(row=index+6, column=1, pady=5)\n",
    "    state_box2.insert(0, result2[0][9])\n",
    "\n",
    "    global zipcode_box2\n",
    "    zipcode_box2 = Entry(search_customers)\n",
    "    zipcode_box2.grid(row=index+7, column=1, pady=5)\n",
    "    zipcode_box2.insert(0, result2[0][2])\n",
    "\n",
    "    global country_box2\n",
    "    country_box2 = Entry(search_customers)\n",
    "    country_box2.grid(row=index+8, column=1, pady=5)\n",
    "    country_box2.insert(0, result2[0][10])\n",
    "    \n",
    "    \n",
    "    global phone_box2\n",
    "    phone_box2 = Entry(search_customers)\n",
    "    phone_box2.grid(row=index+9, column=1, pady=5)\n",
    "    phone_box2.insert(0, result2[0][11])\n",
    "\n",
    "    global email_box2\n",
    "    email_box2 = Entry(search_customers)\n",
    "    email_box2.grid(row=index+10, column=1, pady=5)\n",
    "    email_box2.insert(0, result2[0][5])\n",
    "\n",
    "    global payment_method_box2\n",
    "    payment_method_box2 = Entry(search_customers)\n",
    "    payment_method_box2.grid(row=index+11, column=1, pady=5)\n",
    "    payment_method_box2.insert(0, result2[0][12])\n",
    "\n",
    "    global discount_code_box2\n",
    "    discount_code_box2 = Entry(search_customers)\n",
    "    discount_code_box2.grid(row=index+12, column=1, pady=5)\n",
    "    discount_code_box2.insert(0, result2[0][13])\n",
    "\n",
    "    global price_paid_box2\n",
    "    price_paid_box2 = Entry(search_customers)\n",
    "    price_paid_box2.grid(row=index+13, column=1, pady=5)\n",
    "    price_paid_box2.insert(0, result2[0][3])\n",
    "\n",
    "    global id_box2\n",
    "    id_box2 = Entry(search_customers)\n",
    "    id_box2.grid(row=index+14, column=1, pady=5)\n",
    "    id_box2.insert(0, result2[0][4])\n",
    "    \n",
    "    save_record = Button(search_customers, text=\"Update Record\", command=update)\n",
    "    save_record.grid(row=index+15, column=0, padx=10)\n",
    "    Button(search_customers , text = \"QUIT\" , command = search_customers.destroy).grid(row=index+15, column=1, padx=10)\n",
    "\n"
   ]
  },
  {
   "cell_type": "code",
   "execution_count": 49,
   "id": "4994a4a0",
   "metadata": {},
   "outputs": [],
   "source": [
    "def update():\n",
    "    sql_command = \"\"\"UPDATE customers SET first_name = %s, last_name = %s, zipcode = %s, price_paid = %s, email = %s, address_1 = %s, address_2 = %s, city = %s, state = %s, country = %s, phone = %s, payment_method = %s, discount_code = %s WHERE user_id = %s\"\"\"\n",
    "    first_name = first_name_box2.get()\n",
    "    last_name = last_name_box2.get()\n",
    "    zipcode = zipcode_box2.get()\n",
    "    price_paid = price_paid_box2.get()\n",
    "    email = email_box2.get()\n",
    "    address_1 = address1_box2.get()\n",
    "    address_2 = address2_box2.get()\n",
    "    city = city_box2.get()\n",
    "    state = state_box2.get()\n",
    "    country = country_box2.get()\n",
    "    phone = phone_box2.get()\n",
    "    payment_method = payment_method_box2.get()\n",
    "    discount_code = discount_code_box2.get()\n",
    "    id_value = id_box2.get()\n",
    "    inputs = (first_name, last_name, zipcode, price_paid, email, address_1, address_2, city, state, country, phone, payment_method, discount_code, id_value)\n",
    "    my_cursor.execute(sql_command, inputs)\n",
    "    mydb.commit()\n"
   ]
  },
  {
   "cell_type": "code",
   "execution_count": null,
   "id": "f06db2db",
   "metadata": {},
   "outputs": [],
   "source": []
  }
 ],
 "metadata": {
  "kernelspec": {
   "display_name": "Python 3 (ipykernel)",
   "language": "python",
   "name": "python3"
  },
  "language_info": {
   "codemirror_mode": {
    "name": "ipython",
    "version": 3
   },
   "file_extension": ".py",
   "mimetype": "text/x-python",
   "name": "python",
   "nbconvert_exporter": "python",
   "pygments_lexer": "ipython3",
   "version": "3.10.4"
  }
 },
 "nbformat": 4,
 "nbformat_minor": 5
}
