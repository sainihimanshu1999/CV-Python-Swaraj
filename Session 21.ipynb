{
 "cells": [
  {
   "cell_type": "code",
   "execution_count": 27,
   "id": "accbc467",
   "metadata": {},
   "outputs": [],
   "source": [
    "from tkinter import *"
   ]
  },
  {
   "cell_type": "code",
   "execution_count": 28,
   "id": "cd64bd61",
   "metadata": {},
   "outputs": [],
   "source": [
    "root = Tk()"
   ]
  },
  {
   "cell_type": "code",
   "execution_count": 29,
   "id": "40744e32",
   "metadata": {},
   "outputs": [],
   "source": [
    "def swaraj():\n",
    "    myLabel = Label(root,text='Hi i am swaraj and i clicked on this button')\n",
    "    myLabel.pack()"
   ]
  },
  {
   "cell_type": "code",
   "execution_count": 30,
   "id": "560a9c2d",
   "metadata": {},
   "outputs": [],
   "source": [
    "button = Button(root,text='Click Me', padx= 100, pady=120,command=swaraj, activebackground='Blue',activeforeground='Green',fg='red',bg='black')"
   ]
  },
  {
   "cell_type": "code",
   "execution_count": 31,
   "id": "244b0f4f",
   "metadata": {},
   "outputs": [],
   "source": [
    "button.pack()"
   ]
  },
  {
   "cell_type": "code",
   "execution_count": 32,
   "id": "fde68ee5",
   "metadata": {},
   "outputs": [],
   "source": [
    "en = Entry(root, width = 50)"
   ]
  },
  {
   "cell_type": "code",
   "execution_count": 33,
   "id": "07486215",
   "metadata": {},
   "outputs": [],
   "source": [
    "en.pack()"
   ]
  },
  {
   "cell_type": "code",
   "execution_count": 34,
   "id": "d796ec86",
   "metadata": {},
   "outputs": [],
   "source": [
    "def retro():\n",
    "    myLabel1 = Label(root, text='Hello' +en.get())\n",
    "    myLabel1.pack()"
   ]
  },
  {
   "cell_type": "code",
   "execution_count": 35,
   "id": "3af684b8",
   "metadata": {},
   "outputs": [],
   "source": [
    "button2 = Button(root,text='click to be surprised',padx=70,pady=90,command=retro)"
   ]
  },
  {
   "cell_type": "code",
   "execution_count": 36,
   "id": "420d2351",
   "metadata": {},
   "outputs": [],
   "source": [
    "button2.pack()"
   ]
  },
  {
   "cell_type": "code",
   "execution_count": 37,
   "id": "d1bcc26e",
   "metadata": {},
   "outputs": [],
   "source": [
    "root.mainloop()"
   ]
  },
  {
   "cell_type": "code",
   "execution_count": null,
   "id": "6ade2bc3",
   "metadata": {},
   "outputs": [],
   "source": []
  },
  {
   "cell_type": "code",
   "execution_count": null,
   "id": "96949476",
   "metadata": {},
   "outputs": [],
   "source": []
  }
 ],
 "metadata": {
  "kernelspec": {
   "display_name": "Python 3 (ipykernel)",
   "language": "python",
   "name": "python3"
  },
  "language_info": {
   "codemirror_mode": {
    "name": "ipython",
    "version": 3
   },
   "file_extension": ".py",
   "mimetype": "text/x-python",
   "name": "python",
   "nbconvert_exporter": "python",
   "pygments_lexer": "ipython3",
   "version": "3.9.7"
  }
 },
 "nbformat": 4,
 "nbformat_minor": 5
}
