{
 "cells": [
  {
   "cell_type": "markdown",
   "id": "81dd3b06",
   "metadata": {},
   "source": [
    "# FOR LOOP"
   ]
  },
  {
   "cell_type": "code",
   "execution_count": 7,
   "id": "5811c75a",
   "metadata": {},
   "outputs": [
    {
     "name": "stdout",
     "output_type": "stream",
     "text": [
      "0\n",
      "2\n",
      "4\n",
      "6\n",
      "8\n",
      "10\n"
     ]
    }
   ],
   "source": [
    "# make a loop to print counting upto 20\n",
    "# i iterable \n",
    "# iteration one whole loop cycle\n",
    "#i =0 i =1 i =2\n",
    "#indentation - space befor excutable statement\n",
    "for i in range(0,11,2):\n",
    "    print(i)\n",
    "    \n",
    "    \n"
   ]
  },
  {
   "cell_type": "code",
   "execution_count": 5,
   "id": "63527f54",
   "metadata": {},
   "outputs": [
    {
     "name": "stdout",
     "output_type": "stream",
     "text": [
      "0\n",
      "1\n",
      "2\n",
      "3\n",
      "4\n",
      "5\n",
      "6\n",
      "7\n",
      "8\n",
      "9\n",
      "10\n"
     ]
    }
   ],
   "source": [
    "#while loop counterpart of this\n",
    "\n",
    "i = 0\n",
    "\n",
    "while i<11:\n",
    "    print(i)\n",
    "    i= i + 2\n",
    "    "
   ]
  },
  {
   "cell_type": "code",
   "execution_count": 8,
   "id": "9c8dc9dc",
   "metadata": {},
   "outputs": [
    {
     "name": "stdout",
     "output_type": "stream",
     "text": [
      "chocolate\n",
      "1\n",
      "2\n"
     ]
    }
   ],
   "source": [
    "# traversing through our list\n",
    "\n",
    "a= ['chocolate',1,2,3,4,'cars','oneplus',5,6]\n",
    "\n",
    "print(a[0])\n",
    "print(a[1])\n",
    "print(a[2])\n",
    "\n"
   ]
  },
  {
   "cell_type": "code",
   "execution_count": 9,
   "id": "e18932df",
   "metadata": {},
   "outputs": [
    {
     "name": "stdout",
     "output_type": "stream",
     "text": [
      "chocolate\n",
      "1\n",
      "2\n",
      "3\n",
      "4\n",
      "cars\n",
      "oneplus\n",
      "5\n",
      "6\n"
     ]
    }
   ],
   "source": [
    "# i means elements \n",
    "for i in a:\n",
    "    print(i)"
   ]
  },
  {
   "cell_type": "code",
   "execution_count": 10,
   "id": "5e4dc4e6",
   "metadata": {},
   "outputs": [
    {
     "data": {
      "text/plain": [
       "9"
      ]
     },
     "execution_count": 10,
     "metadata": {},
     "output_type": "execute_result"
    }
   ],
   "source": [
    "len(a)"
   ]
  },
  {
   "cell_type": "code",
   "execution_count": 14,
   "id": "706d0722",
   "metadata": {},
   "outputs": [
    {
     "name": "stdout",
     "output_type": "stream",
     "text": [
      "chocolate\n",
      "1\n",
      "2\n",
      "3\n",
      "4\n",
      "cars\n",
      "oneplus\n",
      "5\n",
      "6\n"
     ]
    }
   ],
   "source": [
    "for i in range(0,9):\n",
    "    print(a[i])\n",
    "    # 0 - 9 \n",
    "    \n",
    "# a[0], a[1],a[2]\n",
    "    "
   ]
  },
  {
   "cell_type": "code",
   "execution_count": 15,
   "id": "b5622a07",
   "metadata": {},
   "outputs": [
    {
     "name": "stdout",
     "output_type": "stream",
     "text": [
      "h\n",
      "i\n",
      " \n",
      "t\n",
      "h\n",
      "i\n",
      "s\n",
      " \n",
      "i\n",
      "s\n",
      " \n",
      "s\n",
      "w\n",
      "a\n",
      "r\n",
      "a\n",
      "j\n",
      " \n",
      "t\n",
      "h\n",
      "i\n",
      "s\n",
      " \n",
      "s\n",
      "i\n",
      "d\n",
      "e\n",
      " \n",
      "o\n",
      "f\n",
      " \n",
      "t\n",
      "h\n",
      "e\n",
      " \n",
      "s\n",
      "c\n",
      "r\n",
      "e\n",
      "e\n",
      "n\n"
     ]
    }
   ],
   "source": [
    "# traversing through our string\n",
    "\n",
    "b = 'hi this is swaraj this side of the screen'\n",
    "\n",
    "for i in b:\n",
    "    print(i)\n",
    "\n"
   ]
  },
  {
   "cell_type": "code",
   "execution_count": 16,
   "id": "ddb868a6",
   "metadata": {},
   "outputs": [
    {
     "name": "stdout",
     "output_type": "stream",
     "text": [
      "h\n",
      "i\n",
      " \n",
      "t\n",
      "h\n",
      "i\n",
      "s\n",
      " \n",
      "i\n",
      "s\n",
      " \n",
      "s\n",
      "w\n",
      "a\n",
      "r\n",
      "a\n",
      "j\n",
      " \n",
      "t\n",
      "h\n",
      "i\n",
      "s\n",
      " \n",
      "s\n",
      "i\n",
      "d\n",
      "e\n",
      " \n",
      "o\n",
      "f\n",
      " \n",
      "t\n",
      "h\n",
      "e\n",
      " \n",
      "s\n",
      "c\n",
      "r\n",
      "e\n",
      "e\n",
      "n\n"
     ]
    }
   ],
   "source": [
    "for i in range(0,len(b)):\n",
    "    print(b[i])"
   ]
  },
  {
   "cell_type": "markdown",
   "id": "6a50c842",
   "metadata": {},
   "source": [
    "# OPERATORS"
   ]
  },
  {
   "cell_type": "code",
   "execution_count": 19,
   "id": "05d53246",
   "metadata": {},
   "outputs": [
    {
     "name": "stdout",
     "output_type": "stream",
     "text": [
      "0\n",
      "2\n",
      "4\n",
      "6\n",
      "8\n",
      "10\n",
      "12\n",
      "14\n",
      "16\n",
      "18\n",
      "20\n"
     ]
    }
   ],
   "source": [
    "    # range operator\n",
    "    # range(start,end,increment)\n",
    "\n",
    "    for i in range(0,21,2):\n",
    "        print(i)"
   ]
  },
  {
   "cell_type": "code",
   "execution_count": 23,
   "id": "5fe84f74",
   "metadata": {},
   "outputs": [
    {
     "name": "stdout",
     "output_type": "stream",
     "text": [
      "1\n",
      "9\n",
      "25\n",
      "49\n",
      "81\n",
      "121\n",
      "169\n",
      "225\n",
      "289\n",
      "361\n",
      "441\n",
      "529\n",
      "625\n",
      "729\n",
      "841\n"
     ]
    }
   ],
   "source": [
    "# 2*2 = 4\n",
    "#3*3 = 9\n",
    "# sqaures of 30 numbers\n",
    "for i in range(1,31,2):\n",
    "    print(i*i)"
   ]
  },
  {
   "cell_type": "code",
   "execution_count": 26,
   "id": "5c9f291f",
   "metadata": {},
   "outputs": [
    {
     "name": "stdout",
     "output_type": "stream",
     "text": [
      "False\n"
     ]
    }
   ],
   "source": [
    "# in operator\n",
    "# in operator just gives the boolean value which means true or false\n",
    "a = ['x','y','z','c','b']\n",
    "print('a' in a)"
   ]
  },
  {
   "cell_type": "code",
   "execution_count": 31,
   "id": "70ce91b8",
   "metadata": {},
   "outputs": [
    {
     "name": "stdout",
     "output_type": "stream",
     "text": [
      "a\n",
      "z\n"
     ]
    }
   ],
   "source": [
    "# minimum aka min\n",
    "# maximum aka max \n",
    "\n",
    "# min basically gives us the minimum value from the list\n",
    "\n",
    "a = [123,455,901213,493482734,23012931023,75849]\n",
    "b = ['a','b','c','d','z','e','f','g']\n",
    "print(min(b))\n",
    "\n",
    "\n",
    "# max gives us the maximum value from the list\n",
    "\n",
    "print(max(b))"
   ]
  },
  {
   "cell_type": "code",
   "execution_count": 32,
   "id": "71dbca53",
   "metadata": {},
   "outputs": [],
   "source": [
    "# modules and libraries in python\n",
    "\n",
    "from random import shuffle"
   ]
  },
  {
   "cell_type": "code",
   "execution_count": 41,
   "id": "0d1592c9",
   "metadata": {
    "scrolled": true
   },
   "outputs": [
    {
     "name": "stdout",
     "output_type": "stream",
     "text": [
      "[7, 6, 'jack', 8, 9, 'king', 'queen', 10]\n"
     ]
    }
   ],
   "source": [
    "a = ['king','queen','jack',10,9,8,7,6]\n",
    "shuffle(a)\n",
    "print(a)"
   ]
  },
  {
   "cell_type": "code",
   "execution_count": 42,
   "id": "8facd945",
   "metadata": {},
   "outputs": [],
   "source": [
    "from random import randint"
   ]
  },
  {
   "cell_type": "code",
   "execution_count": 48,
   "id": "8ae16608",
   "metadata": {},
   "outputs": [
    {
     "data": {
      "text/plain": [
       "42"
      ]
     },
     "execution_count": 48,
     "metadata": {},
     "output_type": "execute_result"
    }
   ],
   "source": [
    "randint(0,100)"
   ]
  },
  {
   "cell_type": "code",
   "execution_count": null,
   "id": "4a6da474",
   "metadata": {},
   "outputs": [],
   "source": []
  }
 ],
 "metadata": {
  "kernelspec": {
   "display_name": "Python 3 (ipykernel)",
   "language": "python",
   "name": "python3"
  },
  "language_info": {
   "codemirror_mode": {
    "name": "ipython",
    "version": 3
   },
   "file_extension": ".py",
   "mimetype": "text/x-python",
   "name": "python",
   "nbconvert_exporter": "python",
   "pygments_lexer": "ipython3",
   "version": "3.9.7"
  }
 },
 "nbformat": 4,
 "nbformat_minor": 5
}
