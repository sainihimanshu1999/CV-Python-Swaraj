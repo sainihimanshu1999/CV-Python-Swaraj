{
 "cells": [
  {
   "cell_type": "code",
   "execution_count": 1,
   "id": "a673f449",
   "metadata": {},
   "outputs": [],
   "source": [
    "# askopenfile function in Tkinter"
   ]
  },
  {
   "cell_type": "code",
   "execution_count": 3,
   "id": "4d01ff8b",
   "metadata": {},
   "outputs": [],
   "source": [
    "from tkinter import *\n",
    "import PIL\n",
    "from PIL import ImageTk,Image\n",
    "from tkinter import filedialog"
   ]
  },
  {
   "cell_type": "code",
   "execution_count": 23,
   "id": "ce3a023b",
   "metadata": {},
   "outputs": [],
   "source": [
    "root = Tk()"
   ]
  },
  {
   "cell_type": "code",
   "execution_count": 24,
   "id": "a4ac899f",
   "metadata": {},
   "outputs": [],
   "source": [
    "#create open dialog box function\n",
    "\n",
    "def open_image():\n",
    "    root.filename = filedialog.askopenfilename(initialdir='/home/himanshu/CV-Python-Swaraj', title='Open an Image file',\n",
    "                                              filetypes=(('PNG File','*.png'),('ALL Files','*.*'),('Ico File','*.ico')))\n",
    "    \n",
    "    global my_img\n",
    "    \n",
    "    my_img = ImageTk.PhotoImage(Image.open(root.filename))\n",
    "    img_label = Label(root,image=my_img)\n",
    "    img_label.pack()\n",
    "    "
   ]
  },
  {
   "cell_type": "code",
   "execution_count": 25,
   "id": "77cfd006",
   "metadata": {},
   "outputs": [],
   "source": [
    "def save():\n",
    "    files = [('All Files','*.*'),\n",
    "            ('Python Files','*.py'),\n",
    "            ('Text Documents','*.txt')]\n",
    "    \n",
    "    file = asksavefile(filetypes=files, defaultextensions=files)"
   ]
  },
  {
   "cell_type": "code",
   "execution_count": 26,
   "id": "39ca18f7",
   "metadata": {},
   "outputs": [],
   "source": [
    "my_button = Button(root,text='Open Image', command=open_image).pack(pady=10)"
   ]
  },
  {
   "cell_type": "code",
   "execution_count": 29,
   "id": "88839201",
   "metadata": {},
   "outputs": [],
   "source": [
    "btn = Button(root,text='Save',command=lambda:save())"
   ]
  },
  {
   "cell_type": "code",
   "execution_count": 30,
   "id": "7becd776",
   "metadata": {},
   "outputs": [],
   "source": [
    "btn.pack(side=TOP,pady=20)"
   ]
  },
  {
   "cell_type": "code",
   "execution_count": 31,
   "id": "88a558e9",
   "metadata": {},
   "outputs": [
    {
     "name": "stderr",
     "output_type": "stream",
     "text": [
      "Exception in Tkinter callback\n",
      "Traceback (most recent call last):\n",
      "  File \"/usr/lib/python3.9/tkinter/__init__.py\", line 1892, in __call__\n",
      "    return self.func(*args)\n",
      "  File \"/tmp/ipykernel_9432/4086623964.py\", line 1, in <lambda>\n",
      "    btn = Button(root,text='Save',command=lambda:save())\n",
      "  File \"/tmp/ipykernel_9432/188788631.py\", line 6, in save\n",
      "    file = asksavefile(filetypes=files, defaultextensions=files)\n",
      "NameError: name 'asksavefile' is not defined\n",
      "Exception in Tkinter callback\n",
      "Traceback (most recent call last):\n",
      "  File \"/usr/lib/python3.9/tkinter/__init__.py\", line 1892, in __call__\n",
      "    return self.func(*args)\n",
      "  File \"/tmp/ipykernel_9432/4086623964.py\", line 1, in <lambda>\n",
      "    btn = Button(root,text='Save',command=lambda:save())\n",
      "  File \"/tmp/ipykernel_9432/188788631.py\", line 6, in save\n",
      "    file = asksavefile(filetypes=files, defaultextensions=files)\n",
      "NameError: name 'asksavefile' is not defined\n",
      "Exception in Tkinter callback\n",
      "Traceback (most recent call last):\n",
      "  File \"/usr/lib/python3.9/tkinter/__init__.py\", line 1892, in __call__\n",
      "    return self.func(*args)\n",
      "  File \"/tmp/ipykernel_9432/4086623964.py\", line 1, in <lambda>\n",
      "    btn = Button(root,text='Save',command=lambda:save())\n",
      "  File \"/tmp/ipykernel_9432/188788631.py\", line 6, in save\n",
      "    file = asksavefile(filetypes=files, defaultextensions=files)\n",
      "NameError: name 'asksavefile' is not defined\n",
      "Exception in Tkinter callback\n",
      "Traceback (most recent call last):\n",
      "  File \"/usr/lib/python3.9/tkinter/__init__.py\", line 1892, in __call__\n",
      "    return self.func(*args)\n",
      "  File \"/tmp/ipykernel_9432/4086623964.py\", line 1, in <lambda>\n",
      "    btn = Button(root,text='Save',command=lambda:save())\n",
      "  File \"/tmp/ipykernel_9432/188788631.py\", line 6, in save\n",
      "    file = asksavefile(filetypes=files, defaultextensions=files)\n",
      "NameError: name 'asksavefile' is not defined\n",
      "Exception in Tkinter callback\n",
      "Traceback (most recent call last):\n",
      "  File \"/home/himanshu/.local/lib/python3.9/site-packages/PIL/Image.py\", line 2957, in open\n",
      "    fp.seek(0)\n",
      "AttributeError: 'str' object has no attribute 'seek'\n",
      "\n",
      "During handling of the above exception, another exception occurred:\n",
      "\n",
      "Traceback (most recent call last):\n",
      "  File \"/usr/lib/python3.9/tkinter/__init__.py\", line 1892, in __call__\n",
      "    return self.func(*args)\n",
      "  File \"/tmp/ipykernel_9432/2781246346.py\", line 9, in open_image\n",
      "    my_img = ImageTk.PhotoImage(Image.open(root.filename))\n",
      "  File \"/home/himanshu/.local/lib/python3.9/site-packages/PIL/Image.py\", line 2959, in open\n",
      "    fp = io.BytesIO(fp.read())\n",
      "AttributeError: 'str' object has no attribute 'read'\n"
     ]
    }
   ],
   "source": [
    "root.mainloop()"
   ]
  },
  {
   "cell_type": "code",
   "execution_count": 4,
   "id": "b2606c21",
   "metadata": {},
   "outputs": [],
   "source": [
    "master =Tk()"
   ]
  },
  {
   "cell_type": "code",
   "execution_count": 5,
   "id": "9652f493",
   "metadata": {},
   "outputs": [
    {
     "data": {
      "text/plain": [
       "''"
      ]
     },
     "execution_count": 5,
     "metadata": {},
     "output_type": "execute_result"
    }
   ],
   "source": [
    "master.geometry('400x300')\n"
   ]
  },
  {
   "cell_type": "code",
   "execution_count": 6,
   "id": "3590b47d",
   "metadata": {},
   "outputs": [],
   "source": [
    "v1 = DoubleVar()"
   ]
  },
  {
   "cell_type": "code",
   "execution_count": 7,
   "id": "2c536999",
   "metadata": {},
   "outputs": [],
   "source": [
    "def show1():\n",
    "    sel = \"Horizontal scale value = \" + str(v1.get())\n",
    "    l1.config(text=sel, font=('Courier',14))\n",
    "    \n"
   ]
  },
  {
   "cell_type": "code",
   "execution_count": 8,
   "id": "e200e7a5",
   "metadata": {},
   "outputs": [],
   "source": [
    "s1 = Scale(master,variable=v1, from_ =1, to_ =200, orient = HORIZONTAL)"
   ]
  },
  {
   "cell_type": "code",
   "execution_count": 9,
   "id": "4ca43035",
   "metadata": {},
   "outputs": [],
   "source": [
    "l3  = Label(master, text='Horizontal Scaler')\n"
   ]
  },
  {
   "cell_type": "code",
   "execution_count": 10,
   "id": "cf6f360f",
   "metadata": {},
   "outputs": [],
   "source": [
    "b1 = Button(master,text='Display Horizontal', command = show1, bg='Yellow')"
   ]
  },
  {
   "cell_type": "code",
   "execution_count": 11,
   "id": "316a044f",
   "metadata": {},
   "outputs": [],
   "source": [
    "l1=Label(master)"
   ]
  },
  {
   "cell_type": "code",
   "execution_count": 12,
   "id": "d7da1c19",
   "metadata": {},
   "outputs": [],
   "source": [
    "s1.pack(anchor=CENTER)"
   ]
  },
  {
   "cell_type": "code",
   "execution_count": 13,
   "id": "664b7680",
   "metadata": {},
   "outputs": [],
   "source": [
    "l3.pack()"
   ]
  },
  {
   "cell_type": "code",
   "execution_count": 14,
   "id": "aaefafa5",
   "metadata": {},
   "outputs": [],
   "source": [
    "b1.pack(anchor=CENTER)"
   ]
  },
  {
   "cell_type": "code",
   "execution_count": 15,
   "id": "9cae5c6f",
   "metadata": {},
   "outputs": [],
   "source": [
    "l1.pack()"
   ]
  },
  {
   "cell_type": "code",
   "execution_count": 16,
   "id": "6a60283d",
   "metadata": {},
   "outputs": [],
   "source": [
    "master.mainloop()"
   ]
  },
  {
   "cell_type": "code",
   "execution_count": null,
   "id": "989ada73",
   "metadata": {},
   "outputs": [],
   "source": []
  }
 ],
 "metadata": {
  "kernelspec": {
   "display_name": "Python 3 (ipykernel)",
   "language": "python",
   "name": "python3"
  },
  "language_info": {
   "codemirror_mode": {
    "name": "ipython",
    "version": 3
   },
   "file_extension": ".py",
   "mimetype": "text/x-python",
   "name": "python",
   "nbconvert_exporter": "python",
   "pygments_lexer": "ipython3",
   "version": "3.9.7"
  }
 },
 "nbformat": 4,
 "nbformat_minor": 5
}
