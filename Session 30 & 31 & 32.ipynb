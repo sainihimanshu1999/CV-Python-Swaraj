{
 "cells": [
  {
   "cell_type": "code",
   "execution_count": 22,
   "id": "9b9f97ea",
   "metadata": {},
   "outputs": [],
   "source": [
    "from tkinter import *\n",
    "from PIL import ImageTk,Image\n",
    "import mysql.connector\n",
    "import csv\n",
    "from tkinter import ttk"
   ]
  },
  {
   "cell_type": "code",
   "execution_count": 23,
   "id": "de80601a",
   "metadata": {},
   "outputs": [],
   "source": [
    "root = Tk()"
   ]
  },
  {
   "cell_type": "code",
   "execution_count": 24,
   "id": "7794f2fe",
   "metadata": {},
   "outputs": [],
   "source": [
    "mydb = mysql.connector.connect(\n",
    "\t\thost = \"localhost\",\n",
    "\t\tuser = \"root\",\n",
    "\t\tpasswd = \"\",\n",
    "\t\tdatabase = \"Codevidhya\",\n",
    "\t)"
   ]
  },
  {
   "cell_type": "code",
   "execution_count": 25,
   "id": "7ea5adaf",
   "metadata": {},
   "outputs": [
    {
     "name": "stdout",
     "output_type": "stream",
     "text": [
      "<mysql.connector.connection_cext.CMySQLConnection object at 0x7f87fa9ffd00>\n"
     ]
    }
   ],
   "source": [
    "print(mydb)"
   ]
  },
  {
   "cell_type": "code",
   "execution_count": 26,
   "id": "091e83f0",
   "metadata": {},
   "outputs": [],
   "source": [
    "my_cursor = mydb.cursor()"
   ]
  },
  {
   "cell_type": "code",
   "execution_count": 27,
   "id": "ccd90b44",
   "metadata": {},
   "outputs": [],
   "source": [
    "my_cursor.execute(\"CREATE TABLE IF NOT EXISTS customers (first_name VARCHAR(255), \\\n",
    "\tlast_name VARCHAR(255), \\\n",
    "\tzipcode INT(10), \\\n",
    "\tprice_paid DECIMAL(10, 2), \\\n",
    "\tuser_id INT AUTO_INCREMENT PRIMARY KEY)\")"
   ]
  },
  {
   "cell_type": "code",
   "execution_count": 28,
   "id": "4d0d33d8",
   "metadata": {},
   "outputs": [
    {
     "ename": "ProgrammingError",
     "evalue": "1060 (42S21): Duplicate column name 'email'",
     "output_type": "error",
     "traceback": [
      "\u001b[0;31m---------------------------------------------------------------------------\u001b[0m",
      "\u001b[0;31mMySQLInterfaceError\u001b[0m                       Traceback (most recent call last)",
      "File \u001b[0;32m~/.local/lib/python3.9/site-packages/mysql/connector/connection_cext.py:523\u001b[0m, in \u001b[0;36mCMySQLConnection.cmd_query\u001b[0;34m(self, query, raw, buffered, raw_as_string)\u001b[0m\n\u001b[1;32m    522\u001b[0m         query \u001b[38;5;241m=\u001b[39m query\u001b[38;5;241m.\u001b[39mencode(\u001b[38;5;124m'\u001b[39m\u001b[38;5;124mutf-8\u001b[39m\u001b[38;5;124m'\u001b[39m)\n\u001b[0;32m--> 523\u001b[0m     \u001b[38;5;28;43mself\u001b[39;49m\u001b[38;5;241;43m.\u001b[39;49m\u001b[43m_cmysql\u001b[49m\u001b[38;5;241;43m.\u001b[39;49m\u001b[43mquery\u001b[49m\u001b[43m(\u001b[49m\u001b[43mquery\u001b[49m\u001b[43m,\u001b[49m\n\u001b[1;32m    524\u001b[0m \u001b[43m                       \u001b[49m\u001b[43mraw\u001b[49m\u001b[38;5;241;43m=\u001b[39;49m\u001b[43mraw\u001b[49m\u001b[43m,\u001b[49m\u001b[43m \u001b[49m\u001b[43mbuffered\u001b[49m\u001b[38;5;241;43m=\u001b[39;49m\u001b[43mbuffered\u001b[49m\u001b[43m,\u001b[49m\n\u001b[1;32m    525\u001b[0m \u001b[43m                       \u001b[49m\u001b[43mraw_as_string\u001b[49m\u001b[38;5;241;43m=\u001b[39;49m\u001b[43mraw_as_string\u001b[49m\u001b[43m,\u001b[49m\n\u001b[1;32m    526\u001b[0m \u001b[43m                       \u001b[49m\u001b[43mquery_attrs\u001b[49m\u001b[38;5;241;43m=\u001b[39;49m\u001b[38;5;28;43mself\u001b[39;49m\u001b[38;5;241;43m.\u001b[39;49m\u001b[43m_query_attrs\u001b[49m\u001b[43m)\u001b[49m\n\u001b[1;32m    527\u001b[0m \u001b[38;5;28;01mexcept\u001b[39;00m MySQLInterfaceError \u001b[38;5;28;01mas\u001b[39;00m exc:\n",
      "\u001b[0;31mMySQLInterfaceError\u001b[0m: Duplicate column name 'email'",
      "\nDuring handling of the above exception, another exception occurred:\n",
      "\u001b[0;31mProgrammingError\u001b[0m                          Traceback (most recent call last)",
      "Input \u001b[0;32mIn [28]\u001b[0m, in \u001b[0;36m<module>\u001b[0;34m\u001b[0m\n\u001b[0;32m----> 1\u001b[0m \u001b[43mmy_cursor\u001b[49m\u001b[38;5;241;43m.\u001b[39;49m\u001b[43mexecute\u001b[49m\u001b[43m(\u001b[49m\u001b[38;5;124;43m\"\u001b[39;49m\u001b[38;5;124;43mALTER TABLE customers ADD  (\u001b[39;49m\u001b[38;5;130;43;01m\\\u001b[39;49;00m\n\u001b[1;32m      2\u001b[0m \u001b[38;5;124;43m\temail VARCHAR(255),\u001b[39;49m\u001b[38;5;130;43;01m\\\u001b[39;49;00m\n\u001b[1;32m      3\u001b[0m \u001b[38;5;124;43m\taddress_1 VARCHAR(255),\u001b[39;49m\u001b[38;5;130;43;01m\\\u001b[39;49;00m\n\u001b[1;32m      4\u001b[0m \u001b[38;5;124;43m\taddress_2 VARCHAR(255),\u001b[39;49m\u001b[38;5;130;43;01m\\\u001b[39;49;00m\n\u001b[1;32m      5\u001b[0m \u001b[38;5;124;43m\tcity VARCHAR(50),\u001b[39;49m\u001b[38;5;130;43;01m\\\u001b[39;49;00m\n\u001b[1;32m      6\u001b[0m \u001b[38;5;124;43m\tstate VARCHAR(50),\u001b[39;49m\u001b[38;5;130;43;01m\\\u001b[39;49;00m\n\u001b[1;32m      7\u001b[0m \u001b[38;5;124;43m\tcountry VARCHAR(255),\u001b[39;49m\u001b[38;5;130;43;01m\\\u001b[39;49;00m\n\u001b[1;32m      8\u001b[0m \u001b[38;5;124;43m\tphone VARCHAR(255),\u001b[39;49m\u001b[38;5;130;43;01m\\\u001b[39;49;00m\n\u001b[1;32m      9\u001b[0m \u001b[38;5;124;43m\tpayment_method VARCHAR(50),\u001b[39;49m\u001b[38;5;130;43;01m\\\u001b[39;49;00m\n\u001b[1;32m     10\u001b[0m \u001b[38;5;124;43m\tdiscount_code VARCHAR(255))\u001b[39;49m\u001b[38;5;124;43m\"\u001b[39;49m\u001b[43m)\u001b[49m\n",
      "File \u001b[0;32m~/.local/lib/python3.9/site-packages/mysql/connector/cursor_cext.py:269\u001b[0m, in \u001b[0;36mCMySQLCursor.execute\u001b[0;34m(self, operation, params, multi)\u001b[0m\n\u001b[1;32m    265\u001b[0m             \u001b[38;5;28;01mraise\u001b[39;00m errors\u001b[38;5;241m.\u001b[39mProgrammingError(\n\u001b[1;32m    266\u001b[0m                 \u001b[38;5;124m\"\u001b[39m\u001b[38;5;124mNot all parameters were used in the SQL statement\u001b[39m\u001b[38;5;124m\"\u001b[39m)\n\u001b[1;32m    268\u001b[0m \u001b[38;5;28;01mtry\u001b[39;00m:\n\u001b[0;32m--> 269\u001b[0m     result \u001b[38;5;241m=\u001b[39m \u001b[38;5;28;43mself\u001b[39;49m\u001b[38;5;241;43m.\u001b[39;49m\u001b[43m_cnx\u001b[49m\u001b[38;5;241;43m.\u001b[39;49m\u001b[43mcmd_query\u001b[49m\u001b[43m(\u001b[49m\u001b[43mstmt\u001b[49m\u001b[43m,\u001b[49m\u001b[43m \u001b[49m\u001b[43mraw\u001b[49m\u001b[38;5;241;43m=\u001b[39;49m\u001b[38;5;28;43mself\u001b[39;49m\u001b[38;5;241;43m.\u001b[39;49m\u001b[43m_raw\u001b[49m\u001b[43m,\u001b[49m\n\u001b[1;32m    270\u001b[0m \u001b[43m                                 \u001b[49m\u001b[43mbuffered\u001b[49m\u001b[38;5;241;43m=\u001b[39;49m\u001b[38;5;28;43mself\u001b[39;49m\u001b[38;5;241;43m.\u001b[39;49m\u001b[43m_buffered\u001b[49m\u001b[43m,\u001b[49m\n\u001b[1;32m    271\u001b[0m \u001b[43m                                 \u001b[49m\u001b[43mraw_as_string\u001b[49m\u001b[38;5;241;43m=\u001b[39;49m\u001b[38;5;28;43mself\u001b[39;49m\u001b[38;5;241;43m.\u001b[39;49m\u001b[43m_raw_as_string\u001b[49m\u001b[43m)\u001b[49m\n\u001b[1;32m    272\u001b[0m \u001b[38;5;28;01mexcept\u001b[39;00m MySQLInterfaceError \u001b[38;5;28;01mas\u001b[39;00m exc:\n\u001b[1;32m    273\u001b[0m     \u001b[38;5;28;01mraise\u001b[39;00m errors\u001b[38;5;241m.\u001b[39mget_mysql_exception(msg\u001b[38;5;241m=\u001b[39mexc\u001b[38;5;241m.\u001b[39mmsg, errno\u001b[38;5;241m=\u001b[39mexc\u001b[38;5;241m.\u001b[39merrno,\n\u001b[1;32m    274\u001b[0m                                      sqlstate\u001b[38;5;241m=\u001b[39mexc\u001b[38;5;241m.\u001b[39msqlstate)\n",
      "File \u001b[0;32m~/.local/lib/python3.9/site-packages/mysql/connector/connection_cext.py:528\u001b[0m, in \u001b[0;36mCMySQLConnection.cmd_query\u001b[0;34m(self, query, raw, buffered, raw_as_string)\u001b[0m\n\u001b[1;32m    523\u001b[0m     \u001b[38;5;28mself\u001b[39m\u001b[38;5;241m.\u001b[39m_cmysql\u001b[38;5;241m.\u001b[39mquery(query,\n\u001b[1;32m    524\u001b[0m                        raw\u001b[38;5;241m=\u001b[39mraw, buffered\u001b[38;5;241m=\u001b[39mbuffered,\n\u001b[1;32m    525\u001b[0m                        raw_as_string\u001b[38;5;241m=\u001b[39mraw_as_string,\n\u001b[1;32m    526\u001b[0m                        query_attrs\u001b[38;5;241m=\u001b[39m\u001b[38;5;28mself\u001b[39m\u001b[38;5;241m.\u001b[39m_query_attrs)\n\u001b[1;32m    527\u001b[0m \u001b[38;5;28;01mexcept\u001b[39;00m MySQLInterfaceError \u001b[38;5;28;01mas\u001b[39;00m exc:\n\u001b[0;32m--> 528\u001b[0m     \u001b[38;5;28;01mraise\u001b[39;00m errors\u001b[38;5;241m.\u001b[39mget_mysql_exception(exc\u001b[38;5;241m.\u001b[39merrno, msg\u001b[38;5;241m=\u001b[39mexc\u001b[38;5;241m.\u001b[39mmsg,\n\u001b[1;32m    529\u001b[0m                                      sqlstate\u001b[38;5;241m=\u001b[39mexc\u001b[38;5;241m.\u001b[39msqlstate)\n\u001b[1;32m    530\u001b[0m \u001b[38;5;28;01mexcept\u001b[39;00m \u001b[38;5;167;01mAttributeError\u001b[39;00m:\n\u001b[1;32m    531\u001b[0m     \u001b[38;5;28;01mif\u001b[39;00m \u001b[38;5;28mself\u001b[39m\u001b[38;5;241m.\u001b[39m_unix_socket:\n",
      "\u001b[0;31mProgrammingError\u001b[0m: 1060 (42S21): Duplicate column name 'email'"
     ]
    }
   ],
   "source": [
    "my_cursor.execute(\"ALTER TABLE customers ADD  (\\\n",
    "\temail VARCHAR(255),\\\n",
    "\taddress_1 VARCHAR(255),\\\n",
    "\taddress_2 VARCHAR(255),\\\n",
    "\tcity VARCHAR(50),\\\n",
    "\tstate VARCHAR(50),\\\n",
    "\tcountry VARCHAR(255),\\\n",
    "\tphone VARCHAR(255),\\\n",
    "\tpayment_method VARCHAR(50),\\\n",
    "\tdiscount_code VARCHAR(255))\")"
   ]
  },
  {
   "cell_type": "code",
   "execution_count": 29,
   "id": "6425f3d6",
   "metadata": {},
   "outputs": [
    {
     "name": "stdout",
     "output_type": "stream",
     "text": [
      "[('first_name', 253, None, None, None, None, 1, 0, 255), ('last_name', 253, None, None, None, None, 1, 0, 255), ('zipcode', 3, None, None, None, None, 1, 32768, 63), ('price_paid', 246, None, None, None, None, 1, 32768, 63), ('user_id', 3, None, None, None, None, 0, 49667, 63), ('email', 253, None, None, None, None, 1, 0, 255), ('address_1', 253, None, None, None, None, 1, 0, 255), ('address_2', 253, None, None, None, None, 1, 0, 255), ('city', 253, None, None, None, None, 1, 0, 255), ('state', 253, None, None, None, None, 1, 0, 255), ('country', 253, None, None, None, None, 1, 0, 255), ('phone', 253, None, None, None, None, 1, 0, 255), ('payment_method', 253, None, None, None, None, 1, 0, 255), ('discount_code', 253, None, None, None, None, 1, 0, 255)]\n"
     ]
    }
   ],
   "source": [
    "my_cursor.execute(\"SELECT * FROM customers\")\n",
    "print(my_cursor.description)\n"
   ]
  },
  {
   "cell_type": "code",
   "execution_count": 30,
   "id": "d9ddb481",
   "metadata": {},
   "outputs": [],
   "source": [
    "title_label = Label(root,text='XOXO Customer Databse')\n",
    "title_label.grid(row=0,column=0,columnspan=2,pady=10)"
   ]
  },
  {
   "cell_type": "code",
   "execution_count": 31,
   "id": "14c6d8b1",
   "metadata": {},
   "outputs": [],
   "source": [
    "first_name_label = Label(root,text='First Name').grid(row=1,column=0,sticky=W,padx=10)\n",
    "last_name_label = Label(root,text='Last Name').grid(row=2,column=0,sticky=W,padx=10)\n",
    "address1_label = Label(root,text='Address 1').grid(row=3,column=0,sticky=W,padx=10)\n",
    "address2_label = Label(root,text='Address 2').grid(row=4,column=0,sticky=W,padx=10)\n",
    "city_label = Label(root,text='City').grid(row=5,column=0,sticky=W,padx=10)\n",
    "state_label = Label(root,text='State').grid(row=6,column=0,sticky=W,padx=10)\n",
    "zipcode_label = Label(root,text='Zipcode').grid(row=7,column=0,sticky=W,padx=10)\n",
    "country_label = Label(root,text='Country').grid(row=8,column=0,sticky=W,padx=10)\n",
    "phone_label = Label(root,text='Phone Number').grid(row=9,column=0,sticky=W,padx=10)\n",
    "email_label = Label(root,text='Email').grid(row=10,column=0,sticky=W,padx=10)\n",
    "payment_method_label = Label(root,text='Payment Method').grid(row=11,column=0,sticky=W,padx=10)\n",
    "discount_code_label = Label(root,text='Discount Code').grid(row=12,column=0,sticky=W,padx=10)\n",
    "price_paid_label = Label(root,text='Price Paid').grid(row=13,column=0,sticky=W,padx=10)\n"
   ]
  },
  {
   "cell_type": "code",
   "execution_count": 32,
   "id": "014cf350",
   "metadata": {},
   "outputs": [],
   "source": [
    "first_name_box = Entry(root)\n",
    "first_name_box.grid(row=1,column=1)\n",
    "\n",
    "last_name_box = Entry(root)\n",
    "last_name_box.grid(row=2,column=1)\n",
    "\n",
    "address1_box = Entry(root)\n",
    "address1_box.grid(row=3,column=1)\n",
    "\n",
    "address2_box = Entry(root)\n",
    "address2_box.grid(row=4,column=1)\n",
    "\n",
    "city_box = Entry(root)\n",
    "city_box.grid(row=5,column=1)\n",
    "\n",
    "state_box = Entry(root)\n",
    "state_box.grid(row=6,column=1)\n",
    "\n",
    "zipcode_box = Entry(root)\n",
    "zipcode_box.grid(row=7,column=1)\n",
    "\n",
    "country_box = Entry(root)\n",
    "country_box.grid(row=8,column=1)\n",
    "\n",
    "phone_box = Entry(root)\n",
    "phone_box.grid(row=9,column=1)\n",
    "\n",
    "email_box = Entry(root)\n",
    "email_box.grid(row=10,column=1)\n",
    "\n",
    "payment_method_box = Entry(root)\n",
    "payment_method_box.grid(row=11,column=1)\n",
    "\n",
    "discount_code_box = Entry(root)\n",
    "discount_code_box.grid(row=12,column=1)\n",
    "\n",
    "price_paid_box = Entry(root)\n",
    "price_paid_box.grid(row=13,column=1)"
   ]
  },
  {
   "cell_type": "code",
   "execution_count": 33,
   "id": "0c5d0f5f",
   "metadata": {},
   "outputs": [],
   "source": [
    "def clear_fields():\n",
    "\tfirst_name_box.delete(0, END)\n",
    "\tlast_name_box.delete(0, END)\n",
    "\taddress1_box.delete(0, END)\n",
    "\taddress2_box.delete(0, END)\n",
    "\tcity_box.delete(0, END)\n",
    "\tstate_box.delete(0, END)\n",
    "\tzipcode_box.delete(0, END)\n",
    "\tcountry_box.delete(0, END)\n",
    "\tphone_box.delete(0, END)\n",
    "\temail_box.delete(0, END)\n",
    "\tpayment_method_box.delete(0, END)\n",
    "\tdiscount_code_box.delete(0, END)\n",
    "\tprice_paid_box.delete(0, END)"
   ]
  },
  {
   "cell_type": "code",
   "execution_count": 34,
   "id": "279d884f",
   "metadata": {},
   "outputs": [],
   "source": [
    "def add_customer():\n",
    "\tsql_command = \"INSERT INTO customers (first_name, last_name, zipcode, price_paid, email, address_1, address_2, city, state, country, phone, payment_method, discount_code) VALUES (%s, %s, %s, %s, %s, %s, %s, %s, %s, %s, %s, %s, %s)\"\n",
    "\t# %s is just a wild card entry we can susbtiute any value. We give a tuple of all the required values\n",
    "\t# Values\n",
    "\tvalues = (first_name_box.get(), last_name_box.get(), zipcode_box.get(), price_paid_box.get(), email_box.get(), address1_box.get(), address2_box.get(), city_box.get(), state_box.get(), country_box.get(), phone_box.get(), payment_method_box.get(), discount_code_box.get())\n",
    "\t# Syntax if we use placeholders\n",
    "\tmy_cursor.execute(sql_command, values)\n",
    "\n",
    "\t# Commit the changes to the database\n",
    "\tmydb.commit()\n",
    "\t# Clear the fields\n",
    "\tclear_fields()"
   ]
  },
  {
   "cell_type": "code",
   "execution_count": 35,
   "id": "b183ead5",
   "metadata": {},
   "outputs": [],
   "source": [
    "add_customer_button = Button(root,text='Add customer to database', command=add_customer)\n",
    "add_customer_button.grid(row=14,column=0,padx=10,pady=10)\n",
    "\n",
    "\n",
    "clear_fields_button = Button(root,text='Clear Field', command=clear_fields)\n",
    "clear_fields_button.grid(row=14,column=1)"
   ]
  },
  {
   "cell_type": "code",
   "execution_count": 45,
   "id": "95908068",
   "metadata": {},
   "outputs": [],
   "source": [
    "def list_customers():\n",
    "\tlist_customer_query = Tk()\n",
    "\tlist_customer_query.title(\"List All Customers\")\n",
    "\t# Query The Database\n",
    "\tmy_cursor.execute(\"SELECT * FROM customers\")\n",
    "\tresult = my_cursor.fetchall()\n",
    "\t\n",
    "\tfor index, x in enumerate(result):\n",
    "\t\tnum = 0\n",
    "\t\tfor y in x:\n",
    "\t\t\tlookup_label = Label(list_customer_query, text=y)\n",
    "\t\t\tlookup_label.grid(row=index, column=num)\n",
    "\t\t\tnum +=1\n",
    "\tcsv_button = Button(list_customer_query, text=\"Save to Excel\", command=lambda: write_to_csv(result))\n",
    "\tcsv_button.grid(row=index+1, column=0)"
   ]
  },
  {
   "cell_type": "code",
   "execution_count": 46,
   "id": "d13822d9",
   "metadata": {},
   "outputs": [],
   "source": [
    "list_customers_button = Button(root,text='List of Customers', command=list_customers)\n",
    "list_customers_button.grid(row=15,column=0,sticky=W,padx=10)"
   ]
  },
  {
   "cell_type": "code",
   "execution_count": 38,
   "id": "8c83425d",
   "metadata": {},
   "outputs": [
    {
     "name": "stdout",
     "output_type": "stream",
     "text": [
      "0 apple\n",
      "1 ball\n",
      "2 cat\n",
      "3 dog\n",
      "4 egg\n",
      "5 fish\n"
     ]
    }
   ],
   "source": [
    "# for reference only\n",
    "x = ['apple','ball','cat','dog','egg','fish']\n",
    "\n",
    "for i,y in enumerate(x):\n",
    "    print(i,y)"
   ]
  },
  {
   "cell_type": "code",
   "execution_count": 47,
   "id": "f22112b2",
   "metadata": {},
   "outputs": [],
   "source": [
    "def write_to_csv(result):\n",
    "\twith open('customers.csv', 'a', newline='') as f:\n",
    "\t\tw = csv.writer(f, dialect='excel')\n",
    "\t\tfor record in result:\n",
    "\t\t\tw.writerow(record)\n"
   ]
  },
  {
   "cell_type": "code",
   "execution_count": 56,
   "id": "a6d19b2d",
   "metadata": {},
   "outputs": [],
   "source": [
    "def search_customer():\n",
    "\t# Creating a new window for searching purpose\n",
    "\tsearch_customers = Tk()\n",
    "\tsearch_customers.title(\"Search Customers\")\n",
    "    # Entry box to search for customer\n",
    "\tsearch_box = Entry(search_customers)\n",
    "\tsearch_box.grid(row=0, column=1, padx=10, pady=10)\n",
    "\t# Entry box Label search for customer\n",
    "\tsearch_box_label = Label(search_customers, text=\"Search Customers \")\n",
    "\tsearch_box_label.grid(row=0, column=0, padx=10, pady=10)\n",
    "\t# Entry box search  Button for customer\n",
    "\tsearch_button = Button(search_customers, text=\"Search Customers\", command=search_now)\n",
    "\tsearch_button.grid(row=1, column=0, padx=10)"
   ]
  },
  {
   "cell_type": "code",
   "execution_count": 57,
   "id": "5eb4b68b",
   "metadata": {},
   "outputs": [],
   "source": [
    "search_customers_button = Button(root,text='Search Customers', command=search_customer)\n",
    "search_customers_button.grid(row=15,column=1,sticky=W,padx=10)"
   ]
  },
  {
   "cell_type": "code",
   "execution_count": 69,
   "id": "db26fb7c",
   "metadata": {},
   "outputs": [],
   "source": [
    "def search_now():\n",
    "\t\t# First we get the result from dropdown\n",
    "\t\tselected = drop.get()\n",
    "\t\tsql = \"\"\n",
    "        \n",
    "\t\tsearched = search_box.get()\n",
    "\t\t# Conditio according to last name\n",
    "\t\tsql = \"SELECT * FROM customers WHERE last_name = %s\"\n",
    "\t\tname = (searched, )\n",
    "\t\tresult = my_cursor.execute(sql, name)\n",
    "\t\tresult = my_cursor.fetchall()\n",
    "\n",
    "\t\tif not result: \n",
    "\t\t\tresult = \"Record Not Found...\"\n",
    "\t\t\tsearched_label = Label(search_customers, text=result)\n",
    "\t\t\tsearched_label.grid(row=2, column=0)\n",
    "            \n",
    "\t\tsearched_label = Label(search_customers, text=result)\n",
    "\t\tsearched_label.grid(row=3, column=0, padx=10, columnspan=2)"
   ]
  },
  {
   "cell_type": "code",
   "execution_count": 70,
   "id": "d1586799",
   "metadata": {},
   "outputs": [
    {
     "name": "stderr",
     "output_type": "stream",
     "text": [
      "Exception in Tkinter callback\n",
      "Traceback (most recent call last):\n",
      "  File \"/usr/lib/python3.9/tkinter/__init__.py\", line 1892, in __call__\n",
      "    return self.func(*args)\n",
      "  File \"/tmp/ipykernel_9392/1572795735.py\", line 3, in search_now\n",
      "    selected = drop.get()\n",
      "NameError: name 'drop' is not defined\n"
     ]
    }
   ],
   "source": [
    "root.mainloop()"
   ]
  },
  {
   "cell_type": "code",
   "execution_count": null,
   "id": "c5da17e3",
   "metadata": {},
   "outputs": [],
   "source": []
  }
 ],
 "metadata": {
  "kernelspec": {
   "display_name": "Python 3 (ipykernel)",
   "language": "python",
   "name": "python3"
  },
  "language_info": {
   "codemirror_mode": {
    "name": "ipython",
    "version": 3
   },
   "file_extension": ".py",
   "mimetype": "text/x-python",
   "name": "python",
   "nbconvert_exporter": "python",
   "pygments_lexer": "ipython3",
   "version": "3.9.7"
  }
 },
 "nbformat": 4,
 "nbformat_minor": 5
}
