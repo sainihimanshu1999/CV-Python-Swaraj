{
 "cells": [
  {
   "cell_type": "code",
   "execution_count": 1,
   "id": "20d91704",
   "metadata": {},
   "outputs": [],
   "source": [
    "# CHECKBUTTONS"
   ]
  },
  {
   "cell_type": "code",
   "execution_count": 2,
   "id": "502035a0",
   "metadata": {},
   "outputs": [],
   "source": [
    "from tkinter import *"
   ]
  },
  {
   "cell_type": "code",
   "execution_count": 3,
   "id": "2bce3cfb",
   "metadata": {},
   "outputs": [],
   "source": [
    "root = Tk()"
   ]
  },
  {
   "cell_type": "code",
   "execution_count": 4,
   "id": "b857ef85",
   "metadata": {},
   "outputs": [
    {
     "data": {
      "text/plain": [
       "''"
      ]
     },
     "execution_count": 4,
     "metadata": {},
     "output_type": "execute_result"
    }
   ],
   "source": [
    "root.geometry('300x200')"
   ]
  },
  {
   "cell_type": "code",
   "execution_count": 6,
   "id": "c783b4e4",
   "metadata": {},
   "outputs": [],
   "source": [
    "w = Label(root,text='Swaraj',font='50')"
   ]
  },
  {
   "cell_type": "code",
   "execution_count": 7,
   "id": "9af1654e",
   "metadata": {},
   "outputs": [],
   "source": [
    "w.pack()"
   ]
  },
  {
   "cell_type": "code",
   "execution_count": 9,
   "id": "9bb97ebb",
   "metadata": {},
   "outputs": [],
   "source": [
    "checkbtn1 = IntVar()\n",
    "checkbtn2 = IntVar()\n",
    "checkbtn3 = IntVar()"
   ]
  },
  {
   "cell_type": "code",
   "execution_count": 12,
   "id": "d13371e8",
   "metadata": {},
   "outputs": [],
   "source": [
    "btn1  = Checkbutton(root, text = 'Pizza', variable = checkbtn1 , onvalue = 1, offvalue = 0 , height=2, width = 10 )"
   ]
  },
  {
   "cell_type": "code",
   "execution_count": 13,
   "id": "da26c3f1",
   "metadata": {},
   "outputs": [],
   "source": [
    "btn2  = Checkbutton(root, text = 'Ice cream', variable = checkbtn2 , onvalue = 1, offvalue = 0 , height=2, width = 10 )"
   ]
  },
  {
   "cell_type": "code",
   "execution_count": 14,
   "id": "2fd024c1",
   "metadata": {},
   "outputs": [],
   "source": [
    "btn3  = Checkbutton(root, text = 'Kebab', variable = checkbtn3 , onvalue = 1, offvalue = 0 , height=2, width = 10 )"
   ]
  },
  {
   "cell_type": "code",
   "execution_count": 15,
   "id": "4bf83bf0",
   "metadata": {},
   "outputs": [],
   "source": [
    "btn1.pack()\n",
    "btn2.pack()\n",
    "btn3.pack()"
   ]
  },
  {
   "cell_type": "code",
   "execution_count": 16,
   "id": "e1f152d6",
   "metadata": {},
   "outputs": [],
   "source": [
    "root.mainloop()"
   ]
  },
  {
   "cell_type": "code",
   "execution_count": 17,
   "id": "b463514f",
   "metadata": {},
   "outputs": [],
   "source": [
    "master = Tk()"
   ]
  },
  {
   "cell_type": "code",
   "execution_count": 18,
   "id": "021d5820",
   "metadata": {},
   "outputs": [],
   "source": [
    "var = StringVar(master)"
   ]
  },
  {
   "cell_type": "code",
   "execution_count": 19,
   "id": "6d0842f2",
   "metadata": {},
   "outputs": [],
   "source": [
    "var.set('One') # initial value"
   ]
  },
  {
   "cell_type": "code",
   "execution_count": 20,
   "id": "29bddbf5",
   "metadata": {},
   "outputs": [],
   "source": [
    "option = OptionMenu(master, var, 'One','Eighteen','Lawn Tennis', 'POLO', 'YOLO') # you only live once"
   ]
  },
  {
   "cell_type": "code",
   "execution_count": 21,
   "id": "6440bfed",
   "metadata": {},
   "outputs": [],
   "source": [
    "option.pack()"
   ]
  },
  {
   "cell_type": "code",
   "execution_count": 22,
   "id": "88f22d1e",
   "metadata": {},
   "outputs": [],
   "source": [
    "def func():\n",
    "    print(\"Value is\", var.get())\n",
    "    master.quit()\n",
    "    \n"
   ]
  },
  {
   "cell_type": "code",
   "execution_count": 23,
   "id": "e586758b",
   "metadata": {},
   "outputs": [],
   "source": [
    "btn = Button(master,text='Ok', command=func)\n"
   ]
  },
  {
   "cell_type": "code",
   "execution_count": 24,
   "id": "f9df1275",
   "metadata": {},
   "outputs": [],
   "source": [
    "btn.pack()"
   ]
  },
  {
   "cell_type": "code",
   "execution_count": 26,
   "id": "bdbe4c56",
   "metadata": {},
   "outputs": [],
   "source": [
    "master.mainloop()"
   ]
  },
  {
   "cell_type": "code",
   "execution_count": 27,
   "id": "f1672818",
   "metadata": {},
   "outputs": [],
   "source": [
    "#DATABASE"
   ]
  },
  {
   "cell_type": "code",
   "execution_count": 28,
   "id": "7e575344",
   "metadata": {},
   "outputs": [],
   "source": [
    "# all the data about you"
   ]
  },
  {
   "cell_type": "code",
   "execution_count": 29,
   "id": "d8112b96",
   "metadata": {},
   "outputs": [],
   "source": [
    "# your name  your surname you add "
   ]
  },
  {
   "cell_type": "code",
   "execution_count": null,
   "id": "26c872ab",
   "metadata": {},
   "outputs": [],
   "source": [
    "# stored in a database\n",
    "# database is in the form of table\n",
    "# | name | col | "
   ]
  }
 ],
 "metadata": {
  "kernelspec": {
   "display_name": "Python 3 (ipykernel)",
   "language": "python",
   "name": "python3"
  },
  "language_info": {
   "codemirror_mode": {
    "name": "ipython",
    "version": 3
   },
   "file_extension": ".py",
   "mimetype": "text/x-python",
   "name": "python",
   "nbconvert_exporter": "python",
   "pygments_lexer": "ipython3",
   "version": "3.9.7"
  }
 },
 "nbformat": 4,
 "nbformat_minor": 5
}
