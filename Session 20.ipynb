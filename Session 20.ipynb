{
 "cells": [
  {
   "cell_type": "code",
   "execution_count": null,
   "id": "a1be0eb1",
   "metadata": {},
   "outputs": [],
   "source": [
    "# GRAPHICAL USER INTERFACE\n",
    "# module  has many functions"
   ]
  },
  {
   "cell_type": "code",
   "execution_count": 1,
   "id": "abe9736b",
   "metadata": {},
   "outputs": [],
   "source": [
    "from tkinter import *"
   ]
  },
  {
   "cell_type": "code",
   "execution_count": 2,
   "id": "24160e1e",
   "metadata": {},
   "outputs": [],
   "source": [
    "root = Tk(className='swaraj')\n"
   ]
  },
  {
   "cell_type": "code",
   "execution_count": 3,
   "id": "14b2f2b5",
   "metadata": {},
   "outputs": [],
   "source": [
    "# creating a label widgets\n",
    "myLabel1 = Label(root,text='Hello i am swaraj')\n",
    "myLabel2 = Label(root,text='Hello i am second label')\n",
    "myLabel3 = Label(root,text='Hello i am third label')"
   ]
  },
  {
   "cell_type": "code",
   "execution_count": 4,
   "id": "d1393f5b",
   "metadata": {},
   "outputs": [],
   "source": [
    "# this method just packs in all the widgets into our window\\\n",
    "myLabel1.grid(row=0,column=0)\n",
    "myLabel2.grid(row=1,column=0)\n",
    "myLabel3.grid(row=0,column=1)"
   ]
  },
  {
   "cell_type": "code",
   "execution_count": 5,
   "id": "8cbc1665",
   "metadata": {},
   "outputs": [],
   "source": [
    "# creating a loop\n",
    "root.mainloop()"
   ]
  },
  {
   "cell_type": "code",
   "execution_count": null,
   "id": "396915eb",
   "metadata": {},
   "outputs": [],
   "source": []
  },
  {
   "cell_type": "code",
   "execution_count": null,
   "id": "0f0a3d71",
   "metadata": {},
   "outputs": [],
   "source": []
  },
  {
   "cell_type": "code",
   "execution_count": null,
   "id": "76cd6de7",
   "metadata": {},
   "outputs": [],
   "source": []
  },
  {
   "cell_type": "code",
   "execution_count": null,
   "id": "79b57be7",
   "metadata": {},
   "outputs": [],
   "source": []
  }
 ],
 "metadata": {
  "kernelspec": {
   "display_name": "Python 3 (ipykernel)",
   "language": "python",
   "name": "python3"
  },
  "language_info": {
   "codemirror_mode": {
    "name": "ipython",
    "version": 3
   },
   "file_extension": ".py",
   "mimetype": "text/x-python",
   "name": "python",
   "nbconvert_exporter": "python",
   "pygments_lexer": "ipython3",
   "version": "3.9.7"
  }
 },
 "nbformat": 4,
 "nbformat_minor": 5
}
