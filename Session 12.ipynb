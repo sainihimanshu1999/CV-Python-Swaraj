{
 "cells": [
  {
   "cell_type": "code",
   "execution_count": 2,
   "id": "0aca88e8",
   "metadata": {},
   "outputs": [],
   "source": [
    "#TIC TAK TOE"
   ]
  },
  {
   "cell_type": "code",
   "execution_count": 3,
   "id": "f25962e6",
   "metadata": {},
   "outputs": [],
   "source": [
    "d = {1:' ', 2:' ',3:' ',4:' ',5:' ',6:' ',7:' ',8:' ',9:' '}"
   ]
  },
  {
   "cell_type": "code",
   "execution_count": 4,
   "id": "8345ddad",
   "metadata": {},
   "outputs": [
    {
     "name": "stdout",
     "output_type": "stream",
     "text": [
      "{1: ' ', 2: ' ', 3: ' ', 4: ' ', 5: ' ', 6: ' ', 7: ' ', 8: ' ', 9: ' '}\n"
     ]
    }
   ],
   "source": [
    "print(d)"
   ]
  },
  {
   "cell_type": "code",
   "execution_count": 5,
   "id": "562cf852",
   "metadata": {},
   "outputs": [],
   "source": [
    "def display_row(d,row_number):\n",
    "    print(\"     |     |     \")\n",
    "    print(\"  \",d[1 + 3*(row_number-1)],\"  \",\"|  \",d[2+3*(row_number-1)],\"  \",\"|  \",d[3+3*(row_number-1)],\"  \",sep ='')\n",
    "    print(\"     |     |     \")\n",
    "    \n",
    "    "
   ]
  },
  {
   "cell_type": "code",
   "execution_count": 6,
   "id": "18ba71f5",
   "metadata": {},
   "outputs": [
    {
     "name": "stdout",
     "output_type": "stream",
     "text": [
      "     |     |     \n",
      "     |     |     \n",
      "     |     |     \n"
     ]
    }
   ],
   "source": [
    "display_row(d,1)"
   ]
  },
  {
   "cell_type": "code",
   "execution_count": 7,
   "id": "619d5179",
   "metadata": {},
   "outputs": [],
   "source": [
    "def display_horizontal_line(n):\n",
    "    for i in range(n):\n",
    "        print('=', end='')\n",
    "    print(' ')"
   ]
  },
  {
   "cell_type": "code",
   "execution_count": 8,
   "id": "58461ef6",
   "metadata": {},
   "outputs": [
    {
     "name": "stdout",
     "output_type": "stream",
     "text": [
      "================= \n"
     ]
    }
   ],
   "source": [
    "display_horizontal_line(17)"
   ]
  },
  {
   "cell_type": "code",
   "execution_count": 9,
   "id": "abdbc7ca",
   "metadata": {},
   "outputs": [],
   "source": [
    "def display_board(d):\n",
    "    for i in range(1,4):\n",
    "        display_row(d,i)\n",
    "        if i < 3:\n",
    "            display_horizontal_line(17)\n",
    "            \n",
    "        "
   ]
  },
  {
   "cell_type": "code",
   "execution_count": 10,
   "id": "4f18af8d",
   "metadata": {},
   "outputs": [
    {
     "name": "stdout",
     "output_type": "stream",
     "text": [
      "     |     |     \n",
      "     |     |     \n",
      "     |     |     \n",
      "================= \n",
      "     |     |     \n",
      "     |     |     \n",
      "     |     |     \n",
      "================= \n",
      "     |     |     \n",
      "     |     |     \n",
      "     |     |     \n"
     ]
    }
   ],
   "source": [
    "display_board(d)\n"
   ]
  },
  {
   "cell_type": "code",
   "execution_count": 11,
   "id": "20913ae4",
   "metadata": {},
   "outputs": [],
   "source": [
    "#this function takes the input\n",
    "# first it asks the name of the first player and asks about his symbol\n",
    "# then it asks the name of the second player and allot the remaining symbol to him"
   ]
  },
  {
   "cell_type": "code",
   "execution_count": 12,
   "id": "78b6937b",
   "metadata": {},
   "outputs": [],
   "source": [
    "def player_name():   \n",
    "    user_1 = input(\"Hi! Please enter name of first player\")  #stores the name of first user\n",
    "    print(\"Hi\" , user_1)\n",
    "    user_1_char = input(\"Please choose your character x or o\") #stores the symbol of first user\n",
    "    while(user_1_char != 'x' and user_1_char != 'o' ):\n",
    "        print(\"Looks like you have not entered from x and o\")\n",
    "        user_1_char = input(\"Please choose your character x or o\")\n",
    "    user_2 = input(\"Hi! Please enter name of second player\") #stores the name of second user\n",
    "    if user_1_char == 'x': # condition for choosing symbol of second user.\n",
    "        user_2_char = 'o'\n",
    "    else:\n",
    "        user_2_char = 'x'\n",
    "    print(user_1,\"choosed\",user_1_char)\n",
    "    print(user_2,\"choosed\",user_2_char)\n",
    "    return((user_1 , user_1_char) , (user_2 , user_2_char))\n",
    "    \n",
    "        "
   ]
  },
  {
   "cell_type": "code",
   "execution_count": 13,
   "id": "2db5ac6b",
   "metadata": {},
   "outputs": [
    {
     "name": "stdout",
     "output_type": "stream",
     "text": [
      "Hi! Please enter name of first playerSwaraj\n",
      "Hi Swaraj\n",
      "Please choose your character x or ox\n",
      "Hi! Please enter name of second playerHimanshu\n",
      "Swaraj choosed x\n",
      "Himanshu choosed o\n"
     ]
    },
    {
     "data": {
      "text/plain": [
       "(('Swaraj', 'x'), ('Himanshu', 'o'))"
      ]
     },
     "execution_count": 13,
     "metadata": {},
     "output_type": "execute_result"
    }
   ],
   "source": [
    "player_name()"
   ]
  },
  {
   "cell_type": "code",
   "execution_count": 14,
   "id": "381c5091",
   "metadata": {},
   "outputs": [],
   "source": [
    "#check whether all the positions in a particular row are same, if same return true else returns fasle"
   ]
  },
  {
   "cell_type": "code",
   "execution_count": 15,
   "id": "264782dd",
   "metadata": {},
   "outputs": [],
   "source": [
    "def row_check(d,char,i):\n",
    "    if d[1+i*3] == char and d[2+i*3] == char and d[3+i*3] == char:\n",
    "        return True\n",
    "    else:\n",
    "        False\n",
    "                                                   "
   ]
  },
  {
   "cell_type": "code",
   "execution_count": 16,
   "id": "b463ae48",
   "metadata": {},
   "outputs": [],
   "source": [
    "#check whether all the positions in a particular Column are same, if same return true else returns fasle"
   ]
  },
  {
   "cell_type": "code",
   "execution_count": 17,
   "id": "9c867624",
   "metadata": {},
   "outputs": [],
   "source": [
    "def column_check(d,char,i):\n",
    "    if d[1+i] == char and d[4+i] == char and d[7+i] == char:\n",
    "        return True\n",
    "    else:\n",
    "        False"
   ]
  },
  {
   "cell_type": "code",
   "execution_count": 18,
   "id": "93a3df0f",
   "metadata": {},
   "outputs": [],
   "source": [
    "#check whether all the positions in a diagonal 1 are same, if same return true else returns fasle"
   ]
  },
  {
   "cell_type": "code",
   "execution_count": 19,
   "id": "86d0ec15",
   "metadata": {},
   "outputs": [],
   "source": [
    "def diag1_check(d,char):\n",
    "    if d[1] == char and d[5] == char and d[9] == char:\n",
    "        return True\n",
    "    else:\n",
    "        False"
   ]
  },
  {
   "cell_type": "code",
   "execution_count": 20,
   "id": "09a8de8f",
   "metadata": {},
   "outputs": [],
   "source": [
    "#check whether all the positions in a diagonal 2 are same, if same return true else returns fasle"
   ]
  },
  {
   "cell_type": "code",
   "execution_count": 21,
   "id": "5e1c589a",
   "metadata": {},
   "outputs": [],
   "source": [
    "def diag2_check(d,char):\n",
    "    if d[3] == char and d[5] == char and d[7] == char:\n",
    "        return True\n",
    "    else:\n",
    "        False"
   ]
  },
  {
   "cell_type": "code",
   "execution_count": 22,
   "id": "16c7d614",
   "metadata": {},
   "outputs": [],
   "source": [
    "# winning function"
   ]
  },
  {
   "cell_type": "code",
   "execution_count": 33,
   "id": "8d9a6c74",
   "metadata": {},
   "outputs": [],
   "source": [
    "def won(d,char):\n",
    "    flag = 0\n",
    "    for i in range(3):\n",
    "        if row_check(d,char,i)== True:\n",
    "            flag  = 1\n",
    "        if column_check(d,char,i)==True:\n",
    "            flag = 1\n",
    "    if diag1_check(d,char) == True or diag2_check(d,char) ==True:\n",
    "        flag  = 1\n",
    "        \n",
    "    if flag == 1:\n",
    "        return True\n",
    "    else:\n",
    "        return False\n",
    "            "
   ]
  },
  {
   "cell_type": "code",
   "execution_count": 24,
   "id": "aec16a99",
   "metadata": {},
   "outputs": [],
   "source": [
    "# function if the grid is full or not"
   ]
  },
  {
   "cell_type": "code",
   "execution_count": 25,
   "id": "53f834df",
   "metadata": {},
   "outputs": [],
   "source": [
    "def complete(d):\n",
    "    flag = 1\n",
    "    for i in range(1,10):\n",
    "        if d[i]==' ':\n",
    "            flag = 0\n",
    "    if flag == 0:\n",
    "        return False\n",
    "    else:\n",
    "        return True"
   ]
  },
  {
   "cell_type": "code",
   "execution_count": 26,
   "id": "5ec55d5b",
   "metadata": {},
   "outputs": [
    {
     "name": "stdout",
     "output_type": "stream",
     "text": [
      "Hi! Please enter name of first playerSwarak\n",
      "Hi Swarak\n",
      "Please choose your character x or ox\n",
      "Hi! Please enter name of second playerHimanshu\n",
      "Swarak choosed x\n",
      "Himanshu choosed o\n"
     ]
    }
   ],
   "source": [
    "(user_1, user_1_char),(user_2, user_2_char) = player_name()"
   ]
  },
  {
   "cell_type": "code",
   "execution_count": 27,
   "id": "856afbda",
   "metadata": {},
   "outputs": [
    {
     "name": "stdout",
     "output_type": "stream",
     "text": [
      "Swarak x\n"
     ]
    }
   ],
   "source": [
    "print(user_1,user_1_char)\n"
   ]
  },
  {
   "cell_type": "code",
   "execution_count": 28,
   "id": "5bde704e",
   "metadata": {},
   "outputs": [],
   "source": [
    "#how the numbers are connected to the grid"
   ]
  },
  {
   "cell_type": "code",
   "execution_count": 29,
   "id": "697b77bb",
   "metadata": {},
   "outputs": [],
   "source": [
    "ref = {1:'1',2:'2',3:'3',4:'4',5:'5',6:'6',7:'7',8:'8',9:'9'}"
   ]
  },
  {
   "cell_type": "code",
   "execution_count": 30,
   "id": "0893308c",
   "metadata": {},
   "outputs": [
    {
     "name": "stdout",
     "output_type": "stream",
     "text": [
      "     |     |     \n",
      "  1  |  2  |  3  \n",
      "     |     |     \n",
      "================= \n",
      "     |     |     \n",
      "  4  |  5  |  6  \n",
      "     |     |     \n",
      "================= \n",
      "     |     |     \n",
      "  7  |  8  |  9  \n",
      "     |     |     \n"
     ]
    }
   ],
   "source": [
    "display_board(ref)"
   ]
  },
  {
   "cell_type": "code",
   "execution_count": 31,
   "id": "f4e292f1",
   "metadata": {},
   "outputs": [],
   "source": [
    "# function to play the game now"
   ]
  },
  {
   "cell_type": "code",
   "execution_count": 37,
   "id": "67a434c6",
   "metadata": {},
   "outputs": [
    {
     "name": "stdout",
     "output_type": "stream",
     "text": [
      "     |     |     \n",
      "     |     |     \n",
      "     |     |     \n",
      "================= \n",
      "     |     |     \n",
      "     |     |     \n",
      "     |     |     \n",
      "================= \n",
      "     |     |     \n",
      "     |     |     \n",
      "     |     |     \n",
      "Swarak Please select a cell from 1,2...9 where you want to put  x\n",
      "5\n",
      "     |     |     \n",
      "     |     |     \n",
      "     |     |     \n",
      "================= \n",
      "     |     |     \n",
      "     |  x  |     \n",
      "     |     |     \n",
      "================= \n",
      "     |     |     \n",
      "     |     |     \n",
      "     |     |     \n",
      "Himanshu Please select a cell from 1,2...9 where you want to put  o\n",
      "7\n",
      "     |     |     \n",
      "     |     |     \n",
      "     |     |     \n",
      "================= \n",
      "     |     |     \n",
      "     |  x  |     \n",
      "     |     |     \n",
      "================= \n",
      "     |     |     \n",
      "  o  |     |     \n",
      "     |     |     \n",
      "Swarak Please select a cell from 1,2...9 where you want to put  x\n",
      "4\n",
      "     |     |     \n",
      "     |     |     \n",
      "     |     |     \n",
      "================= \n",
      "     |     |     \n",
      "  x  |  x  |     \n",
      "     |     |     \n",
      "================= \n",
      "     |     |     \n",
      "  o  |     |     \n",
      "     |     |     \n",
      "Himanshu Please select a cell from 1,2...9 where you want to put  o\n",
      "6\n",
      "     |     |     \n",
      "     |     |     \n",
      "     |     |     \n",
      "================= \n",
      "     |     |     \n",
      "  x  |  x  |  o  \n",
      "     |     |     \n",
      "================= \n",
      "     |     |     \n",
      "  o  |     |     \n",
      "     |     |     \n",
      "Swarak Please select a cell from 1,2...9 where you want to put  x\n",
      "9\n",
      "     |     |     \n",
      "     |     |     \n",
      "     |     |     \n",
      "================= \n",
      "     |     |     \n",
      "  x  |  x  |  o  \n",
      "     |     |     \n",
      "================= \n",
      "     |     |     \n",
      "  o  |     |  x  \n",
      "     |     |     \n",
      "Himanshu Please select a cell from 1,2...9 where you want to put  o\n",
      "3\n",
      "     |     |     \n",
      "     |     |  o  \n",
      "     |     |     \n",
      "================= \n",
      "     |     |     \n",
      "  x  |  x  |  o  \n",
      "     |     |     \n",
      "================= \n",
      "     |     |     \n",
      "  o  |     |  x  \n",
      "     |     |     \n",
      "Swarak Please select a cell from 1,2...9 where you want to put  x\n",
      "1\n",
      "     |     |     \n",
      "  x  |     |  o  \n",
      "     |     |     \n",
      "================= \n",
      "     |     |     \n",
      "  x  |  x  |  o  \n",
      "     |     |     \n",
      "================= \n",
      "     |     |     \n",
      "  o  |     |  x  \n",
      "     |     |     \n",
      "Congrats! Swarak you won\n"
     ]
    }
   ],
   "source": [
    "#first chance is by deafult assigned to player 1\n",
    "player = 1\n",
    "# reinitializing the whole grid\n",
    "d = {1:' ', 2:' ',3:' ',4:' ',5:' ',6:' ',7:' ',8:' ',9:' '}\n",
    "display_board(d)\n",
    "while(True):\n",
    "    if player == 1:   # Condition for which player to move\n",
    "        print(user_1 , \"Please select a cell from 1,2...9 where you want to put \" , user_1_char)\n",
    "        place = input()\n",
    "        ls = ['1','2','3','4','5','6','7','8','9']    # Input number must be one to them\n",
    "        flag1 = 1 \n",
    "        flag2 = 1\n",
    "        while(flag1 == 1 or flag2 == 1):\n",
    "            flag1 = 1 \n",
    "            flag2 = 1\n",
    "            if place not in ls:    # Condition for place to in above list\n",
    "                print(\"You have choose not choose form 1 to 9 . Please choosen from 1 - 9\")\n",
    "                place = input(\"Try again\")\n",
    "                continue\n",
    "            else:\n",
    "                flag1 = 0\n",
    "            place = int(place)\n",
    "            if d[place] != ' ':   # Condition for than place to be unoccupied\n",
    "                print(\"This place is already occupied\")\n",
    "                place = input(\"Try again\")\n",
    "                continue\n",
    "            else:\n",
    "                flag2 = 0;\n",
    "        d[place] = user_1_char\n",
    "        display_board(d)\n",
    "        if won(d,user_1_char) == True:\n",
    "            print(\"Congrats!\",user_1,\"you won\")\n",
    "            break\n",
    "        player = 2                   #change the player\n",
    "    else:\n",
    "        print(user_2 , \"Please select a cell from 1,2...9 where you want to put \" , user_2_char)\n",
    "        place = input()\n",
    "        ls = ['1','2','3','4','5','6','7','8','9']\n",
    "        flag1 = 1 \n",
    "        flag2 = 1\n",
    "        while(flag1 == 1 or flag2 == 1):\n",
    "            flag1 = 1 \n",
    "            flag2 = 1\n",
    "            if place not in ls:\n",
    "                print(\"You have choose not choose form 1 to 9 . Please choosen from 1 - 9\")\n",
    "                place = input(\"Try again\")\n",
    "                continue\n",
    "            else:\n",
    "                flag1 = 0\n",
    "            place = int(place)\n",
    "            if d[place] != ' ':\n",
    "                print(\"This place is already occupied\")\n",
    "                place = input(\"Try again\")\n",
    "                continue\n",
    "            else:\n",
    "                flag2 = 0;     \n",
    "        d[place] = user_2_char\n",
    "        display_board(d)\n",
    "        if won(d,user_2_char) == True:\n",
    "            print(\"Congrats!\",user_2,\"you won\")\n",
    "            break\n",
    "        player = 1\n",
    "    if complete(d) == True:\n",
    "        print(\"Match Draw!!!!\")\n",
    "        break"
   ]
  },
  {
   "cell_type": "code",
   "execution_count": null,
   "id": "c979354e",
   "metadata": {},
   "outputs": [],
   "source": []
  }
 ],
 "metadata": {
  "kernelspec": {
   "display_name": "Python 3 (ipykernel)",
   "language": "python",
   "name": "python3"
  },
  "language_info": {
   "codemirror_mode": {
    "name": "ipython",
    "version": 3
   },
   "file_extension": ".py",
   "mimetype": "text/x-python",
   "name": "python",
   "nbconvert_exporter": "python",
   "pygments_lexer": "ipython3",
   "version": "3.9.7"
  }
 },
 "nbformat": 4,
 "nbformat_minor": 5
}
