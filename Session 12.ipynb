{
 "cells": [
  {
   "cell_type": "code",
   "execution_count": 1,
   "id": "0aca88e8",
   "metadata": {},
   "outputs": [],
   "source": [
    "#TIC TAK TOE"
   ]
  },
  {
   "cell_type": "code",
   "execution_count": 28,
   "id": "f25962e6",
   "metadata": {},
   "outputs": [],
   "source": [
    "d = {1:' ', 2:' ',3:' ',4:' ',5:' ',6:' ',7:' ',8:' ',9:' '}"
   ]
  },
  {
   "cell_type": "code",
   "execution_count": 29,
   "id": "8345ddad",
   "metadata": {},
   "outputs": [
    {
     "name": "stdout",
     "output_type": "stream",
     "text": [
      "{1: ' ', 2: ' ', 3: ' ', 4: ' ', 5: ' ', 6: ' ', 7: ' ', 8: ' ', 9: ' '}\n"
     ]
    }
   ],
   "source": [
    "print(d)"
   ]
  },
  {
   "cell_type": "code",
   "execution_count": 30,
   "id": "562cf852",
   "metadata": {},
   "outputs": [],
   "source": [
    "def display_row(d,row_number):\n",
    "    print(\"     |     |     \")\n",
    "    print(\"  \",d[1 + 3*(row_number-1)],\"  \",\"|  \",d[2+3*(row_number-1)],\"  \",\"|  \",d[3+3*(row_number-1)],\"  \",sep ='')\n",
    "    print(\"     |     |     \")\n",
    "    \n",
    "    "
   ]
  },
  {
   "cell_type": "code",
   "execution_count": 31,
   "id": "18ba71f5",
   "metadata": {},
   "outputs": [
    {
     "name": "stdout",
     "output_type": "stream",
     "text": [
      "     |     |     \n",
      "     |     |     \n",
      "     |     |     \n"
     ]
    }
   ],
   "source": [
    "display_row(d,1)"
   ]
  },
  {
   "cell_type": "code",
   "execution_count": 32,
   "id": "619d5179",
   "metadata": {},
   "outputs": [],
   "source": [
    "def display_horizontal_line(n):\n",
    "    for i in range(n):\n",
    "        print('=', end='')\n",
    "    print(' ')"
   ]
  },
  {
   "cell_type": "code",
   "execution_count": 33,
   "id": "58461ef6",
   "metadata": {},
   "outputs": [
    {
     "name": "stdout",
     "output_type": "stream",
     "text": [
      "================= \n"
     ]
    }
   ],
   "source": [
    "display_horizontal_line(17)"
   ]
  },
  {
   "cell_type": "code",
   "execution_count": 34,
   "id": "abdbc7ca",
   "metadata": {},
   "outputs": [],
   "source": [
    "def display_board(d):\n",
    "    for i in range(1,4):\n",
    "        display_row(d,i)\n",
    "        if i < 3:\n",
    "            display_horizontal_line(17)\n",
    "            \n",
    "        "
   ]
  },
  {
   "cell_type": "code",
   "execution_count": 35,
   "id": "4f18af8d",
   "metadata": {},
   "outputs": [
    {
     "name": "stdout",
     "output_type": "stream",
     "text": [
      "     |     |     \n",
      "     |     |     \n",
      "     |     |     \n",
      "================= \n",
      "     |     |     \n",
      "     |     |     \n",
      "     |     |     \n",
      "================= \n",
      "     |     |     \n",
      "     |     |     \n",
      "     |     |     \n"
     ]
    }
   ],
   "source": [
    "display_board(d)\n"
   ]
  },
  {
   "cell_type": "code",
   "execution_count": 37,
   "id": "20913ae4",
   "metadata": {},
   "outputs": [],
   "source": [
    "#this function takes the input\n",
    "# first it asks the name of the first player and asks about his symbol\n",
    "# then it asks the name of the second player and allot the remaining symbol to him"
   ]
  },
  {
   "cell_type": "code",
   "execution_count": 40,
   "id": "78b6937b",
   "metadata": {},
   "outputs": [],
   "source": [
    "def player_name():   \n",
    "    user_1 = input(\"Hi! Please enter name of first player\")  #stores the name of first user\n",
    "    print(\"Hi\" , user_1)\n",
    "    user_1_char = input(\"Please choose your character x or o\") #stores the symbol of first user\n",
    "    while(user_1_char != 'x' and user_1_char != 'o' ):\n",
    "        print(\"Looks like you have not entered from x and o\")\n",
    "        user_1_char = input(\"Please choose your character x or o\")\n",
    "    user_2 = input(\"Hi! Please enter name of second player\") #stores the name of second user\n",
    "    if user_1_char == 'x': # condition for choosing symbol of second user.\n",
    "        user_2_char = 'o'\n",
    "    else:\n",
    "        user_2_char = 'x'\n",
    "    print(user_1,\"choosed\",user_1_char)\n",
    "    print(user_2,\"choosed\",user_2_char)\n",
    "    return((user_1 , user_1_char) , (user_2 , user_2_char))\n",
    "    \n",
    "        "
   ]
  },
  {
   "cell_type": "code",
   "execution_count": 42,
   "id": "2db5ac6b",
   "metadata": {},
   "outputs": [
    {
     "name": "stdout",
     "output_type": "stream",
     "text": [
      "Hi! Please enter name of first playerSwaraj\n",
      "Hi Swaraj\n",
      "Please choose your character x or ol\n",
      "Looks like you have not entered from x and o\n",
      "Please choose your character x or oo\n",
      "Hi! Please enter name of second playerHimanshu\n",
      "Swaraj choosed o\n",
      "Himanshu choosed x\n"
     ]
    },
    {
     "data": {
      "text/plain": [
       "(('Swaraj', 'o'), ('Himanshu', 'x'))"
      ]
     },
     "execution_count": 42,
     "metadata": {},
     "output_type": "execute_result"
    }
   ],
   "source": [
    "player_name()"
   ]
  },
  {
   "cell_type": "code",
   "execution_count": 43,
   "id": "381c5091",
   "metadata": {},
   "outputs": [],
   "source": [
    "#check whether all the positions in a particular row are same, if same return true else returns fasle"
   ]
  },
  {
   "cell_type": "code",
   "execution_count": 44,
   "id": "264782dd",
   "metadata": {},
   "outputs": [],
   "source": [
    "def row_check(d,char,i):\n",
    "    if d[1+i*3] == char and d[2+i*3] == char and d[3+i*3] == char:\n",
    "        return True\n",
    "    else:\n",
    "        False\n",
    "                                                   "
   ]
  },
  {
   "cell_type": "code",
   "execution_count": null,
   "id": "b463ae48",
   "metadata": {},
   "outputs": [],
   "source": [
    "#check whether all the positions in a particular Column are same, if same return true else returns fasle"
   ]
  },
  {
   "cell_type": "code",
   "execution_count": 46,
   "id": "9c867624",
   "metadata": {},
   "outputs": [],
   "source": [
    "def column_check(d,char,i):\n",
    "    if d[1+i] == char and d[4+i] == char and d[7+i] == char:\n",
    "        return True\n",
    "    else:\n",
    "        False"
   ]
  },
  {
   "cell_type": "code",
   "execution_count": null,
   "id": "93a3df0f",
   "metadata": {},
   "outputs": [],
   "source": [
    "#check whether all the positions in a diagonal 1 are same, if same return true else returns fasle"
   ]
  },
  {
   "cell_type": "code",
   "execution_count": 47,
   "id": "86d0ec15",
   "metadata": {},
   "outputs": [],
   "source": [
    "def diag1_check(d,char):\n",
    "    if d[1] == char and d[5] == char and d[9] == char:\n",
    "        return True\n",
    "    else:\n",
    "        False"
   ]
  },
  {
   "cell_type": "code",
   "execution_count": null,
   "id": "09a8de8f",
   "metadata": {},
   "outputs": [],
   "source": [
    "#check whether all the positions in a diagonal 2 are same, if same return true else returns fasle"
   ]
  },
  {
   "cell_type": "code",
   "execution_count": 48,
   "id": "5e1c589a",
   "metadata": {},
   "outputs": [],
   "source": [
    "def diag2_check(d,char):\n",
    "    if d[3] == char and d[5] == char and d[7] == char:\n",
    "        return True\n",
    "    else:\n",
    "        False"
   ]
  },
  {
   "cell_type": "code",
   "execution_count": null,
   "id": "16c7d614",
   "metadata": {},
   "outputs": [],
   "source": []
  },
  {
   "cell_type": "code",
   "execution_count": null,
   "id": "8d9a6c74",
   "metadata": {},
   "outputs": [],
   "source": []
  },
  {
   "cell_type": "code",
   "execution_count": null,
   "id": "aec16a99",
   "metadata": {},
   "outputs": [],
   "source": []
  }
 ],
 "metadata": {
  "kernelspec": {
   "display_name": "Python 3 (ipykernel)",
   "language": "python",
   "name": "python3"
  },
  "language_info": {
   "codemirror_mode": {
    "name": "ipython",
    "version": 3
   },
   "file_extension": ".py",
   "mimetype": "text/x-python",
   "name": "python",
   "nbconvert_exporter": "python",
   "pygments_lexer": "ipython3",
   "version": "3.9.7"
  }
 },
 "nbformat": 4,
 "nbformat_minor": 5
}
