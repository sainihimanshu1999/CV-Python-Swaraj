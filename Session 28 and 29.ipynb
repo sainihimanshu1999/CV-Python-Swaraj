{
 "cells": [
  {
   "cell_type": "code",
   "execution_count": 1,
   "id": "cb2dad0b",
   "metadata": {},
   "outputs": [],
   "source": [
    "# Learning database creation\n"
   ]
  },
  {
   "cell_type": "code",
   "execution_count": 1,
   "id": "f2ce6ebf",
   "metadata": {},
   "outputs": [],
   "source": [
    "#importing the database module\n",
    "import sqlite3"
   ]
  },
  {
   "cell_type": "code",
   "execution_count": 2,
   "id": "f424bb6a",
   "metadata": {},
   "outputs": [],
   "source": [
    "#connecting to the database\n",
    "\n",
    "connection = sqlite3.connect('swaraj.db')"
   ]
  },
  {
   "cell_type": "code",
   "execution_count": 3,
   "id": "698e5bd4",
   "metadata": {},
   "outputs": [],
   "source": [
    "#cursor\n",
    "\n",
    "crsr = connection.cursor()"
   ]
  },
  {
   "cell_type": "code",
   "execution_count": 4,
   "id": "b6cf9952",
   "metadata": {},
   "outputs": [],
   "source": [
    "# sql commands to create your table"
   ]
  },
  {
   "cell_type": "code",
   "execution_count": 5,
   "id": "2c3030e5",
   "metadata": {},
   "outputs": [],
   "source": [
    "sql_command = \"\"\" CREATE TABLE emp ( \n",
    "staff_number INTEGER PRIMARY KEY,\n",
    "fname VARCHAR(20),\n",
    "lname VARCHAR(30),\n",
    "gender CHAR(1),\n",
    "joining DATE)\"\"\""
   ]
  },
  {
   "cell_type": "code",
   "execution_count": 6,
   "id": "3badaba0",
   "metadata": {},
   "outputs": [
    {
     "ename": "OperationalError",
     "evalue": "table emp already exists",
     "output_type": "error",
     "traceback": [
      "\u001b[0;31m---------------------------------------------------------------------------\u001b[0m",
      "\u001b[0;31mOperationalError\u001b[0m                          Traceback (most recent call last)",
      "Input \u001b[0;32mIn [6]\u001b[0m, in \u001b[0;36m<module>\u001b[0;34m\u001b[0m\n\u001b[0;32m----> 1\u001b[0m \u001b[43mcrsr\u001b[49m\u001b[38;5;241;43m.\u001b[39;49m\u001b[43mexecute\u001b[49m\u001b[43m(\u001b[49m\u001b[43msql_command\u001b[49m\u001b[43m)\u001b[49m\n",
      "\u001b[0;31mOperationalError\u001b[0m: table emp already exists"
     ]
    }
   ],
   "source": [
    "crsr.execute(sql_command)"
   ]
  },
  {
   "cell_type": "code",
   "execution_count": null,
   "id": "5cb914a2",
   "metadata": {},
   "outputs": [],
   "source": [
    "sql_command = \"\"\"INSERT INTO emp VALUES (1,'swaraj','reddy','M','2022-03-27')\"\"\""
   ]
  },
  {
   "cell_type": "code",
   "execution_count": null,
   "id": "db41363f",
   "metadata": {},
   "outputs": [],
   "source": [
    "crsr.execute(sql_command)"
   ]
  },
  {
   "cell_type": "code",
   "execution_count": null,
   "id": "de5d2bd1",
   "metadata": {},
   "outputs": [],
   "source": [
    "sql_command = \"\"\"INSERT INTO emp VALUES (2,'Himanshu','Saini','M','2022-03-27')\"\"\""
   ]
  },
  {
   "cell_type": "code",
   "execution_count": null,
   "id": "dfbf72d8",
   "metadata": {},
   "outputs": [],
   "source": [
    "crsr.execute(sql_command)"
   ]
  },
  {
   "cell_type": "code",
   "execution_count": null,
   "id": "9f19ec8b",
   "metadata": {},
   "outputs": [],
   "source": [
    "connection.commit()"
   ]
  },
  {
   "cell_type": "code",
   "execution_count": 7,
   "id": "78e247e0",
   "metadata": {},
   "outputs": [],
   "source": [
    "connection.close()\n"
   ]
  },
  {
   "cell_type": "code",
   "execution_count": 36,
   "id": "c890ec5b",
   "metadata": {},
   "outputs": [],
   "source": [
    "from tkinter import *\n",
    "\n",
    "root = Tk()"
   ]
  },
  {
   "cell_type": "code",
   "execution_count": 37,
   "id": "badac9dd",
   "metadata": {},
   "outputs": [],
   "source": [
    "staff_number = Entry(root,width=30)\n",
    "staff_number.grid(row=0,column=1,padx=20)\n",
    "\n",
    "fname = Entry(root,width=30)\n",
    "fname.grid(row=1,column=1,padx=20)\n",
    "\n",
    "lname = Entry(root,width=30)\n",
    "lname.grid(row=2,column=1,padx=20)\n",
    "\n",
    "gender = Entry(root,width=30)\n",
    "gender.grid(row=3,column=1,padx=20)\n",
    "\n",
    "\n",
    "joining = Entry(root,width=30)\n",
    "joining.grid(row=4,column=1,padx=20)"
   ]
  },
  {
   "cell_type": "code",
   "execution_count": 38,
   "id": "8f59f954",
   "metadata": {},
   "outputs": [],
   "source": [
    "staffno_label = Label(root,text='Staff Number')\n",
    "staffno_label.grid(row=0,column=0)\n",
    "\n",
    "fname_label = Label(root,text='First Name')\n",
    "fname_label.grid(row=1,column=0)\n",
    "\n",
    "lname_label = Label(root,text='Last Name')\n",
    "lname_label.grid(row=2,column=0)\n",
    "\n",
    "gender_label = Label(root,text='gender')\n",
    "gender_label.grid(row=3,column=0)\n",
    "\n",
    "joining_label = Label(root,text='Date of Joining')\n",
    "joining_label.grid(row=4,column=0)"
   ]
  },
  {
   "cell_type": "code",
   "execution_count": 39,
   "id": "9f54e3c1",
   "metadata": {},
   "outputs": [],
   "source": [
    "Button(root,text='Submit to database',command = submit).grid(row=5,columnspan=2,pady=10,padx=20,ipadx=100)\n",
    "Button(root,text='Fetch to database',command = Query).grid(row=6,columnspan=2,pady=10,padx=20,ipadx=100)"
   ]
  },
  {
   "cell_type": "code",
   "execution_count": 40,
   "id": "b7a9b173",
   "metadata": {},
   "outputs": [],
   "source": [
    "def submit():\n",
    "    \n",
    "    connection = sqlite3.connect('swaraj.db')\n",
    "    \n",
    "    crsr = connection.cursor()\n",
    "    \n",
    "    crsr.execute(\"INSERT INTO emp VALUES (:staff_number, :fname, :lname, :gender, :joining)\", \n",
    "                {\n",
    "                    'staff_number': staff_number.get(),\n",
    "                    'fname':fname.get(),\n",
    "                    'lname':lname.get(),\n",
    "                    'gender':gender.get(),\n",
    "                    'joining':joining.get()\n",
    "                })\n",
    "    \n",
    "    connection.commit()\n",
    "    connection.close()\n",
    "    \n",
    "    # clear text boxes\n",
    "    \n",
    "    staff_number.delete(0,END)\n",
    "    fname.delete(0,END)\n",
    "    lname.delete(0,END)\n",
    "    gender.delete(0,END)\n",
    "    joining.delete(0,END)"
   ]
  },
  {
   "cell_type": "code",
   "execution_count": 41,
   "id": "a5355f1f",
   "metadata": {},
   "outputs": [],
   "source": [
    "def Query():\n",
    "    \n",
    "    connection = sqlite3.connect('swaraj.db')\n",
    "    \n",
    "    crsr = connection.cursor()\n",
    "    \n",
    "    \n",
    "    crsr.execute(\"SELECT *,oid FROM emp\")\n",
    "    \n",
    "    \n",
    "    ans = crsr.fetchall()\n",
    "    \n",
    "    \n",
    "    records = ''\n",
    "    \n",
    "    for record in ans:\n",
    "        records += record[1] + ' ' + record[2] + '\\n'\n",
    "        \n",
    "    Label(root, text=records).grid(row=7,column=0,columnspan=2)\n",
    "    "
   ]
  },
  {
   "cell_type": "code",
   "execution_count": 42,
   "id": "7b9a8f72",
   "metadata": {},
   "outputs": [],
   "source": [
    "def delete():\n",
    "    connection = sqlite3.connect('swaraj.db')\n",
    "    crsr = connection.cursor()\n",
    "    \n",
    "    connection.execute('DELETE from emp WHERE oid =' + deli.get())\n",
    "    \n",
    "    deli.delete(0,END)\n",
    "    \n",
    "    connection.commit()"
   ]
  },
  {
   "cell_type": "code",
   "execution_count": 43,
   "id": "64ebb4b4",
   "metadata": {},
   "outputs": [],
   "source": [
    "deli_label = Label(root,text='Enter the ID/Staff Number of the person to be deleted')\n",
    "deli_label.grid(row=7,column=0)"
   ]
  },
  {
   "cell_type": "code",
   "execution_count": 44,
   "id": "189f64de",
   "metadata": {},
   "outputs": [],
   "source": [
    "deli = Entry(root,width = 30)\n",
    "deli.grid(row=7, column=1,padx=20)"
   ]
  },
  {
   "cell_type": "code",
   "execution_count": 45,
   "id": "e64d73f1",
   "metadata": {},
   "outputs": [],
   "source": [
    "Button(root,text='Delete the enetered ID',command=delete).grid(row=8,columnspan=2,pady=10,padx=20,ipadx=100)"
   ]
  },
  {
   "cell_type": "code",
   "execution_count": 46,
   "id": "29b30147",
   "metadata": {},
   "outputs": [],
   "source": [
    "Button(root,text = 'Select the entered ID', command= update).grid(row=9,columnspan=2,pady=10,padx=20,ipadx=10)"
   ]
  },
  {
   "cell_type": "code",
   "execution_count": 47,
   "id": "e325340c",
   "metadata": {},
   "outputs": [],
   "source": [
    "def update():\n",
    "    up = Tk()\n",
    "    \n",
    "    connection = sqlite3.connect('swaraj.db')\n",
    "    crsr = connection.cursor()\n",
    "    \n",
    "    record_id = deli.get()\n",
    "    crsr.execute('SELECT * FROM emp WHERE oid =' + record_id)\n",
    "    \n",
    "    records = crsr.fetchall()\n",
    "    \n",
    "    global staff_edit\n",
    "    staff_edit = Entry(up,width=30)\n",
    "    staff_edit.grid(row=0,column=1,padx=20)\n",
    "    \n",
    "    global fname_edit\n",
    "    fname_edit = Entry(up,width=30)\n",
    "    fname_edit.grid(row=1,column=1,padx=20)\n",
    "    \n",
    "    global lname_edit\n",
    "    lname_edit = Entry(up,width=30)\n",
    "    lname_edit.grid(row=2,column=1,padx=20)\n",
    "    \n",
    "    global gender_edit\n",
    "    gender_edit = Entry(up,width=30)\n",
    "    gender_edit.grid(row=3,column=1,padx=20)\n",
    "    \n",
    "    global joining_edit\n",
    "    joining_edit = Entry(up,width=30)\n",
    "    joining_edit.grid(row=4,column=1,padx=20)\n",
    "    \n",
    "    \n",
    "    staff_label = Label(up,text='Staff Number')\n",
    "    staff_label.grid(row=0,column=0)\n",
    "    \n",
    "    fname_label = Label(up,text='First Name')\n",
    "    fname_label.grid(row=1,column=0)\n",
    "    \n",
    "    lname_label = Label(up,text='Last name')\n",
    "    lname_label.grid(row=2,column=0)\n",
    "    \n",
    "    gender_label = Label(up,text='Gender')\n",
    "    gender_label.grid(row=3,column=0)\n",
    "    \n",
    "    joining_label = Label(up,text='Joining')\n",
    "    joining_label.grid(row=4,column=0)\n",
    "    \n",
    "    for record in records:\n",
    "        staff_edit.insert(0,record[0])\n",
    "        fname_edit.insert(0,record[1])\n",
    "        lname_edit.insert(0,record[2])\n",
    "        gender_edit.insert(0,record[3])\n",
    "        joining_edit.insert(0,record[4])\n",
    "        \n",
    "        \n",
    "        \n",
    "    Button(up,text='Submit Changes', command = edit).grid(row=5,column=1,pady=10,padx=10)\n",
    "    \n",
    "    Button(up,text='Exit',command=up.destroy).grid(row=6,column=1,pady=10,padx=10)\n",
    "    \n",
    "    connection.commit()\n",
    "    connection.close()\n",
    "        "
   ]
  },
  {
   "cell_type": "code",
   "execution_count": 48,
   "id": "bf5dae4a",
   "metadata": {},
   "outputs": [],
   "source": [
    "def edit():\n",
    "    connection = sqlite3.connect('swaraj.db')\n",
    "    crsr = connection.cursor()\n",
    "    \n",
    "    crsr.execute('''UPDATE emp SET \n",
    "    'staff_number': staff_number,\n",
    "    'fname':fname,\n",
    "    'lname':lname,\n",
    "    'gender':gender,\n",
    "    'joining':joining\n",
    "    Where oid = :Aid''',\n",
    "                 {\n",
    "                     'staff_number':staff_edit.get(),\n",
    "                     'fname':fname_edit.get(),\n",
    "                     'lname':lname_edit.get(),\n",
    "                     'gender':gender_edit.get(),\n",
    "                     'joining':joining_edit.get(),\n",
    "                     'Aid':deli.get()\n",
    "                 }\n",
    "                 \n",
    "                )\n",
    "    connection.commit()\n",
    "    connection.close()\n",
    "    "
   ]
  },
  {
   "cell_type": "code",
   "execution_count": 49,
   "id": "38df40eb",
   "metadata": {},
   "outputs": [
    {
     "name": "stderr",
     "output_type": "stream",
     "text": [
      "Exception in Tkinter callback\n",
      "Traceback (most recent call last):\n",
      "  File \"/usr/lib/python3.9/tkinter/__init__.py\", line 1892, in __call__\n",
      "    return self.func(*args)\n",
      "  File \"/tmp/ipykernel_5759/2363638765.py\", line 5, in edit\n",
      "    crsr.execute('''UPDATE emp SET\n",
      "sqlite3.OperationalError: unrecognized token: \":\"\n"
     ]
    }
   ],
   "source": [
    "root.mainloop()\n",
    "\n",
    "\n",
    "\n",
    "\n",
    "\n",
    "\n"
   ]
  },
  {
   "cell_type": "code",
   "execution_count": null,
   "id": "320b8396",
   "metadata": {},
   "outputs": [],
   "source": []
  }
 ],
 "metadata": {
  "kernelspec": {
   "display_name": "Python 3 (ipykernel)",
   "language": "python",
   "name": "python3"
  },
  "language_info": {
   "codemirror_mode": {
    "name": "ipython",
    "version": 3
   },
   "file_extension": ".py",
   "mimetype": "text/x-python",
   "name": "python",
   "nbconvert_exporter": "python",
   "pygments_lexer": "ipython3",
   "version": "3.9.7"
  }
 },
 "nbformat": 4,
 "nbformat_minor": 5
}
