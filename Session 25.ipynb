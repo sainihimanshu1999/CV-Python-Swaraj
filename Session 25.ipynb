{
 "cells": [
  {
   "cell_type": "code",
   "execution_count": 1,
   "id": "beac7a5d",
   "metadata": {},
   "outputs": [],
   "source": [
    "# Message Box widget"
   ]
  },
  {
   "cell_type": "code",
   "execution_count": 35,
   "id": "0dd250f7",
   "metadata": {},
   "outputs": [],
   "source": [
    "from tkinter import *\n",
    "from tkinter import messagebox"
   ]
  },
  {
   "cell_type": "code",
   "execution_count": 36,
   "id": "8d933a04",
   "metadata": {},
   "outputs": [],
   "source": [
    "root =Tk()"
   ]
  },
  {
   "cell_type": "code",
   "execution_count": 37,
   "id": "58f12ad2",
   "metadata": {},
   "outputs": [
    {
     "data": {
      "text/plain": [
       "''"
      ]
     },
     "execution_count": 37,
     "metadata": {},
     "output_type": "execute_result"
    }
   ],
   "source": [
    "root.geometry('300x200')"
   ]
  },
  {
   "cell_type": "code",
   "execution_count": 38,
   "id": "ae412ccc",
   "metadata": {},
   "outputs": [],
   "source": [
    "w  = Label(root,text='Swaraj',font='50')\n",
    "w.pack()\n"
   ]
  },
  {
   "cell_type": "code",
   "execution_count": 39,
   "id": "adfcf478",
   "metadata": {},
   "outputs": [],
   "source": [
    "def func(boxtype,response):\n",
    "    Label(root,text= boxtype+' gives the output as '+str(response)).pack()\n",
    "    "
   ]
  },
  {
   "cell_type": "code",
   "execution_count": 40,
   "id": "2233b0c1",
   "metadata": {},
   "outputs": [],
   "source": [
    "response = messagebox.showinfo('showinfo','Information like anything your read')\n",
    "func('showinfo',response)"
   ]
  },
  {
   "cell_type": "code",
   "execution_count": 9,
   "id": "94ec5acc",
   "metadata": {},
   "outputs": [
    {
     "data": {
      "text/plain": [
       "'ok'"
      ]
     },
     "execution_count": 9,
     "metadata": {},
     "output_type": "execute_result"
    }
   ],
   "source": [
    "messagebox.showwarning('showwarning','Warning, please fix the TIME')"
   ]
  },
  {
   "cell_type": "code",
   "execution_count": 11,
   "id": "badd5c24",
   "metadata": {},
   "outputs": [
    {
     "data": {
      "text/plain": [
       "'ok'"
      ]
     },
     "execution_count": 11,
     "metadata": {},
     "output_type": "execute_result"
    }
   ],
   "source": [
    "messagebox.showerror('swaraj error','Error')"
   ]
  },
  {
   "cell_type": "code",
   "execution_count": 12,
   "id": "c8b3c41e",
   "metadata": {},
   "outputs": [
    {
     "data": {
      "text/plain": [
       "'no'"
      ]
     },
     "execution_count": 12,
     "metadata": {},
     "output_type": "execute_result"
    }
   ],
   "source": [
    "messagebox.askquestion('Questions','Are you sure about sunday timings?')"
   ]
  },
  {
   "cell_type": "code",
   "execution_count": 13,
   "id": "d34c0583",
   "metadata": {},
   "outputs": [
    {
     "data": {
      "text/plain": [
       "False"
      ]
     },
     "execution_count": 13,
     "metadata": {},
     "output_type": "execute_result"
    }
   ],
   "source": [
    "messagebox.askokcancel('askokcancel','want to continue this thing?')"
   ]
  },
  {
   "cell_type": "code",
   "execution_count": 15,
   "id": "ce0b2d2b",
   "metadata": {},
   "outputs": [
    {
     "data": {
      "text/plain": [
       "True"
      ]
     },
     "execution_count": 15,
     "metadata": {},
     "output_type": "execute_result"
    }
   ],
   "source": [
    "messagebox.askyesno('askyesno','Find the value?')"
   ]
  },
  {
   "cell_type": "code",
   "execution_count": 16,
   "id": "179b1dcc",
   "metadata": {},
   "outputs": [
    {
     "data": {
      "text/plain": [
       "True"
      ]
     },
     "execution_count": 16,
     "metadata": {},
     "output_type": "execute_result"
    }
   ],
   "source": [
    "messagebox.askretrycancel('retry and cancel','DO YOU REALLY WANT TO TRY AGAIN?')"
   ]
  },
  {
   "cell_type": "code",
   "execution_count": 41,
   "id": "28e1efb5",
   "metadata": {},
   "outputs": [],
   "source": [
    "root.mainloop()"
   ]
  },
  {
   "cell_type": "code",
   "execution_count": 49,
   "id": "0cac7899",
   "metadata": {},
   "outputs": [],
   "source": [
    "import PIL\n",
    "from PIL import ImageTk,Image"
   ]
  },
  {
   "cell_type": "code",
   "execution_count": 50,
   "id": "55cc120f",
   "metadata": {},
   "outputs": [],
   "source": [
    "master = Tk()"
   ]
  },
  {
   "cell_type": "code",
   "execution_count": 51,
   "id": "27d8d35d",
   "metadata": {},
   "outputs": [],
   "source": [
    "def open():\n",
    "    global myImage\n",
    "    myImage = ImageTk.PhotoImage(Image.open('/home/himanshu/CV-Python-Swaraj/Paul.png'))\n",
    "    top = Toplevel()\n",
    "    top.geometry('300x400')\n",
    "    Button(top, text='Close the window', command=top.destroy).pack()\n",
    "    Label(top,image=myImage).pack()\n",
    "    "
   ]
  },
  {
   "cell_type": "code",
   "execution_count": 52,
   "id": "161292f1",
   "metadata": {},
   "outputs": [
    {
     "data": {
      "text/plain": [
       "''"
      ]
     },
     "execution_count": 52,
     "metadata": {},
     "output_type": "execute_result"
    }
   ],
   "source": [
    "master.geometry('300x400')"
   ]
  },
  {
   "cell_type": "code",
   "execution_count": 53,
   "id": "1ff2db5e",
   "metadata": {},
   "outputs": [],
   "source": [
    "Button(master,text='Open the second window',command=open).pack()"
   ]
  },
  {
   "cell_type": "code",
   "execution_count": 54,
   "id": "b62ee4ba",
   "metadata": {},
   "outputs": [],
   "source": [
    "master.mainloop()"
   ]
  },
  {
   "cell_type": "code",
   "execution_count": null,
   "id": "ada63a78",
   "metadata": {},
   "outputs": [],
   "source": []
  }
 ],
 "metadata": {
  "kernelspec": {
   "display_name": "Python 3 (ipykernel)",
   "language": "python",
   "name": "python3"
  },
  "language_info": {
   "codemirror_mode": {
    "name": "ipython",
    "version": 3
   },
   "file_extension": ".py",
   "mimetype": "text/x-python",
   "name": "python",
   "nbconvert_exporter": "python",
   "pygments_lexer": "ipython3",
   "version": "3.9.7"
  }
 },
 "nbformat": 4,
 "nbformat_minor": 5
}
