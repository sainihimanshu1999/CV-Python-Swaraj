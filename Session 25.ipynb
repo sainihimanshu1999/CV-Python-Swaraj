{
 "cells": [
  {
   "cell_type": "code",
   "execution_count": 1,
   "id": "8ff828a1",
   "metadata": {},
   "outputs": [],
   "source": [
    "# Message Box widget"
   ]
  },
  {
   "cell_type": "code",
   "execution_count": 35,
   "id": "7e6477f3",
   "metadata": {},
   "outputs": [],
   "source": [
    "from tkinter import *\n",
    "from tkinter import messagebox"
   ]
  },
  {
   "cell_type": "code",
   "execution_count": 36,
   "id": "d5083595",
   "metadata": {},
   "outputs": [],
   "source": [
    "root =Tk()"
   ]
  },
  {
   "cell_type": "code",
   "execution_count": 37,
   "id": "0e7c8f62",
   "metadata": {},
   "outputs": [
    {
     "data": {
      "text/plain": [
       "''"
      ]
     },
     "execution_count": 37,
     "metadata": {},
     "output_type": "execute_result"
    }
   ],
   "source": [
    "root.geometry('300x200')"
   ]
  },
  {
   "cell_type": "code",
   "execution_count": 38,
   "id": "dbb5bb00",
   "metadata": {},
   "outputs": [],
   "source": [
    "w  = Label(root,text='Swaraj',font='50')\n",
    "w.pack()\n"
   ]
  },
  {
   "cell_type": "code",
   "execution_count": 39,
   "id": "9357d16d",
   "metadata": {},
   "outputs": [],
   "source": [
    "def func(boxtype,response):\n",
    "    Label(root,text= boxtype+' gives the output as '+str(response)).pack()\n",
    "    "
   ]
  },
  {
   "cell_type": "code",
   "execution_count": 40,
   "id": "2b9cbe44",
   "metadata": {},
   "outputs": [],
   "source": [
    "response = messagebox.showinfo('showinfo','Information like anything your read')\n",
    "func('showinfo',response)"
   ]
  },
  {
   "cell_type": "code",
   "execution_count": 9,
   "id": "d900629d",
   "metadata": {},
   "outputs": [
    {
     "data": {
      "text/plain": [
       "'ok'"
      ]
     },
     "execution_count": 9,
     "metadata": {},
     "output_type": "execute_result"
    }
   ],
   "source": [
    "messagebox.showwarning('showwarning','Warning, please fix the TIME')"
   ]
  },
  {
   "cell_type": "code",
   "execution_count": 11,
   "id": "7034a09a",
   "metadata": {},
   "outputs": [
    {
     "data": {
      "text/plain": [
       "'ok'"
      ]
     },
     "execution_count": 11,
     "metadata": {},
     "output_type": "execute_result"
    }
   ],
   "source": [
    "messagebox.showerror('swaraj error','Error')"
   ]
  },
  {
   "cell_type": "code",
   "execution_count": 12,
   "id": "3defe865",
   "metadata": {},
   "outputs": [
    {
     "data": {
      "text/plain": [
       "'no'"
      ]
     },
     "execution_count": 12,
     "metadata": {},
     "output_type": "execute_result"
    }
   ],
   "source": [
    "messagebox.askquestion('Questions','Are you sure about sunday timings?')"
   ]
  },
  {
   "cell_type": "code",
   "execution_count": 13,
   "id": "aa43544a",
   "metadata": {},
   "outputs": [
    {
     "data": {
      "text/plain": [
       "False"
      ]
     },
     "execution_count": 13,
     "metadata": {},
     "output_type": "execute_result"
    }
   ],
   "source": [
    "messagebox.askokcancel('askokcancel','want to continue this thing?')"
   ]
  },
  {
   "cell_type": "code",
   "execution_count": 15,
   "id": "6733fa1a",
   "metadata": {},
   "outputs": [
    {
     "data": {
      "text/plain": [
       "True"
      ]
     },
     "execution_count": 15,
     "metadata": {},
     "output_type": "execute_result"
    }
   ],
   "source": [
    "messagebox.askyesno('askyesno','Find the value?')"
   ]
  },
  {
   "cell_type": "code",
   "execution_count": 16,
   "id": "ea049753",
   "metadata": {},
   "outputs": [
    {
     "data": {
      "text/plain": [
       "True"
      ]
     },
     "execution_count": 16,
     "metadata": {},
     "output_type": "execute_result"
    }
   ],
   "source": [
    "messagebox.askretrycancel('retry and cancel','DO YOU REALLY WANT TO TRY AGAIN?')"
   ]
  },
  {
   "cell_type": "code",
   "execution_count": 41,
   "id": "054ce3b5",
   "metadata": {},
   "outputs": [],
   "source": [
    "root.mainloop()"
   ]
  },
  {
   "cell_type": "code",
   "execution_count": 49,
   "id": "82918315",
   "metadata": {},
   "outputs": [],
   "source": [
    "import PIL\n",
    "from PIL import ImageTk,Image"
   ]
  },
  {
   "cell_type": "code",
   "execution_count": 50,
   "id": "c3dfcaed",
   "metadata": {},
   "outputs": [],
   "source": [
    "master = Tk()"
   ]
  },
  {
   "cell_type": "code",
   "execution_count": 51,
   "id": "a3c51b78",
   "metadata": {},
   "outputs": [],
   "source": [
    "def open():\n",
    "    global myImage\n",
    "    myImage = ImageTk.PhotoImage(Image.open('/home/himanshu/CV-Python-Swaraj/Paul.png'))\n",
    "    top = Toplevel()\n",
    "    top.geometry('300x400')\n",
    "    Button(top, text='Close the window', command=top.destroy).pack()\n",
    "    Label(top,image=myImage).pack()\n",
    "    "
   ]
  },
  {
   "cell_type": "code",
   "execution_count": 52,
   "id": "8e08c9d4",
   "metadata": {},
   "outputs": [
    {
     "data": {
      "text/plain": [
       "''"
      ]
     },
     "execution_count": 52,
     "metadata": {},
     "output_type": "execute_result"
    }
   ],
   "source": [
    "master.geometry('300x400')"
   ]
  },
  {
   "cell_type": "code",
   "execution_count": 53,
   "id": "0ff2b110",
   "metadata": {},
   "outputs": [],
   "source": [
    "Button(master,text='Open the second window',command=open).pack()"
   ]
  },
  {
   "cell_type": "code",
   "execution_count": null,
   "id": "b1c1d45e",
   "metadata": {},
   "outputs": [],
   "source": [
    "master.mainloop()"
   ]
  },
  {
   "cell_type": "code",
   "execution_count": null,
   "id": "132a3f1a",
   "metadata": {},
   "outputs": [],
   "source": []
  }
 ],
 "metadata": {
  "kernelspec": {
   "display_name": "Python 3 (ipykernel)",
   "language": "python",
   "name": "python3"
  },
  "language_info": {
   "codemirror_mode": {
    "name": "ipython",
    "version": 3
   },
   "file_extension": ".py",
   "mimetype": "text/x-python",
   "name": "python",
   "nbconvert_exporter": "python",
   "pygments_lexer": "ipython3",
   "version": "3.9.7"
  }
 },
 "nbformat": 4,
 "nbformat_minor": 5
}
