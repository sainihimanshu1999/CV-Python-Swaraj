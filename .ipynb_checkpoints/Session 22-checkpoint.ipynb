{
 "cells": [
  {
   "cell_type": "code",
   "execution_count": 11,
   "id": "cd69ef9f",
   "metadata": {},
   "outputs": [
    {
     "name": "stdout",
     "output_type": "stream",
     "text": [
      "<class 'int'>\n"
     ]
    }
   ],
   "source": [
    "# Calculator using Tkinter\n",
    "# expressions are just equation\n",
    "# 2    screen = 2 + 5 = 7\n",
    "# +\n",
    "#5\n",
    "#s = '2+5'\n",
    "#print(type(eval(s)))"
   ]
  },
  {
   "cell_type": "code",
   "execution_count": 2,
   "id": "3a358dec",
   "metadata": {},
   "outputs": [],
   "source": [
    "from tkinter import *"
   ]
  },
  {
   "cell_type": "code",
   "execution_count": 3,
   "id": "8840ad67",
   "metadata": {},
   "outputs": [],
   "source": [
    "# declare a variable"
   ]
  },
  {
   "cell_type": "code",
   "execution_count": 4,
   "id": "602b8ebb",
   "metadata": {},
   "outputs": [],
   "source": [
    "expression = ''"
   ]
  },
  {
   "cell_type": "code",
   "execution_count": 5,
   "id": "4de5c47b",
   "metadata": {},
   "outputs": [],
   "source": [
    "#  function to update the expression"
   ]
  },
  {
   "cell_type": "code",
   "execution_count": 6,
   "id": "2d66cd72",
   "metadata": {},
   "outputs": [],
   "source": [
    "def press(num):\n",
    "    global expression\n",
    "    \n",
    "    expression = expression + str(num)\n",
    "    \n",
    "    equation.set(expression)"
   ]
  },
  {
   "cell_type": "code",
   "execution_count": 8,
   "id": "c0084c93",
   "metadata": {},
   "outputs": [],
   "source": [
    "# function to evaluate the final answer\n",
    "# we are using try and except method to avoid common errors like division by zero and many more\n",
    "# try and except method is usally used for error handling"
   ]
  },
  {
   "cell_type": "code",
   "execution_count": 12,
   "id": "efc00eb5",
   "metadata": {},
   "outputs": [],
   "source": [
    "def equalpress():\n",
    "    \n",
    "    try:\n",
    "        \n",
    "        global expression\n",
    "        \n",
    "        total = str(eval(expression))\n",
    "        \n",
    "        equation.set(total)\n",
    "        \n",
    "        expression = ''\n",
    "        \n",
    "    \n",
    "    except:\n",
    "        equation.set('error')\n",
    "        expression = ''\n",
    "        \n",
    "        \n",
    "        \n",
    "        "
   ]
  },
  {
   "cell_type": "code",
   "execution_count": 13,
   "id": "34ea05a8",
   "metadata": {},
   "outputs": [],
   "source": [
    "# function for the clearing of the screen"
   ]
  },
  {
   "cell_type": "code",
   "execution_count": 14,
   "id": "286f8421",
   "metadata": {},
   "outputs": [],
   "source": [
    "def clear():\n",
    "    global expression\n",
    "    expression = ''\n",
    "    equation.set(expression)"
   ]
  },
  {
   "cell_type": "code",
   "execution_count": 15,
   "id": "8b4d5900",
   "metadata": {},
   "outputs": [],
   "source": [
    "# basically making tkinter or gui window"
   ]
  },
  {
   "cell_type": "code",
   "execution_count": 71,
   "id": "5b77f297",
   "metadata": {},
   "outputs": [],
   "source": [
    "gui = Tk()"
   ]
  },
  {
   "cell_type": "code",
   "execution_count": 72,
   "id": "dca6e160",
   "metadata": {},
   "outputs": [],
   "source": [
    "# to set the background color"
   ]
  },
  {
   "cell_type": "code",
   "execution_count": 73,
   "id": "bc05cf20",
   "metadata": {},
   "outputs": [],
   "source": [
    "gui.configure(background='light green')"
   ]
  },
  {
   "cell_type": "code",
   "execution_count": 74,
   "id": "d1b24699",
   "metadata": {},
   "outputs": [
    {
     "data": {
      "text/plain": [
       "''"
      ]
     },
     "execution_count": 74,
     "metadata": {},
     "output_type": "execute_result"
    }
   ],
   "source": [
    "gui.title('Simple calculator')"
   ]
  },
  {
   "cell_type": "code",
   "execution_count": 75,
   "id": "7279824c",
   "metadata": {},
   "outputs": [
    {
     "data": {
      "text/plain": [
       "''"
      ]
     },
     "execution_count": 75,
     "metadata": {},
     "output_type": "execute_result"
    }
   ],
   "source": [
    "gui.geometry('270x150')"
   ]
  },
  {
   "cell_type": "code",
   "execution_count": 76,
   "id": "057ddcc9",
   "metadata": {},
   "outputs": [],
   "source": [
    "equation = StringVar()"
   ]
  },
  {
   "cell_type": "code",
   "execution_count": 77,
   "id": "582d3334",
   "metadata": {},
   "outputs": [],
   "source": [
    "expression_field = Entry(gui,textvariable=equation)"
   ]
  },
  {
   "cell_type": "code",
   "execution_count": 78,
   "id": "cce3f7aa",
   "metadata": {},
   "outputs": [],
   "source": [
    "expression_field.grid(columnspan =4 , ipadx=70)"
   ]
  },
  {
   "cell_type": "code",
   "execution_count": 79,
   "id": "c9d38ad5",
   "metadata": {},
   "outputs": [],
   "source": [
    "equation.set('Enter your expression')"
   ]
  },
  {
   "cell_type": "code",
   "execution_count": 80,
   "id": "ac1335e6",
   "metadata": {},
   "outputs": [],
   "source": [
    "# button grid of the calculator"
   ]
  },
  {
   "cell_type": "code",
   "execution_count": 81,
   "id": "0cf96e7c",
   "metadata": {},
   "outputs": [],
   "source": [
    "button1 = Button(gui,text='1',fg='black',bg='red',command=lambda:press(1),height=1, width=7)\n",
    "button1.grid(row=2,column=0)"
   ]
  },
  {
   "cell_type": "code",
   "execution_count": 82,
   "id": "44dcfad8",
   "metadata": {},
   "outputs": [],
   "source": [
    "button2 = Button(gui,text='2',fg='black',bg='red',command=lambda:press(2),height=1, width=7)\n",
    "button2.grid(row=2,column=1)"
   ]
  },
  {
   "cell_type": "code",
   "execution_count": 83,
   "id": "7ae53c28",
   "metadata": {},
   "outputs": [],
   "source": [
    "button3 = Button(gui,text='3',fg='black',bg='red',command=lambda:press(3),height=1, width=7)\n",
    "button3.grid(row=2,column=2)"
   ]
  },
  {
   "cell_type": "code",
   "execution_count": 84,
   "id": "d767a3a6",
   "metadata": {},
   "outputs": [],
   "source": [
    "button4 = Button(gui,text='4',fg='black',bg='red',command=lambda:press(4),height=1, width=7)\n",
    "button4.grid(row=3,column=0)"
   ]
  },
  {
   "cell_type": "code",
   "execution_count": 85,
   "id": "3a173d18",
   "metadata": {},
   "outputs": [],
   "source": [
    "button5 = Button(gui,text='5',fg='black',bg='red',command=lambda:press(5),height=1, width=7)\n",
    "button5.grid(row=3,column=1)"
   ]
  },
  {
   "cell_type": "code",
   "execution_count": 86,
   "id": "b0ca253a",
   "metadata": {},
   "outputs": [],
   "source": [
    "button6 = Button(gui,text='6',fg='black',bg='red',command=lambda:press(6),height=1, width=7)\n",
    "button6.grid(row=3,column=2)"
   ]
  },
  {
   "cell_type": "code",
   "execution_count": 87,
   "id": "c7d803e8",
   "metadata": {},
   "outputs": [],
   "source": [
    "button7 = Button(gui,text='7',fg='black',bg='red',command=lambda:press(7),height=1, width=7)\n",
    "button7.grid(row=4,column=0)"
   ]
  },
  {
   "cell_type": "code",
   "execution_count": 88,
   "id": "2db56845",
   "metadata": {},
   "outputs": [],
   "source": [
    "button8 = Button(gui,text='8',fg='black',bg='red',command=lambda:press(8),height=1, width=7)\n",
    "button8.grid(row=4,column=1)"
   ]
  },
  {
   "cell_type": "code",
   "execution_count": 89,
   "id": "8a2bde84",
   "metadata": {},
   "outputs": [],
   "source": [
    "button9 = Button(gui,text='9',fg='black',bg='red',command=lambda:press(9),height=1, width=7)\n",
    "button9.grid(row=4,column=2)"
   ]
  },
  {
   "cell_type": "code",
   "execution_count": 90,
   "id": "4d892d35",
   "metadata": {},
   "outputs": [],
   "source": [
    "button0 = Button(gui,text='0',fg='black',bg='red',command=lambda:press(0),height=1, width=7)\n",
    "button0.grid(row=5,column=0)"
   ]
  },
  {
   "cell_type": "code",
   "execution_count": 91,
   "id": "ede9861c",
   "metadata": {},
   "outputs": [],
   "source": [
    "plus = Button(gui, text=' + ', fg='black', bg='red', \n",
    "                command=lambda: press(\"+\"), height=1, width=7) \n",
    "plus.grid(row=2, column=3) "
   ]
  },
  {
   "cell_type": "code",
   "execution_count": 92,
   "id": "ceeb3a9b",
   "metadata": {},
   "outputs": [],
   "source": [
    "minus = Button(gui,text='-',fg='black',bg='red',command=lambda:press('-'),height=1, width=7)\n",
    "minus.grid(row=3,column=3)"
   ]
  },
  {
   "cell_type": "code",
   "execution_count": 93,
   "id": "c88cd939",
   "metadata": {},
   "outputs": [],
   "source": [
    "multiply = Button(gui,text='*',fg='black',bg='red',command=lambda:press('*'),height=1, width=7)\n",
    "multiply.grid(row=4,column=3)"
   ]
  },
  {
   "cell_type": "code",
   "execution_count": 94,
   "id": "4431cfc0",
   "metadata": {},
   "outputs": [],
   "source": [
    "divide = Button(gui,text='/',fg='black',bg='red',command=lambda:press('/'),height=1, width=7)\n",
    "divide.grid(row=5,column=3)"
   ]
  },
  {
   "cell_type": "code",
   "execution_count": 95,
   "id": "5cc2ed1f",
   "metadata": {},
   "outputs": [],
   "source": [
    "equal = Button(gui,text='=',fg='black',bg='red',command=equalpress,height=1, width=7)\n",
    "equal.grid(row=5,column=2)"
   ]
  },
  {
   "cell_type": "code",
   "execution_count": 96,
   "id": "e74cc68c",
   "metadata": {},
   "outputs": [],
   "source": [
    "clear = Button(gui,text='Clear',fg='black',bg='red',command=clear,height=1, width=7)\n",
    "clear.grid(row=5,column=1)"
   ]
  },
  {
   "cell_type": "code",
   "execution_count": 97,
   "id": "936d070d",
   "metadata": {},
   "outputs": [],
   "source": [
    "Decimal = Button(gui,text='.',fg='black',bg='red',command=lambda:press('.'),height=1, width=7)\n",
    "Decimal.grid(row=6,column=0)"
   ]
  },
  {
   "cell_type": "code",
   "execution_count": 98,
   "id": "7dcc90cd",
   "metadata": {},
   "outputs": [],
   "source": [
    "gui.mainloop()"
   ]
  },
  {
   "cell_type": "code",
   "execution_count": null,
   "id": "66badc3e",
   "metadata": {},
   "outputs": [],
   "source": []
  }
 ],
 "metadata": {
  "kernelspec": {
   "display_name": "Python 3 (ipykernel)",
   "language": "python",
   "name": "python3"
  },
  "language_info": {
   "codemirror_mode": {
    "name": "ipython",
    "version": 3
   },
   "file_extension": ".py",
   "mimetype": "text/x-python",
   "name": "python",
   "nbconvert_exporter": "python",
   "pygments_lexer": "ipython3",
   "version": "3.9.7"
  }
 },
 "nbformat": 4,
 "nbformat_minor": 5
}
