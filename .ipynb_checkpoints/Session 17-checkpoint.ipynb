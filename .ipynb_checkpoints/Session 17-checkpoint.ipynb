{
 "cells": [
  {
   "cell_type": "code",
   "execution_count": 1,
   "id": "822abf42",
   "metadata": {},
   "outputs": [],
   "source": [
    "# OS MODULE AND ERROR HANDLING"
   ]
  },
  {
   "cell_type": "code",
   "execution_count": 2,
   "id": "be55253b",
   "metadata": {},
   "outputs": [
    {
     "data": {
      "text/plain": [
       "'/home/himanshu/CV Python Swaraj'"
      ]
     },
     "execution_count": 2,
     "metadata": {},
     "output_type": "execute_result"
    }
   ],
   "source": [
    "pwd"
   ]
  },
  {
   "cell_type": "code",
   "execution_count": 3,
   "id": "6ca69b7c",
   "metadata": {},
   "outputs": [
    {
     "name": "stdout",
     "output_type": "stream",
     "text": [
      "'Session 10.ipynb'  'Session 14.ipynb'  'Session 17.ipynb'\r\n",
      "'Session 11.ipynb'   Session15.ipynb    'Session 8.ipynb'\r\n",
      "'Session 12.ipynb'  'Session 16.ipynb'  'Session 9.ipynb'\r\n"
     ]
    }
   ],
   "source": [
    "ls"
   ]
  },
  {
   "cell_type": "code",
   "execution_count": 11,
   "id": "be36cc97",
   "metadata": {},
   "outputs": [],
   "source": [
    "f = open('practice.txt','wt')"
   ]
  },
  {
   "cell_type": "code",
   "execution_count": 12,
   "id": "a2a02d95",
   "metadata": {},
   "outputs": [],
   "source": [
    "f.write('Swaraj')\n",
    "f.close()"
   ]
  },
  {
   "cell_type": "code",
   "execution_count": 13,
   "id": "7c12e524",
   "metadata": {},
   "outputs": [],
   "source": [
    "# getting dictionaries"
   ]
  },
  {
   "cell_type": "code",
   "execution_count": 14,
   "id": "4d8d0948",
   "metadata": {},
   "outputs": [],
   "source": [
    "import os"
   ]
  },
  {
   "cell_type": "code",
   "execution_count": 15,
   "id": "5e858704",
   "metadata": {},
   "outputs": [
    {
     "data": {
      "text/plain": [
       "'/home/himanshu/CV Python Swaraj'"
      ]
     },
     "execution_count": 15,
     "metadata": {},
     "output_type": "execute_result"
    }
   ],
   "source": [
    "os.getcwd()"
   ]
  },
  {
   "cell_type": "code",
   "execution_count": 16,
   "id": "2dc02dd0",
   "metadata": {},
   "outputs": [],
   "source": [
    "import shutil"
   ]
  },
  {
   "cell_type": "code",
   "execution_count": 17,
   "id": "8b0be5f4",
   "metadata": {},
   "outputs": [],
   "source": [
    "# shutil module is used to copy file from directory to different directory, which just basically means\n",
    "#by using this shutil code we can copy any file from one folder and moce it to another folder"
   ]
  },
  {
   "cell_type": "code",
   "execution_count": 20,
   "id": "8f5e2d1c",
   "metadata": {},
   "outputs": [
    {
     "data": {
      "text/plain": [
       "['.git',\n",
       " 'Session 16.ipynb',\n",
       " 'Session 14.ipynb',\n",
       " 'Session 17.ipynb',\n",
       " 'Session 9.ipynb',\n",
       " 'Session 8.ipynb',\n",
       " 'Session 10.ipynb',\n",
       " 'Session 12.ipynb',\n",
       " '.ipynb_checkpoints',\n",
       " 'Session 11.ipynb',\n",
       " 'Session15.ipynb',\n",
       " 'practice.txt']"
      ]
     },
     "execution_count": 20,
     "metadata": {},
     "output_type": "execute_result"
    }
   ],
   "source": [
    "# listdir() basically gives us the list of files and folder present in that address\n",
    "\n",
    "os.listdir()"
   ]
  },
  {
   "cell_type": "code",
   "execution_count": 21,
   "id": "6595182a",
   "metadata": {},
   "outputs": [
    {
     "data": {
      "text/plain": [
       "['.python_history',\n",
       " 'notebook',\n",
       " '.profile',\n",
       " 'CV Python Areeb',\n",
       " '.jupyter',\n",
       " '.ssh',\n",
       " '.mozilla',\n",
       " '.ipython',\n",
       " 'Videos',\n",
       " '.vscode',\n",
       " '.cache',\n",
       " '.bash_history',\n",
       " 'CV Python Sarveshh',\n",
       " 'Desktop',\n",
       " '.bash_logout',\n",
       " '.config',\n",
       " 'Music',\n",
       " 'Templates',\n",
       " 'CV Pyhton Sriyansh',\n",
       " '.var',\n",
       " '.bashrc',\n",
       " 'synth-shell',\n",
       " 'Pictures',\n",
       " 'snap',\n",
       " 'Downloads',\n",
       " '.ipynb_checkpoints',\n",
       " '.anydesk',\n",
       " 'Public',\n",
       " 'Documents',\n",
       " 'CV Python Swaraj',\n",
       " '.local',\n",
       " '.gitconfig',\n",
       " 'Machine Learning',\n",
       " '.sudo_as_admin_successful',\n",
       " '.pki',\n",
       " '.zoom',\n",
       " '.bashrc.save',\n",
       " '.gnupg']"
      ]
     },
     "execution_count": 21,
     "metadata": {},
     "output_type": "execute_result"
    }
   ],
   "source": [
    "os.listdir('/home/himanshu/')"
   ]
  },
  {
   "cell_type": "code",
   "execution_count": 26,
   "id": "d7d5ff73",
   "metadata": {},
   "outputs": [],
   "source": [
    "import send2trash\n",
    "# send2trash module, as the name hints, this module helps us in deleting the files in the specific folder"
   ]
  },
  {
   "cell_type": "code",
   "execution_count": 23,
   "id": "235c6488",
   "metadata": {},
   "outputs": [
    {
     "data": {
      "text/plain": [
       "['.git',\n",
       " 'Session 16.ipynb',\n",
       " 'Session 14.ipynb',\n",
       " 'Session 17.ipynb',\n",
       " 'Session 9.ipynb',\n",
       " 'Session 8.ipynb',\n",
       " 'Session 10.ipynb',\n",
       " 'Session 12.ipynb',\n",
       " '.ipynb_checkpoints',\n",
       " 'Session 11.ipynb',\n",
       " 'Session15.ipynb',\n",
       " 'practice.txt']"
      ]
     },
     "execution_count": 23,
     "metadata": {},
     "output_type": "execute_result"
    }
   ],
   "source": [
    "os.listdir()"
   ]
  },
  {
   "cell_type": "code",
   "execution_count": 24,
   "id": "cbc1744f",
   "metadata": {},
   "outputs": [],
   "source": [
    "send2trash.send2trash('practice.txt')"
   ]
  },
  {
   "cell_type": "code",
   "execution_count": 25,
   "id": "8d42d174",
   "metadata": {},
   "outputs": [
    {
     "data": {
      "text/plain": [
       "['.git',\n",
       " 'Session 16.ipynb',\n",
       " 'Session 14.ipynb',\n",
       " 'Session 17.ipynb',\n",
       " 'Session 9.ipynb',\n",
       " 'Session 8.ipynb',\n",
       " 'Session 10.ipynb',\n",
       " 'Session 12.ipynb',\n",
       " '.ipynb_checkpoints',\n",
       " 'Session 11.ipynb',\n",
       " 'Session15.ipynb']"
      ]
     },
     "execution_count": 25,
     "metadata": {},
     "output_type": "execute_result"
    }
   ],
   "source": [
    "os.listdir()"
   ]
  },
  {
   "cell_type": "code",
   "execution_count": 27,
   "id": "37513d77",
   "metadata": {},
   "outputs": [
    {
     "ename": "SyntaxError",
     "evalue": "EOL while scanning string literal (3313368180.py, line 1)",
     "output_type": "error",
     "traceback": [
      "\u001b[0;36m  File \u001b[0;32m\"/tmp/ipykernel_3597/3313368180.py\"\u001b[0;36m, line \u001b[0;32m1\u001b[0m\n\u001b[0;31m    print('swaraj)\u001b[0m\n\u001b[0m                  ^\u001b[0m\n\u001b[0;31mSyntaxError\u001b[0m\u001b[0;31m:\u001b[0m EOL while scanning string literal\n"
     ]
    }
   ],
   "source": [
    "print('swaraj)"
   ]
  },
  {
   "cell_type": "code",
   "execution_count": 28,
   "id": "72699805",
   "metadata": {},
   "outputs": [],
   "source": [
    "# Errors which are detected during execution or running of code are called exceptions and they are not\n",
    "# fatal, which means they can be fixed very easily\n"
   ]
  },
  {
   "cell_type": "code",
   "execution_count": 31,
   "id": "6636fc5c",
   "metadata": {},
   "outputs": [
    {
     "name": "stdout",
     "output_type": "stream",
     "text": [
      "We are in the else part\n",
      "Content written successfuly\n"
     ]
    }
   ],
   "source": [
    "try:\n",
    "    f = open('testfile','w') # write permission which means editing this file is allowed\n",
    "    f.write('Test write this')\n",
    "    \n",
    "except IOError:\n",
    "    print('We are in except part')\n",
    "    print('End of line error occured')\n",
    "    print('Error:could not find or read the data')\n",
    "    \n",
    "else:\n",
    "    print('We are in the else part')\n",
    "    print('Content written successfuly')\n",
    "    f.close()"
   ]
  },
  {
   "cell_type": "code",
   "execution_count": 33,
   "id": "8f684fd1",
   "metadata": {},
   "outputs": [
    {
     "name": "stdout",
     "output_type": "stream",
     "text": [
      "We are in except part\n",
      "End of line error occured\n",
      "Error:could not find or read the data\n"
     ]
    }
   ],
   "source": [
    "try:\n",
    "    f = open('file','r') # read permission which means editing this file is not allowed\n",
    "    f.write('Test write this')\n",
    "    \n",
    "except:\n",
    "    print('We are in except part')\n",
    "    print('End of line error occured')\n",
    "    print('Error:could not find or read the data')\n",
    "    \n",
    "else:\n",
    "    print('We are in the else part')\n",
    "    print('Content written successfuly')\n",
    "    f.close()"
   ]
  },
  {
   "cell_type": "code",
   "execution_count": 37,
   "id": "c6272da9",
   "metadata": {},
   "outputs": [
    {
     "name": "stdout",
     "output_type": "stream",
     "text": [
      "We are in except part\n",
      "End of line error occured\n",
      "Error:could not find or read the data\n",
      "This part will always print because we have finally in our code\n"
     ]
    }
   ],
   "source": [
    "try:\n",
    "    f = open('le','r') # read permission which means editing this file is not allowed\n",
    "    f.write('Test write this')\n",
    "    \n",
    "except:\n",
    "    print('We are in except part')\n",
    "    print('End of line error occured')\n",
    "    print('Error:could not find or read the data')\n",
    "    \n",
    "else:\n",
    "    print('We are in the else part')\n",
    "    print('Content written successfuly')\n",
    "    f.close()\n",
    "    \n",
    "finally: # finally will always be executed no matter what, it is a way of keep runnig our code, even after detecting erro\n",
    "    print('This part will always print because we have finally in our code')"
   ]
  },
  {
   "cell_type": "code",
   "execution_count": null,
   "id": "856fb3d7",
   "metadata": {},
   "outputs": [],
   "source": []
  }
 ],
 "metadata": {
  "kernelspec": {
   "display_name": "Python 3 (ipykernel)",
   "language": "python",
   "name": "python3"
  },
  "language_info": {
   "codemirror_mode": {
    "name": "ipython",
    "version": 3
   },
   "file_extension": ".py",
   "mimetype": "text/x-python",
   "name": "python",
   "nbconvert_exporter": "python",
   "pygments_lexer": "ipython3",
   "version": "3.9.7"
  }
 },
 "nbformat": 4,
 "nbformat_minor": 5
}
