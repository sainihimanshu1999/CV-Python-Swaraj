{
 "cells": [
  {
   "cell_type": "code",
   "execution_count": 1,
   "id": "55bf6cdc",
   "metadata": {},
   "outputs": [
    {
     "name": "stdout",
     "output_type": "stream",
     "text": [
      "Hello this is your friendly Calculator\n"
     ]
    }
   ],
   "source": [
    "print('Hello this is your friendly Calculator')"
   ]
  },
  {
   "cell_type": "code",
   "execution_count": 2,
   "id": "78f14cb8",
   "metadata": {},
   "outputs": [
    {
     "name": "stdout",
     "output_type": "stream",
     "text": [
      "Enter your Number 70\n"
     ]
    }
   ],
   "source": [
    "previous = int(input('Enter your Number '))\n",
    "# int so that only integer will be there\n",
    "# input for taking input"
   ]
  },
  {
   "cell_type": "code",
   "execution_count": 3,
   "id": "1f134f69",
   "metadata": {},
   "outputs": [
    {
     "name": "stdout",
     "output_type": "stream",
     "text": [
      "70\n"
     ]
    }
   ],
   "source": [
    "print(previous)"
   ]
  },
  {
   "cell_type": "code",
   "execution_count": 4,
   "id": "912c9f25",
   "metadata": {},
   "outputs": [
    {
     "name": "stdout",
     "output_type": "stream",
     "text": [
      "Enter your operator *\n",
      "Enter your number3\n",
      "210\n",
      "Enter your operator /\n",
      "Enter your number0\n",
      "Division by 0 is not allowed\n",
      "Enter new number0\n",
      "Division by 0 is not allowed\n",
      "Enter new number7\n",
      "30.0\n",
      "Enter your operator +\n",
      "Enter your next number50\n",
      "80.0\n",
      "Enter your operator Close\n",
      "Thank you \n"
     ]
    }
   ],
   "source": [
    "while True:\n",
    "    operator = input('Enter your operator ')\n",
    "    \n",
    "    if operator == '+':\n",
    "        current = int(input('Enter your next number'))\n",
    "        \n",
    "        print(current + previous)\n",
    "        \n",
    "        prevprevious = previous\n",
    "        previous = current + previous\n",
    "    \n",
    "    \n",
    "    elif operator == '-':\n",
    "        current = int(input('Enter your number'))\n",
    "        \n",
    "        print(previous-current)\n",
    "        \n",
    "        prevprevious = previous\n",
    "        previous = current + previous\n",
    "        \n",
    "        \n",
    "    elif operator == '*':\n",
    "        current = int(input('Enter your number'))\n",
    "        \n",
    "        print(current*previous)\n",
    "        \n",
    "        prevprevious = previous\n",
    "        previous = previous*current\n",
    "        \n",
    "        \n",
    "    elif operator == '/':\n",
    "        current = int(input('Enter your number'))\n",
    "        \n",
    "        while current == 0:\n",
    "            print('Division by 0 is not allowed')\n",
    "            current = int(input('Enter new number'))\n",
    "            \n",
    "        print(previous/current)\n",
    "        \n",
    "        prevprevious = previous\n",
    "        previous = previous/current\n",
    "        \n",
    "        \n",
    "    elif operator == 'Close':\n",
    "        print('Thank you ')\n",
    "        break\n",
    "        \n",
    "    else:\n",
    "        print('No')\n",
    "    \n",
    "         "
   ]
  },
  {
   "cell_type": "code",
   "execution_count": null,
   "id": "aa46af7b",
   "metadata": {},
   "outputs": [],
   "source": []
  },
  {
   "cell_type": "code",
   "execution_count": null,
   "id": "dac02320",
   "metadata": {},
   "outputs": [],
   "source": []
  }
 ],
 "metadata": {
  "kernelspec": {
   "display_name": "Python 3 (ipykernel)",
   "language": "python",
   "name": "python3"
  },
  "language_info": {
   "codemirror_mode": {
    "name": "ipython",
    "version": 3
   },
   "file_extension": ".py",
   "mimetype": "text/x-python",
   "name": "python",
   "nbconvert_exporter": "python",
   "pygments_lexer": "ipython3",
   "version": "3.9.5"
  }
 },
 "nbformat": 4,
 "nbformat_minor": 5
}
