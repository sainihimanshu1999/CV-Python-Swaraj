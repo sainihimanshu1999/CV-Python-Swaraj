{
 "cells": [
  {
   "cell_type": "markdown",
   "id": "cf275591",
   "metadata": {},
   "source": [
    "# OOP - OBJECT ORIENTED PROGRAMMING"
   ]
  },
  {
   "cell_type": "code",
   "execution_count": 1,
   "id": "cb8dae9b",
   "metadata": {},
   "outputs": [],
   "source": [
    "#methods\n",
    "# methods are just basically fucntion called upon somethings\n",
    "# these somethings are usually objects\n",
    "# so oop is just a way of programming done while taking objects always into the consideration"
   ]
  },
  {
   "cell_type": "code",
   "execution_count": 3,
   "id": "ca79b02f",
   "metadata": {},
   "outputs": [
    {
     "name": "stdout",
     "output_type": "stream",
     "text": [
      "[1, 2, 3, 4]\n"
     ]
    }
   ],
   "source": [
    "lst = [1,2,3]\n",
    "lst.append(4) # append is a mehtind called on list\n",
    "print(lst)"
   ]
  },
  {
   "cell_type": "code",
   "execution_count": 7,
   "id": "ea97d4c6",
   "metadata": {},
   "outputs": [
    {
     "name": "stdout",
     "output_type": "stream",
     "text": [
      "<class 'int'>\n",
      "<class 'list'>\n",
      "<class 'dict'>\n",
      "<class 'tuple'>\n"
     ]
    }
   ],
   "source": [
    "print(type(1))\n",
    "print(type([]))\n",
    "print(type({}))\n",
    "print(type(()))"
   ]
  },
  {
   "cell_type": "code",
   "execution_count": 8,
   "id": "0b96b2a3",
   "metadata": {
    "scrolled": true
   },
   "outputs": [
    {
     "name": "stdout",
     "output_type": "stream",
     "text": [
      "<class '__main__.Swaraj'>\n"
     ]
    }
   ],
   "source": [
    "class Swaraj:\n",
    "    pass\n",
    "\n",
    "x = Swaraj() # x is the instance of swaraj\n",
    "print(type(x))"
   ]
  },
  {
   "cell_type": "code",
   "execution_count": 9,
   "id": "715bea46",
   "metadata": {},
   "outputs": [],
   "source": [
    "class Personal:\n",
    "    \n",
    "    def __init__(self,name):\n",
    "        self.name = name\n",
    "        \n",
    "        \n",
    "\n",
    "    \n",
    "        "
   ]
  },
  {
   "cell_type": "code",
   "execution_count": 13,
   "id": "58a15f18",
   "metadata": {},
   "outputs": [],
   "source": [
    "p1 = Personal(name='Arpit')\n",
    "p2 = Personal(name='swaraj')"
   ]
  },
  {
   "cell_type": "code",
   "execution_count": 15,
   "id": "34f8d6c8",
   "metadata": {},
   "outputs": [],
   "source": [
    "a1 = Personal('Himanshu')"
   ]
  },
  {
   "cell_type": "code",
   "execution_count": 16,
   "id": "96f71ccc",
   "metadata": {},
   "outputs": [
    {
     "name": "stdout",
     "output_type": "stream",
     "text": [
      "Himanshu\n"
     ]
    }
   ],
   "source": [
    "print(a1.name)"
   ]
  },
  {
   "cell_type": "code",
   "execution_count": 21,
   "id": "f66d3577",
   "metadata": {},
   "outputs": [],
   "source": [
    "class Info:\n",
    "    nation = 'Indian'\n",
    "    def __init__(self,name,age):\n",
    "        self.name = name\n",
    "        self.age= age\n",
    "        \n"
   ]
  },
  {
   "cell_type": "code",
   "execution_count": 22,
   "id": "105479e6",
   "metadata": {},
   "outputs": [],
   "source": [
    "x = Info('swaraj',11)"
   ]
  },
  {
   "cell_type": "code",
   "execution_count": 23,
   "id": "905223b6",
   "metadata": {},
   "outputs": [
    {
     "name": "stdout",
     "output_type": "stream",
     "text": [
      "swaraj 11\n"
     ]
    }
   ],
   "source": [
    "print(x.name,x.age)"
   ]
  },
  {
   "cell_type": "code",
   "execution_count": 24,
   "id": "1365343b",
   "metadata": {},
   "outputs": [
    {
     "name": "stdout",
     "output_type": "stream",
     "text": [
      "Indian\n"
     ]
    }
   ],
   "source": [
    "print(x.nation)"
   ]
  },
  {
   "cell_type": "code",
   "execution_count": 25,
   "id": "5c1ea029",
   "metadata": {},
   "outputs": [],
   "source": [
    "class Account:\n",
    "    nation = 'Indian'\n",
    "    interest = 0.8\n",
    "    \n",
    "    def __init__(self,name,age,balance=0):\n",
    "        self.name = name\n",
    "        self.age = age\n",
    "        self.balance = balance\n",
    "        \n",
    "    def update_balance(self, add_amount = 0):\n",
    "        self.balance = self.balance + add_amount\n",
    "        \n",
    "    def get_interest(self):\n",
    "        return self.balance*self.interest\n",
    "    \n",
    "    \n",
    "    \n",
    "        \n",
    "        "
   ]
  },
  {
   "cell_type": "code",
   "execution_count": 34,
   "id": "745388dc",
   "metadata": {},
   "outputs": [],
   "source": [
    "a1 = Account('swaraj','11',20)"
   ]
  },
  {
   "cell_type": "code",
   "execution_count": 35,
   "id": "980220f1",
   "metadata": {},
   "outputs": [
    {
     "name": "stdout",
     "output_type": "stream",
     "text": [
      "swaraj 11 20 Indian 0.8\n"
     ]
    }
   ],
   "source": [
    "print(a1.name,a1.age,a1.balance,a1.nation,a1.interest)"
   ]
  },
  {
   "cell_type": "code",
   "execution_count": 36,
   "id": "4648c154",
   "metadata": {},
   "outputs": [],
   "source": [
    "a1.update_balance(20)"
   ]
  },
  {
   "cell_type": "code",
   "execution_count": 37,
   "id": "90c74700",
   "metadata": {},
   "outputs": [
    {
     "name": "stdout",
     "output_type": "stream",
     "text": [
      "40\n"
     ]
    }
   ],
   "source": [
    "print(a1.balance)"
   ]
  },
  {
   "cell_type": "code",
   "execution_count": 38,
   "id": "c8814ffd",
   "metadata": {},
   "outputs": [
    {
     "name": "stdout",
     "output_type": "stream",
     "text": [
      "32.0\n"
     ]
    }
   ],
   "source": [
    "print(a1.get_interest())"
   ]
  },
  {
   "cell_type": "code",
   "execution_count": 65,
   "id": "2a1b952f",
   "metadata": {},
   "outputs": [],
   "source": [
    "# parent class or the base class\n",
    "\n",
    "class Mother():\n",
    "    \n",
    "    def __init__(self):\n",
    "        print(\"i am swaraj's mother\")\n",
    "        \n",
    "    def own(self):\n",
    "        print('I have a laptop of HP')\n",
    "        \n",
    "    def give(self):\n",
    "        print('I am thinking of giving it to swaraj')\n",
    "        \n",
    "    def re(self):\n",
    "        print('i am mother part')\n",
    "        \n",
    "        "
   ]
  },
  {
   "cell_type": "code",
   "execution_count": 66,
   "id": "607a56aa",
   "metadata": {},
   "outputs": [],
   "source": [
    "# derived class or the child class\n",
    "\n",
    "class Swaraj2(Mother):\n",
    "    \n",
    "    def __init__(self):\n",
    "        Mother.__init__(self)\n",
    "        print('i am her son')\n",
    "        \n",
    "        \n",
    "    def take(self):\n",
    "        Mother.own(self)\n",
    "        print('I need a laptop')\n",
    "\n",
    "        \n",
    "    def got(self):\n",
    "        Mother.give(self)\n",
    "        print('yay i finally got a laptop')\n",
    "        \n",
    "    def re(self):\n",
    "        print('i am swaraj part')"
   ]
  },
  {
   "cell_type": "code",
   "execution_count": 67,
   "id": "382cc7af",
   "metadata": {},
   "outputs": [
    {
     "name": "stdout",
     "output_type": "stream",
     "text": [
      "i am swaraj's mother\n",
      "i am her son\n",
      "i am swaraj's mother\n"
     ]
    }
   ],
   "source": [
    "a1 = Swaraj2()\n",
    "m1 = Mother()"
   ]
  },
  {
   "cell_type": "code",
   "execution_count": 53,
   "id": "26e0800d",
   "metadata": {},
   "outputs": [
    {
     "name": "stdout",
     "output_type": "stream",
     "text": [
      "I have a laptop of HP\n",
      "I need a laptop\n"
     ]
    }
   ],
   "source": [
    "a1.take()"
   ]
  },
  {
   "cell_type": "code",
   "execution_count": 54,
   "id": "7b85c73d",
   "metadata": {},
   "outputs": [
    {
     "name": "stdout",
     "output_type": "stream",
     "text": [
      "I am thinking of giving it to swaraj\n",
      "yay i finally got a laptop\n"
     ]
    }
   ],
   "source": [
    "a1.got()"
   ]
  },
  {
   "cell_type": "code",
   "execution_count": 68,
   "id": "1885a63c",
   "metadata": {},
   "outputs": [
    {
     "name": "stdout",
     "output_type": "stream",
     "text": [
      "i am mother part\n"
     ]
    }
   ],
   "source": [
    "m1.re()"
   ]
  },
  {
   "cell_type": "code",
   "execution_count": 69,
   "id": "86f35760",
   "metadata": {},
   "outputs": [
    {
     "name": "stdout",
     "output_type": "stream",
     "text": [
      "i am swaraj part\n"
     ]
    }
   ],
   "source": [
    "a1.re()"
   ]
  },
  {
   "cell_type": "code",
   "execution_count": null,
   "id": "6a88b71b",
   "metadata": {},
   "outputs": [],
   "source": []
  }
 ],
 "metadata": {
  "kernelspec": {
   "display_name": "Python 3 (ipykernel)",
   "language": "python",
   "name": "python3"
  },
  "language_info": {
   "codemirror_mode": {
    "name": "ipython",
    "version": 3
   },
   "file_extension": ".py",
   "mimetype": "text/x-python",
   "name": "python",
   "nbconvert_exporter": "python",
   "pygments_lexer": "ipython3",
   "version": "3.9.7"
  }
 },
 "nbformat": 4,
 "nbformat_minor": 5
}
