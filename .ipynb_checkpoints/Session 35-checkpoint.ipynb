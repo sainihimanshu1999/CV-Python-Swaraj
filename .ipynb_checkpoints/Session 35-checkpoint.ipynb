{
 "cells": [
  {
   "cell_type": "code",
   "execution_count": 27,
   "id": "7a81efc5",
   "metadata": {},
   "outputs": [],
   "source": [
    "from tkinter import *"
   ]
  },
  {
   "cell_type": "code",
   "execution_count": 28,
   "id": "bdaac681",
   "metadata": {},
   "outputs": [],
   "source": [
    "root = Tk()"
   ]
  },
  {
   "cell_type": "code",
   "execution_count": 29,
   "id": "beeeffbe",
   "metadata": {},
   "outputs": [],
   "source": [
    "def myDelete():\n",
    "    \n",
    "    myLabel.destroy()\n",
    "    \n",
    "    myButton['state'] = NORMAL\n",
    "    \n",
    "    "
   ]
  },
  {
   "cell_type": "code",
   "execution_count": 30,
   "id": "3cddf9e6",
   "metadata": {},
   "outputs": [],
   "source": [
    "def myClick():\n",
    "    \n",
    "    global myLabel\n",
    "    \n",
    "    hello = 'Hello ' + e.get()\n",
    "    \n",
    "    myLabel = Label(root, text = hello)\n",
    "    \n",
    "    e.delete(0,'end')\n",
    "    \n",
    "    myLabel.grid(row= 3,column=0,pady=10)\n",
    "    \n",
    "    myButton['state'] = DISABLED\n",
    "    \n",
    "    "
   ]
  },
  {
   "cell_type": "code",
   "execution_count": 31,
   "id": "c8c6ec22",
   "metadata": {},
   "outputs": [],
   "source": [
    "e = Entry(root,width =20)\n",
    "e.grid(row= 0,column=0,padx=10,pady=10)"
   ]
  },
  {
   "cell_type": "code",
   "execution_count": 32,
   "id": "af1e155d",
   "metadata": {},
   "outputs": [],
   "source": [
    "myButton = Button(root,text = 'Enter your name', command = myClick )\n",
    "myButton.grid(row= 1,column=0,pady=10)"
   ]
  },
  {
   "cell_type": "code",
   "execution_count": 33,
   "id": "6b1de91a",
   "metadata": {},
   "outputs": [],
   "source": [
    "DeleteButton = Button(root,text = 'Delete Text', command=myDelete)\n",
    "DeleteButton.grid(row= 2,column=0,pady=10)\n"
   ]
  },
  {
   "cell_type": "code",
   "execution_count": 34,
   "id": "fd79ced9",
   "metadata": {},
   "outputs": [],
   "source": [
    "root.mainloop()"
   ]
  },
  {
   "cell_type": "code",
   "execution_count": 35,
   "id": "c81ad510",
   "metadata": {},
   "outputs": [],
   "source": [
    "# not using the delete button and automating the task\n"
   ]
  },
  {
   "cell_type": "code",
   "execution_count": 45,
   "id": "26765ec7",
   "metadata": {},
   "outputs": [],
   "source": [
    "pc = Tk()"
   ]
  },
  {
   "cell_type": "code",
   "execution_count": 46,
   "id": "9f520bc7",
   "metadata": {},
   "outputs": [],
   "source": [
    "myLabel = Label(pc)"
   ]
  },
  {
   "cell_type": "code",
   "execution_count": 47,
   "id": "58bf1baf",
   "metadata": {},
   "outputs": [],
   "source": [
    "def myClick():\n",
    "    \n",
    "    global myLabel\n",
    "    \n",
    "    myLabel.destroy()\n",
    "    \n",
    "    hello = 'Hello ' + e.get()\n",
    "    \n",
    "    myLabel = Label(pc, text = hello)\n",
    "    \n",
    "    e.delete(0,'end')\n",
    "    \n",
    "    myLabel.grid(row= 3,column=0,pady=10)\n",
    "    \n",
    "\n",
    "    "
   ]
  },
  {
   "cell_type": "code",
   "execution_count": 48,
   "id": "4b5f8ad9",
   "metadata": {},
   "outputs": [],
   "source": [
    "e = Entry(pc,width =20)\n",
    "e.grid(row= 0,column=0,padx=10,pady=10)"
   ]
  },
  {
   "cell_type": "code",
   "execution_count": 49,
   "id": "6c0ac322",
   "metadata": {},
   "outputs": [],
   "source": [
    "myButton = Button(pc,text = 'Enter your name', command = myClick )\n",
    "myButton.grid(row= 1,column=0,pady=10)"
   ]
  },
  {
   "cell_type": "code",
   "execution_count": null,
   "id": "8bf5fefd",
   "metadata": {},
   "outputs": [],
   "source": []
  },
  {
   "cell_type": "code",
   "execution_count": 50,
   "id": "c68f920d",
   "metadata": {},
   "outputs": [],
   "source": [
    "pc.mainloop()"
   ]
  },
  {
   "cell_type": "code",
   "execution_count": 51,
   "id": "c6932cc0",
   "metadata": {},
   "outputs": [],
   "source": [
    "## using the config method"
   ]
  },
  {
   "cell_type": "code",
   "execution_count": 58,
   "id": "52a6f29c",
   "metadata": {},
   "outputs": [],
   "source": [
    "cv = Tk()"
   ]
  },
  {
   "cell_type": "code",
   "execution_count": 59,
   "id": "ae6d8cce",
   "metadata": {},
   "outputs": [],
   "source": [
    "myLabel = Label(cv)"
   ]
  },
  {
   "cell_type": "code",
   "execution_count": 60,
   "id": "efa0807d",
   "metadata": {},
   "outputs": [],
   "source": [
    "def myClick():\n",
    "    \n",
    "    global myLabel\n",
    "    \n",
    "    hello = 'Hello ' + e.get()\n",
    "    \n",
    "    myLabel.config(text = hello)\n",
    "    \n",
    "    e.delete(0,'end')\n",
    "    \n",
    "    myLabel.grid(row= 3,column=0,pady=10)\n",
    "    "
   ]
  },
  {
   "cell_type": "code",
   "execution_count": 61,
   "id": "3ca88e43",
   "metadata": {},
   "outputs": [],
   "source": [
    "e = Entry(cv,width =20)\n",
    "e.grid(row= 0,column=0,padx=10,pady=10)"
   ]
  },
  {
   "cell_type": "code",
   "execution_count": 62,
   "id": "6381dedc",
   "metadata": {},
   "outputs": [],
   "source": [
    "myButton = Button(cv,text = 'Enter your name', command = myClick )\n",
    "myButton.grid(row= 1,column=0,pady=10)"
   ]
  },
  {
   "cell_type": "code",
   "execution_count": 63,
   "id": "3d45d48f",
   "metadata": {},
   "outputs": [],
   "source": [
    "cv.mainloop()"
   ]
  },
  {
   "cell_type": "code",
   "execution_count": 64,
   "id": "fdf165a4",
   "metadata": {},
   "outputs": [],
   "source": [
    "## loan calculator class, A mini project"
   ]
  },
  {
   "cell_type": "code",
   "execution_count": 81,
   "id": "f45ba982",
   "metadata": {},
   "outputs": [],
   "source": [
    "class LoanCalculator:\n",
    "    \n",
    "    def __init__(self):\n",
    "        window = Tk()\n",
    "        window.title('Loan Calculator')\n",
    "        \n",
    "        Label(window , text = \"Annual Interest Rate\").grid(row =1, column =1, sticky = W)\n",
    "        Label(window , text = \"Number of years\").grid(row =2, column =1, sticky = W)\n",
    "        Label(window , text = \"Loan Amount\").grid(row =3, column =1, sticky = W)\n",
    "        Label(window , text = \"Monthly Payments\").grid(row =4, column =1, sticky = W)\n",
    "        Label(window , text = \"Total Payments\").grid(row =5, column =1, sticky = W)\n",
    "        \n",
    "        #for taking inputs\n",
    "        \n",
    "        self.annualInterestRateVar = StringVar()\n",
    "        Entry(window,textvariable = self.annualInterestRateVar,justify=RIGHT).grid(row=1,column=2)\n",
    "        \n",
    "        self.numberOfYearsVar = StringVar()\n",
    "        Entry(window,textvariable = self.numberOfYearsVar,justify=RIGHT).grid(row=2,column=2)\n",
    "        \n",
    "        self.loanAmountVar = StringVar()\n",
    "        Entry(window,textvariable = self.loanAmountVar,justify=RIGHT).grid(row=3,column=2)\n",
    "        \n",
    "        self.monthlyPaymentVar = StringVar()\n",
    "        Label(window,textvariable = self.monthlyPaymentVar,justify=RIGHT).grid(row=4,column=2,sticky=E)\n",
    "        \n",
    "        self.totalPaymentVar = StringVar()\n",
    "        Label(window,textvariable = self.totalPaymentVar,justify=RIGHT).grid(row=5,column=2,sticky=E)\n",
    "        \n",
    "        \n",
    "        Button(window,text = 'Compute Payments', command = self.computePayment).grid(row=6,column=2,sticky=E)\n",
    "        \n",
    "        window.mainloop()\n",
    "        \n",
    "        \n",
    "    def getMonthlyPayment(self,loanAmount,monthlyInterestRate, numberOfYears):\n",
    "\n",
    "            monthlyPayment = loanAmount*monthlyInterestRate/(1 - 1/(1+monthlyInterestRate)**(numberOfYears*12))\n",
    "\n",
    "            return monthlyPayment;\n",
    "        \n",
    "        \n",
    "    def computePayment(self):\n",
    "\n",
    "        monthlyPayment = self.getMonthlyPayment(\n",
    "        float(self.loanAmountVar.get()),\n",
    "        float(self.annualInterestRateVar.get())/1200,\n",
    "        int(self.numberOfYearsVar.get()))\n",
    "        \n",
    "        self.monthlyPaymentVar.set(format(monthlyPayment,'10.2f'))\n",
    "\n",
    "\n",
    "        totalPayment = float(self.monthlyPaymentVar.get())*12*int(self.numberOfYearsVar.get())\n",
    "\n",
    "        self.totalPaymentVar.set(format(totalPayment,'10.2f'))\n",
    "\n",
    "\n",
    "\n",
    "            \n",
    "            \n",
    "        \n",
    "        \n",
    "        \n",
    "        "
   ]
  },
  {
   "cell_type": "code",
   "execution_count": 82,
   "id": "2b1f5a4f",
   "metadata": {},
   "outputs": [
    {
     "data": {
      "text/plain": [
       "<__main__.LoanCalculator at 0x7f20a0bc8310>"
      ]
     },
     "execution_count": 82,
     "metadata": {},
     "output_type": "execute_result"
    }
   ],
   "source": [
    "LoanCalculator()"
   ]
  },
  {
   "cell_type": "code",
   "execution_count": null,
   "id": "96b9afc6",
   "metadata": {},
   "outputs": [],
   "source": []
  },
  {
   "cell_type": "code",
   "execution_count": null,
   "id": "723a3b9d",
   "metadata": {},
   "outputs": [],
   "source": []
  },
  {
   "cell_type": "code",
   "execution_count": null,
   "id": "4996c0b9",
   "metadata": {},
   "outputs": [],
   "source": []
  },
  {
   "cell_type": "code",
   "execution_count": null,
   "id": "a787bbab",
   "metadata": {},
   "outputs": [],
   "source": []
  },
  {
   "cell_type": "code",
   "execution_count": null,
   "id": "bef62e0a",
   "metadata": {},
   "outputs": [],
   "source": []
  },
  {
   "cell_type": "code",
   "execution_count": null,
   "id": "ba650e8c",
   "metadata": {},
   "outputs": [],
   "source": []
  }
 ],
 "metadata": {
  "kernelspec": {
   "display_name": "Python 3 (ipykernel)",
   "language": "python",
   "name": "python3"
  },
  "language_info": {
   "codemirror_mode": {
    "name": "ipython",
    "version": 3
   },
   "file_extension": ".py",
   "mimetype": "text/x-python",
   "name": "python",
   "nbconvert_exporter": "python",
   "pygments_lexer": "ipython3",
   "version": "3.10.4"
  }
 },
 "nbformat": 4,
 "nbformat_minor": 5
}
