{
 "cells": [
  {
   "cell_type": "code",
   "execution_count": 1,
   "id": "cb2dad0b",
   "metadata": {},
   "outputs": [],
   "source": [
    "# Learning database creation\n"
   ]
  },
  {
   "cell_type": "code",
   "execution_count": 2,
   "id": "f2ce6ebf",
   "metadata": {},
   "outputs": [],
   "source": [
    "#importing the database module\n",
    "import sqlite3"
   ]
  },
  {
   "cell_type": "code",
   "execution_count": 6,
   "id": "f424bb6a",
   "metadata": {},
   "outputs": [],
   "source": [
    "#connecting to the database\n",
    "\n",
    "connection = sqlite3.connect('swaraj.db')"
   ]
  },
  {
   "cell_type": "code",
   "execution_count": 7,
   "id": "698e5bd4",
   "metadata": {},
   "outputs": [],
   "source": [
    "#cursor\n",
    "\n",
    "crsr = connection.cursor()"
   ]
  },
  {
   "cell_type": "code",
   "execution_count": 4,
   "id": "b6cf9952",
   "metadata": {},
   "outputs": [],
   "source": [
    "# sql commands to create your table"
   ]
  },
  {
   "cell_type": "code",
   "execution_count": 8,
   "id": "2c3030e5",
   "metadata": {},
   "outputs": [],
   "source": [
    "sql_command = \"\"\" CREATE TABLE emp ( \n",
    "staff_number INTEGER PRIMARY KEY,\n",
    "fname VARCHAR(20),\n",
    "lname VARCHAR(30),\n",
    "gender CHAR(1),\n",
    "joining DATE)\"\"\""
   ]
  },
  {
   "cell_type": "code",
   "execution_count": 9,
   "id": "3badaba0",
   "metadata": {},
   "outputs": [
    {
     "data": {
      "text/plain": [
       "<sqlite3.Cursor at 0x7fca646b4340>"
      ]
     },
     "execution_count": 9,
     "metadata": {},
     "output_type": "execute_result"
    }
   ],
   "source": [
    "crsr.execute(sql_command)"
   ]
  },
  {
   "cell_type": "code",
   "execution_count": 10,
   "id": "5cb914a2",
   "metadata": {},
   "outputs": [],
   "source": [
    "sql_command = \"\"\"INSERT INTO emp VALUES (1,'swaraj','reddy','M','2022-03-27')\"\"\""
   ]
  },
  {
   "cell_type": "code",
   "execution_count": 11,
   "id": "db41363f",
   "metadata": {},
   "outputs": [
    {
     "data": {
      "text/plain": [
       "<sqlite3.Cursor at 0x7fca646b4340>"
      ]
     },
     "execution_count": 11,
     "metadata": {},
     "output_type": "execute_result"
    }
   ],
   "source": [
    "crsr.execute(sql_command)"
   ]
  },
  {
   "cell_type": "code",
   "execution_count": 12,
   "id": "de5d2bd1",
   "metadata": {},
   "outputs": [],
   "source": [
    "sql_command = \"\"\"INSERT INTO emp VALUES (2,'Himanshu','Saini','M','2022-03-27')\"\"\""
   ]
  },
  {
   "cell_type": "code",
   "execution_count": 13,
   "id": "dfbf72d8",
   "metadata": {},
   "outputs": [
    {
     "data": {
      "text/plain": [
       "<sqlite3.Cursor at 0x7fca646b4340>"
      ]
     },
     "execution_count": 13,
     "metadata": {},
     "output_type": "execute_result"
    }
   ],
   "source": [
    "crsr.execute(sql_command)"
   ]
  },
  {
   "cell_type": "code",
   "execution_count": 14,
   "id": "9f19ec8b",
   "metadata": {},
   "outputs": [],
   "source": [
    "connection.commit()"
   ]
  },
  {
   "cell_type": "code",
   "execution_count": 15,
   "id": "78e247e0",
   "metadata": {},
   "outputs": [],
   "source": [
    "connection.close()\n"
   ]
  },
  {
   "cell_type": "code",
   "execution_count": 38,
   "id": "c890ec5b",
   "metadata": {},
   "outputs": [],
   "source": [
    "from tkinter import *\n",
    "\n",
    "root = Tk()"
   ]
  },
  {
   "cell_type": "code",
   "execution_count": 39,
   "id": "badac9dd",
   "metadata": {},
   "outputs": [],
   "source": [
    "staff_number = Entry(root,width=30)\n",
    "staff_number.grid(row=0,column=1,padx=20)\n",
    "\n",
    "fname = Entry(root,width=30)\n",
    "fname.grid(row=1,column=1,padx=20)\n",
    "\n",
    "lname = Entry(root,width=30)\n",
    "lname.grid(row=2,column=1,padx=20)\n",
    "\n",
    "gender = Entry(root,width=30)\n",
    "gender.grid(row=3,column=1,padx=20)\n",
    "\n",
    "\n",
    "joining = Entry(root,width=30)\n",
    "joining.grid(row=4,column=1,padx=20)"
   ]
  },
  {
   "cell_type": "code",
   "execution_count": 40,
   "id": "8f59f954",
   "metadata": {},
   "outputs": [],
   "source": [
    "staffno_label = Label(root,text='Staff Number')\n",
    "staffno_label.grid(row=0,column=0)\n",
    "\n",
    "fname_label = Label(root,text='First Name')\n",
    "fname_label.grid(row=1,column=0)\n",
    "\n",
    "lname_label = Label(root,text='Last Name')\n",
    "lname_label.grid(row=2,column=0)\n",
    "\n",
    "gender_label = Label(root,text='gender')\n",
    "gender_label.grid(row=3,column=0)\n",
    "\n",
    "joining_label = Label(root,text='Date of Joining')\n",
    "joining_label.grid(row=4,column=0)"
   ]
  },
  {
   "cell_type": "code",
   "execution_count": 41,
   "id": "9f54e3c1",
   "metadata": {},
   "outputs": [],
   "source": [
    "Button(root,text='Submit to database',command = submit).grid(row=5,columnspan=2,pady=10,padx=20,ipadx=100)\n",
    "Button(root,text='Fetch to database',command = Query).grid(row=6,columnspan=2,pady=10,padx=20,ipadx=100)\n",
    "root.mainloop()"
   ]
  },
  {
   "cell_type": "code",
   "execution_count": 42,
   "id": "b7a9b173",
   "metadata": {},
   "outputs": [],
   "source": [
    "def submit():\n",
    "    \n",
    "    connection = sqlite3.connect('swaraj.db')\n",
    "    \n",
    "    crsr = connection.cursor()\n",
    "    \n",
    "    crsr.execute(\"INSERT INTO emp VALUES (:staff_number, :fname, :lname, :gender, :joining)\", \n",
    "                {\n",
    "                    'staff_number': staff_number.get(),\n",
    "                    'fname':fname.get(),\n",
    "                    'lname':lname.get(),\n",
    "                    'gender':gender.get(),\n",
    "                    'joining':joining.get()\n",
    "                })\n",
    "    \n",
    "    connection.commit()\n",
    "    connection.close()\n",
    "    \n",
    "    # clear text boxes\n",
    "    \n",
    "    staff_number.delete(0,END)\n",
    "    fname.delete(0,END)\n",
    "    lname.delete(0,END)\n",
    "    gender.delete(0,END)\n",
    "    joining.delete(0,END)"
   ]
  },
  {
   "cell_type": "code",
   "execution_count": 24,
   "id": "a5355f1f",
   "metadata": {},
   "outputs": [],
   "source": [
    "def Query():\n",
    "    \n",
    "    connection = sqlite3.connect('swaraj.db')\n",
    "    \n",
    "    crsr = connection.cursor()\n",
    "    \n",
    "    \n",
    "    crsr.execute(\"SELECT *,oid FROM emp\")\n",
    "    \n",
    "    \n",
    "    ans = crsr.fetchall()\n",
    "    \n",
    "    \n",
    "    records = ''\n",
    "    \n",
    "    for record in ans:\n",
    "        records += record[1] + ' ' + record[2] + '\\n'\n",
    "        \n",
    "    Label(root, text=records).grid(row=7,column=0,columnspan=2)\n",
    "    "
   ]
  },
  {
   "cell_type": "code",
   "execution_count": null,
   "id": "7b9a8f72",
   "metadata": {},
   "outputs": [],
   "source": []
  }
 ],
 "metadata": {
  "kernelspec": {
   "display_name": "Python 3 (ipykernel)",
   "language": "python",
   "name": "python3"
  },
  "language_info": {
   "codemirror_mode": {
    "name": "ipython",
    "version": 3
   },
   "file_extension": ".py",
   "mimetype": "text/x-python",
   "name": "python",
   "nbconvert_exporter": "python",
   "pygments_lexer": "ipython3",
   "version": "3.9.7"
  }
 },
 "nbformat": 4,
 "nbformat_minor": 5
}
