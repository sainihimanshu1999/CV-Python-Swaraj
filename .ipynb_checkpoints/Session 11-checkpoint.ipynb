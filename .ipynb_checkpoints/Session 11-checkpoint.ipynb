{
 "cells": [
  {
   "cell_type": "code",
   "execution_count": 1,
   "id": "2fcff43e",
   "metadata": {},
   "outputs": [],
   "source": [
    "# NESTING IN FUNCTION"
   ]
  },
  {
   "cell_type": "code",
   "execution_count": 2,
   "id": "dc4da7d2",
   "metadata": {},
   "outputs": [],
   "source": [
    "# NESTING MEANS - THINGS INSIDE THINGS"
   ]
  },
  {
   "cell_type": "code",
   "execution_count": 3,
   "id": "fe668a3a",
   "metadata": {},
   "outputs": [],
   "source": [
    "#SCOPE of the variable"
   ]
  },
  {
   "cell_type": "code",
   "execution_count": 4,
   "id": "f2b195ea",
   "metadata": {},
   "outputs": [
    {
     "name": "stdout",
     "output_type": "stream",
     "text": [
      "1\n"
     ]
    }
   ],
   "source": [
    "x= 1\n",
    "print(x)"
   ]
  },
  {
   "cell_type": "code",
   "execution_count": 5,
   "id": "8fed21bf",
   "metadata": {},
   "outputs": [
    {
     "name": "stdout",
     "output_type": "stream",
     "text": [
      "1\n"
     ]
    }
   ],
   "source": [
    "print(x)"
   ]
  },
  {
   "cell_type": "code",
   "execution_count": 12,
   "id": "577eefdf",
   "metadata": {},
   "outputs": [],
   "source": [
    "def func():\n",
    "    # global is written to make local variable as global variable\n",
    "    global x\n",
    "    x = 3\n",
    "    print(x)"
   ]
  },
  {
   "cell_type": "code",
   "execution_count": 13,
   "id": "a3452517",
   "metadata": {},
   "outputs": [
    {
     "name": "stdout",
     "output_type": "stream",
     "text": [
      "3\n"
     ]
    }
   ],
   "source": [
    "func()"
   ]
  },
  {
   "cell_type": "code",
   "execution_count": 14,
   "id": "9671cad2",
   "metadata": {},
   "outputs": [
    {
     "name": "stdout",
     "output_type": "stream",
     "text": [
      "3\n"
     ]
    }
   ],
   "source": [
    "print(x)"
   ]
  },
  {
   "cell_type": "code",
   "execution_count": 9,
   "id": "43fe72d3",
   "metadata": {},
   "outputs": [],
   "source": [
    "# scope of the variable, x"
   ]
  },
  {
   "cell_type": "code",
   "execution_count": 15,
   "id": "669e1324",
   "metadata": {},
   "outputs": [],
   "source": [
    "# x = 1 global\n",
    "# def func():\n",
    "    #x = 3\n",
    "    #print(x)   here x is local\n",
    "    \n",
    "#def func():\n",
    "    # global is written to make local variable as global variable\n",
    "    #global x\n",
    "    #x = 3\n",
    "    #print(x)\n",
    "    \n",
    "# def func():\n",
    "#    def ex():   her x is enclosing local\n",
    "#        x = 3\n",
    " #       print(x)\n",
    "    \n",
    "    \n",
    "# len sort append are built in functions or methods"
   ]
  },
  {
   "cell_type": "code",
   "execution_count": 17,
   "id": "0414c1fc",
   "metadata": {},
   "outputs": [],
   "source": [
    "x = 3\n",
    "\n",
    "def func():\n",
    "    global x\n",
    "    print('this function is using the gloabal x!')\n",
    "    print('Because the global x is', x)\n",
    "    \n",
    "    x = 2\n",
    "    \n",
    "    print('now after running this function we have changed global x to ', x)\n",
    "    \n",
    "    "
   ]
  },
  {
   "cell_type": "code",
   "execution_count": 18,
   "id": "3a5db961",
   "metadata": {},
   "outputs": [
    {
     "name": "stdout",
     "output_type": "stream",
     "text": [
      "3\n"
     ]
    }
   ],
   "source": [
    "print(x)"
   ]
  },
  {
   "cell_type": "code",
   "execution_count": 19,
   "id": "01ce0fea",
   "metadata": {},
   "outputs": [
    {
     "name": "stdout",
     "output_type": "stream",
     "text": [
      "this function is using the gloabal x!\n",
      "Because the global x is 3\n",
      "now after running this function we have changed global x to  2\n"
     ]
    }
   ],
   "source": [
    "func()"
   ]
  },
  {
   "cell_type": "code",
   "execution_count": 20,
   "id": "e9f1ae42",
   "metadata": {},
   "outputs": [
    {
     "name": "stdout",
     "output_type": "stream",
     "text": [
      "2\n"
     ]
    }
   ],
   "source": [
    "print(x)"
   ]
  },
  {
   "cell_type": "code",
   "execution_count": 32,
   "id": "95de7071",
   "metadata": {},
   "outputs": [],
   "source": [
    "x = 5\n",
    "y = 10\n",
    "\n",
    "def func(x):\n",
    "    global y\n",
    "    x = x+y\n",
    "    y = y+x\n",
    "    \n",
    "    \n",
    "# func(5)\n",
    "# x = x+y x = 5+10 = 15\n",
    "# y = y+x = 10+15 = 25\n",
    "\n",
    "    \n",
    "    \n"
   ]
  },
  {
   "cell_type": "code",
   "execution_count": 33,
   "id": "e6bdf4fd",
   "metadata": {},
   "outputs": [],
   "source": [
    "func(x)\n"
   ]
  },
  {
   "cell_type": "code",
   "execution_count": 34,
   "id": "ade382a4",
   "metadata": {
    "scrolled": true
   },
   "outputs": [
    {
     "name": "stdout",
     "output_type": "stream",
     "text": [
      "5 25\n"
     ]
    }
   ],
   "source": [
    "print(x,y)"
   ]
  },
  {
   "cell_type": "code",
   "execution_count": null,
   "id": "3864ca1e",
   "metadata": {},
   "outputs": [],
   "source": [
    "# map function"
   ]
  },
  {
   "cell_type": "code",
   "execution_count": null,
   "id": "054cd94f",
   "metadata": {},
   "outputs": [],
   "source": [
    "# map(x,y)\n",
    "# x - function \n",
    "# y - variable"
   ]
  },
  {
   "cell_type": "code",
   "execution_count": 47,
   "id": "e4b3016a",
   "metadata": {},
   "outputs": [],
   "source": [
    "def func(z):\n",
    "    return z*z\n",
    "    "
   ]
  },
  {
   "cell_type": "code",
   "execution_count": 48,
   "id": "bacbdfbb",
   "metadata": {},
   "outputs": [
    {
     "data": {
      "text/plain": [
       "4"
      ]
     },
     "execution_count": 48,
     "metadata": {},
     "output_type": "execute_result"
    }
   ],
   "source": [
    "func(2)"
   ]
  },
  {
   "cell_type": "code",
   "execution_count": 49,
   "id": "d3789ba8",
   "metadata": {},
   "outputs": [],
   "source": [
    "nums = [1,2,3,4,5,6,7,8]"
   ]
  },
  {
   "cell_type": "code",
   "execution_count": 50,
   "id": "ac453f69",
   "metadata": {},
   "outputs": [
    {
     "name": "stdout",
     "output_type": "stream",
     "text": [
      "1\n",
      "4\n",
      "9\n",
      "16\n",
      "25\n",
      "36\n",
      "49\n",
      "64\n"
     ]
    }
   ],
   "source": [
    "for i in nums:\n",
    "    print(func(i))"
   ]
  },
  {
   "cell_type": "code",
   "execution_count": 54,
   "id": "e639a279",
   "metadata": {},
   "outputs": [
    {
     "data": {
      "text/plain": [
       "[1, 4, 9, 16, 25, 36, 49, 64]"
      ]
     },
     "execution_count": 54,
     "metadata": {},
     "output_type": "execute_result"
    }
   ],
   "source": [
    "# map(x,y)\n",
    "# x - function \n",
    "# y - variable\n",
    "\n",
    "list(map(func,nums))"
   ]
  },
  {
   "cell_type": "code",
   "execution_count": 62,
   "id": "4c27da16",
   "metadata": {},
   "outputs": [],
   "source": [
    "#Filter inbuilt function\n",
    "\n",
    "def checkeven(x):\n",
    "    return x%2==0"
   ]
  },
  {
   "cell_type": "code",
   "execution_count": 65,
   "id": "641693fe",
   "metadata": {},
   "outputs": [],
   "source": [
    "nums = [1,2,3,4,5,6,7,8,9]"
   ]
  },
  {
   "cell_type": "code",
   "execution_count": 67,
   "id": "bc16c57f",
   "metadata": {},
   "outputs": [
    {
     "data": {
      "text/plain": [
       "[2, 4, 6, 8]"
      ]
     },
     "execution_count": 67,
     "metadata": {},
     "output_type": "execute_result"
    }
   ],
   "source": [
    "list(filter(checkeven,nums))"
   ]
  },
  {
   "cell_type": "code",
   "execution_count": 68,
   "id": "fc1d3487",
   "metadata": {},
   "outputs": [],
   "source": [
    "def sq(x):\n",
    "    return x*x\n",
    "\n",
    "#lambda x:x*x"
   ]
  },
  {
   "cell_type": "code",
   "execution_count": 69,
   "id": "a291e99a",
   "metadata": {},
   "outputs": [
    {
     "data": {
      "text/plain": [
       "64"
      ]
     },
     "execution_count": 69,
     "metadata": {},
     "output_type": "execute_result"
    }
   ],
   "source": [
    "sq(8)"
   ]
  },
  {
   "cell_type": "code",
   "execution_count": 71,
   "id": "3b9e8f8a",
   "metadata": {},
   "outputs": [
    {
     "data": {
      "text/plain": [
       "[1, 4, 9, 16, 25, 36, 49, 64, 81]"
      ]
     },
     "execution_count": 71,
     "metadata": {},
     "output_type": "execute_result"
    }
   ],
   "source": [
    "list(map(lambda x:x*x,nums))"
   ]
  },
  {
   "cell_type": "code",
   "execution_count": null,
   "id": "54988eb0",
   "metadata": {},
   "outputs": [],
   "source": []
  },
  {
   "cell_type": "code",
   "execution_count": null,
   "id": "1d8d5745",
   "metadata": {},
   "outputs": [],
   "source": []
  },
  {
   "cell_type": "code",
   "execution_count": null,
   "id": "9d925109",
   "metadata": {},
   "outputs": [],
   "source": []
  },
  {
   "cell_type": "code",
   "execution_count": null,
   "id": "af76cfa9",
   "metadata": {},
   "outputs": [],
   "source": []
  },
  {
   "cell_type": "code",
   "execution_count": null,
   "id": "bcc96837",
   "metadata": {},
   "outputs": [],
   "source": []
  },
  {
   "cell_type": "code",
   "execution_count": null,
   "id": "d3e3ff30",
   "metadata": {},
   "outputs": [],
   "source": []
  }
 ],
 "metadata": {
  "kernelspec": {
   "display_name": "Python 3 (ipykernel)",
   "language": "python",
   "name": "python3"
  },
  "language_info": {
   "codemirror_mode": {
    "name": "ipython",
    "version": 3
   },
   "file_extension": ".py",
   "mimetype": "text/x-python",
   "name": "python",
   "nbconvert_exporter": "python",
   "pygments_lexer": "ipython3",
   "version": "3.9.7"
  }
 },
 "nbformat": 4,
 "nbformat_minor": 5
}
