{
 "cells": [
  {
   "cell_type": "code",
   "execution_count": 2,
   "id": "3787e245",
   "metadata": {},
   "outputs": [],
   "source": [
    "#CARD GAME\n",
    "#Patte pe Patta- Card on Card"
   ]
  },
  {
   "cell_type": "code",
   "execution_count": 3,
   "id": "3d98364f",
   "metadata": {},
   "outputs": [],
   "source": [
    "#52 cards in a deck of cards\n",
    "# 13 cards each of every suits\n",
    "# clubs (♣), diamonds (♦), hearts (♥), and spades (♠)\n",
    "# ace, king, queen, jack, 10, 9, 8, 7, 6, 5, 4, 3, 2"
   ]
  },
  {
   "cell_type": "code",
   "execution_count": 4,
   "id": "080c0925",
   "metadata": {},
   "outputs": [
    {
     "data": {
      "text/plain": [
       "'\\n1. This game involves two players and initialy each player is given 26 cards each.\\n2. They have to put there top card on the table turn wise\\n3. If the card they are going to put on table matchs with the already top card on the table\\nMATCH condition - Two cards match if they have same suit OR if they have same rank\\n4. Player wins that chance and he take all the cards on the table and add all those cards to the end of the deck of cards he\\nalready have.\\n5. This way game runs until one of the player run out of cards\\n6. The player that run out of cards losses and other player wins the game!!!!!\\n'"
      ]
     },
     "execution_count": 4,
     "metadata": {},
     "output_type": "execute_result"
    }
   ],
   "source": [
    "# rules of the game\n",
    "\n",
    "'''\n",
    "1. This game involves two players and initialy each player is given 26 cards each.\n",
    "2. They have to put there top card on the table turn wise\n",
    "3. If the card they are going to put on table matchs with the already top card on the table\n",
    "MATCH condition - Two cards match if they have same suit OR if they have same rank\n",
    "4. Player wins that chance and he take all the cards on the table and add all those cards to the end of the deck of cards he\n",
    "already have.\n",
    "5. This way game runs until one of the player run out of cards\n",
    "6. The player that run out of cards losses and other player wins the game!!!!!\n",
    "'''"
   ]
  },
  {
   "cell_type": "code",
   "execution_count": 6,
   "id": "5c987917",
   "metadata": {},
   "outputs": [],
   "source": [
    "#For this we need to build for classes\n",
    "\n",
    "#1 . Card class - Hold the information about the card\n",
    "\n",
    "#2 . Deck class - Hold the information about the complete set of 52 cards\n",
    "\n",
    "#3 . Player class - Hold the information about the cards the player are having\n",
    "\n",
    "#4 . Table class - Holds the information about the cards on table."
   ]
  },
  {
   "cell_type": "code",
   "execution_count": 8,
   "id": "d9223904",
   "metadata": {},
   "outputs": [],
   "source": [
    "import random\n",
    "\n",
    "suits = ('Hearts','Diamonds','Spades','Clubs')\n",
    "\n",
    "ranks = ('Two','Three','Four','Five','Six','Seven','Eight','Nine','Ten','Jack','Queen','King','Ace')\n",
    "\n",
    "values = {'Two':2,'Three':3,'Four':4,'Five':5,'Six':6,'Seven':7,'Eight':8,'Nine':9,'Ten':10,'Jack':10,'Queen':10,'King':10,'Ace':11}"
   ]
  },
  {
   "cell_type": "code",
   "execution_count": 10,
   "id": "5940946d",
   "metadata": {},
   "outputs": [],
   "source": [
    "#CARD CLASS\n",
    "\n",
    "# this class will hold the information about a particular card"
   ]
  },
  {
   "cell_type": "code",
   "execution_count": 14,
   "id": "99642af7",
   "metadata": {},
   "outputs": [],
   "source": [
    "class Card:\n",
    "    \n",
    "    def __init__(self,suit,rank):\n",
    "        self.suit = suit\n",
    "        self.rank = rank\n",
    "        \n",
    "    def __str__(self):\n",
    "        return self.rank+' of '+self.suit"
   ]
  },
  {
   "cell_type": "code",
   "execution_count": 15,
   "id": "911f51b2",
   "metadata": {},
   "outputs": [],
   "source": [
    "a = Card('Hearts','Ten')"
   ]
  },
  {
   "cell_type": "code",
   "execution_count": 16,
   "id": "70c76c26",
   "metadata": {
    "collapsed": true
   },
   "outputs": [
    {
     "name": "stdout",
     "output_type": "stream",
     "text": [
      "Ten of Hearts\n"
     ]
    }
   ],
   "source": [
    "print(a)"
   ]
  },
  {
   "cell_type": "code",
   "execution_count": 17,
   "id": "741f7301",
   "metadata": {},
   "outputs": [],
   "source": [
    "# DECK CLASS\n",
    "\n",
    "# This class contains the information about the set of 52 cards and each card the object of perviously defined class"
   ]
  },
  {
   "cell_type": "code",
   "execution_count": 18,
   "id": "282f082b",
   "metadata": {},
   "outputs": [],
   "source": [
    "class Deck:\n",
    "    \n",
    "    def __init__(self):\n",
    "        self.deck = []\n",
    "        \n",
    "        for suit in suits:\n",
    "            for rank in ranks:\n",
    "                self.deck.append(Card(suit,rank))\n",
    "                \n",
    "                \n",
    "    def __str__(self):\n",
    "        deck_comp = ''\n",
    "        \n",
    "        for card in self.deck:\n",
    "            deck_comp = '\\n'+card.__str__()\n",
    "        \n",
    "        return 'The deck has :'+ deck_comp\n",
    "    \n",
    "    \n",
    "    def shuffle(self):\n",
    "        random.shuffle(self.deck)\n",
    "        \n",
    "    def __len__(self):\n",
    "        return len(self.deck)"
   ]
  },
  {
   "cell_type": "code",
   "execution_count": 19,
   "id": "35f8efb7",
   "metadata": {},
   "outputs": [],
   "source": [
    "# PLAYER CLASS\n",
    "\n",
    "# THIS CLASS HAS ALL THE INFORMATION ABOUT THE CARDS A PLAYER IS HOLDING\n",
    "\n"
   ]
  },
  {
   "cell_type": "code",
   "execution_count": 20,
   "id": "87081e87",
   "metadata": {},
   "outputs": [],
   "source": [
    "class Player:\n",
    "    \n",
    "    def __init__(self,name):\n",
    "        self.cards = []\n",
    "        self.name = name\n",
    "        \n",
    "        \n",
    "    def add(self,new_cards):\n",
    "        sefl.cards.extend(new_cards)\n",
    "        \n",
    "        \n",
    "    def move(self):\n",
    "        return self.cards.pop(0)\n",
    "    \n",
    "    def __str__(self):\n",
    "        ans = ''\n",
    "        \n",
    "        for cards in self.cards:\n",
    "            ans += '\\n' + cards.__str__()\n",
    "        \n",
    "        return self.name + ' has the following cards:' + cards\n",
    "    \n",
    "    def __len__(self):\n",
    "        return len(self.cards)"
   ]
  },
  {
   "cell_type": "code",
   "execution_count": 21,
   "id": "b40aad48",
   "metadata": {},
   "outputs": [],
   "source": [
    "class Table:\n",
    "    \n",
    "    def __init__(self):\n",
    "        self.cards = []\n",
    "        \n",
    "        \n",
    "    def add(self,new_cards):\n",
    "        self.cards.append(new_cards)\n",
    "        \n",
    "    def remove(self):\n",
    "        self.cards = []\n",
    "        \n",
    "    def __str__(self):\n",
    "        ans = ''\n",
    "        for cards in self.cards:\n",
    "            ans += '\\n' + cards.__str__()\n",
    "            \n",
    "        return 'Table has these following cards : ' + ans\n",
    "    \n",
    "    def __len__(self):\n",
    "        return len(self.cards)\n",
    "    \n",
    "    "
   ]
  },
  {
   "cell_type": "code",
   "execution_count": null,
   "id": "1f528f86",
   "metadata": {},
   "outputs": [],
   "source": []
  }
 ],
 "metadata": {
  "kernelspec": {
   "display_name": "Python 3 (ipykernel)",
   "language": "python",
   "name": "python3"
  },
  "language_info": {
   "codemirror_mode": {
    "name": "ipython",
    "version": 3
   },
   "file_extension": ".py",
   "mimetype": "text/x-python",
   "name": "python",
   "nbconvert_exporter": "python",
   "pygments_lexer": "ipython3",
   "version": "3.9.7"
  }
 },
 "nbformat": 4,
 "nbformat_minor": 5
}
