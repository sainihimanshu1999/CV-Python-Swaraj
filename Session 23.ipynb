{
 "cells": [
  {
   "cell_type": "code",
   "execution_count": 17,
   "id": "1d4dc4f2",
   "metadata": {},
   "outputs": [
    {
     "ename": "ImportError",
     "evalue": "cannot import name 'ImageTK' from 'PIL' (/home/himanshu/.local/lib/python3.9/site-packages/PIL/__init__.py)",
     "output_type": "error",
     "traceback": [
      "\u001b[0;31m---------------------------------------------------------------------------\u001b[0m",
      "\u001b[0;31mImportError\u001b[0m                               Traceback (most recent call last)",
      "\u001b[1;32m/home/himanshu/CV-Python-Swaraj/Session 23.ipynb Cell 1'\u001b[0m in \u001b[0;36m<module>\u001b[0;34m\u001b[0m\n\u001b[1;32m      <a href='vscode-notebook-cell:/home/himanshu/CV-Python-Swaraj/Session%2023.ipynb#ch0000000?line=0'>1</a>\u001b[0m \u001b[39mfrom\u001b[39;00m \u001b[39mtkinter\u001b[39;00m \u001b[39mimport\u001b[39;00m \u001b[39m*\u001b[39m\n\u001b[0;32m----> <a href='vscode-notebook-cell:/home/himanshu/CV-Python-Swaraj/Session%2023.ipynb#ch0000000?line=1'>2</a>\u001b[0m \u001b[39mfrom\u001b[39;00m \u001b[39mPIL\u001b[39;00m \u001b[39mimport\u001b[39;00m Image, ImageTK\n",
      "\u001b[0;31mImportError\u001b[0m: cannot import name 'ImageTK' from 'PIL' (/home/himanshu/.local/lib/python3.9/site-packages/PIL/__init__.py)"
     ]
    }
   ],
   "source": [
    "from tkinter import *\n",
    "from PIL import Image, ImageTK "
   ]
  },
  {
   "cell_type": "code",
   "execution_count": 18,
   "id": "0084c98e",
   "metadata": {},
   "outputs": [],
   "source": [
    "root = Tk()"
   ]
  },
  {
   "cell_type": "code",
   "execution_count": 3,
   "id": "6a30cbc0",
   "metadata": {},
   "outputs": [
    {
     "data": {
      "text/plain": [
       "''"
      ]
     },
     "execution_count": 3,
     "metadata": {},
     "output_type": "execute_result"
    }
   ],
   "source": [
    "root.title('Swaraj')"
   ]
  },
  {
   "cell_type": "code",
   "execution_count": 19,
   "id": "482bf922",
   "metadata": {},
   "outputs": [
    {
     "name": "stdout",
     "output_type": "stream",
     "text": [
      " Icon.ico            Session15.ipynb           'Session 22.ipynb'\n",
      " Paul.png           'Session 16.ipynb'         'Session 23.ipynb'\n",
      "'Session 10.ipynb'  'Session 17.ipynb'         'Session 8.ipynb'\n",
      "'Session 11.ipynb'  'Session 18 and 19.ipynb'  'Session 9.ipynb'\n",
      "'Session 12.ipynb'  'Session 20.ipynb'          testfile\n",
      "'Session 14.ipynb'  'Session 21.ipynb'\n"
     ]
    }
   ],
   "source": [
    "ls"
   ]
  },
  {
   "cell_type": "code",
   "execution_count": 21,
   "id": "e61afa81",
   "metadata": {},
   "outputs": [
    {
     "ename": "TclError",
     "evalue": "bitmap \"./Icon.ico\" not defined",
     "output_type": "error",
     "traceback": [
      "\u001b[0;31m---------------------------------------------------------------------------\u001b[0m",
      "\u001b[0;31mTclError\u001b[0m                                  Traceback (most recent call last)",
      "\u001b[1;32m/home/himanshu/CV-Python-Swaraj/Session 23.ipynb Cell 5'\u001b[0m in \u001b[0;36m<module>\u001b[0;34m\u001b[0m\n\u001b[0;32m----> <a href='vscode-notebook-cell:/home/himanshu/CV-Python-Swaraj/Session%2023.ipynb#ch0000004?line=0'>1</a>\u001b[0m root\u001b[39m.\u001b[39;49miconbitmap(\u001b[39mr\u001b[39;49m\u001b[39m'\u001b[39;49m\u001b[39m./Icon.ico\u001b[39;49m\u001b[39m'\u001b[39;49m)\n",
      "File \u001b[0;32m/usr/lib/python3.9/tkinter/__init__.py:2080\u001b[0m, in \u001b[0;36mWm.wm_iconbitmap\u001b[0;34m(self, bitmap, default)\u001b[0m\n\u001b[1;32m   <a href='file:///usr/lib/python3.9/tkinter/__init__.py?line=2077'>2078</a>\u001b[0m     \u001b[39mreturn\u001b[39;00m \u001b[39mself\u001b[39m\u001b[39m.\u001b[39mtk\u001b[39m.\u001b[39mcall(\u001b[39m'\u001b[39m\u001b[39mwm\u001b[39m\u001b[39m'\u001b[39m, \u001b[39m'\u001b[39m\u001b[39miconbitmap\u001b[39m\u001b[39m'\u001b[39m, \u001b[39mself\u001b[39m\u001b[39m.\u001b[39m_w, \u001b[39m'\u001b[39m\u001b[39m-default\u001b[39m\u001b[39m'\u001b[39m, default)\n\u001b[1;32m   <a href='file:///usr/lib/python3.9/tkinter/__init__.py?line=2078'>2079</a>\u001b[0m \u001b[39melse\u001b[39;00m:\n\u001b[0;32m-> <a href='file:///usr/lib/python3.9/tkinter/__init__.py?line=2079'>2080</a>\u001b[0m     \u001b[39mreturn\u001b[39;00m \u001b[39mself\u001b[39;49m\u001b[39m.\u001b[39;49mtk\u001b[39m.\u001b[39;49mcall(\u001b[39m'\u001b[39;49m\u001b[39mwm\u001b[39;49m\u001b[39m'\u001b[39;49m, \u001b[39m'\u001b[39;49m\u001b[39miconbitmap\u001b[39;49m\u001b[39m'\u001b[39;49m, \u001b[39mself\u001b[39;49m\u001b[39m.\u001b[39;49m_w, bitmap)\n",
      "\u001b[0;31mTclError\u001b[0m: bitmap \"./Icon.ico\" not defined"
     ]
    }
   ],
   "source": [
    "root.iconbitmap(r'./Icon.ico')"
   ]
  },
  {
   "cell_type": "code",
   "execution_count": null,
   "id": "9d0e80ce",
   "metadata": {},
   "outputs": [],
   "source": []
  }
 ],
 "metadata": {
  "kernelspec": {
   "display_name": "Python 3 (ipykernel)",
   "language": "python",
   "name": "python3"
  },
  "language_info": {
   "codemirror_mode": {
    "name": "ipython",
    "version": 3
   },
   "file_extension": ".py",
   "mimetype": "text/x-python",
   "name": "python",
   "nbconvert_exporter": "python",
   "pygments_lexer": "ipython3",
   "version": "3.9.7"
  }
 },
 "nbformat": 4,
 "nbformat_minor": 5
}
