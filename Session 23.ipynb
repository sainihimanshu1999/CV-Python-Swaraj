{
 "cells": [
  {
   "cell_type": "code",
   "execution_count": 1,
   "id": "1d4dc4f2",
   "metadata": {},
   "outputs": [],
   "source": [
    "from tkinter import *\n",
    "import PIL\n",
    "from PIL import ImageTk,Image"
   ]
  },
  {
   "cell_type": "code",
   "execution_count": 31,
   "id": "0084c98e",
   "metadata": {},
   "outputs": [],
   "source": [
    "root = Tk()"
   ]
  },
  {
   "cell_type": "code",
   "execution_count": 32,
   "id": "6a30cbc0",
   "metadata": {},
   "outputs": [
    {
     "data": {
      "text/plain": [
       "''"
      ]
     },
     "execution_count": 32,
     "metadata": {},
     "output_type": "execute_result"
    }
   ],
   "source": [
    "root.title('Swaraj')"
   ]
  },
  {
   "cell_type": "code",
   "execution_count": 33,
   "id": "482bf922",
   "metadata": {},
   "outputs": [
    {
     "data": {
      "text/plain": [
       "''"
      ]
     },
     "execution_count": 33,
     "metadata": {},
     "output_type": "execute_result"
    }
   ],
   "source": [
    "root.geometry('300x150')"
   ]
  },
  {
   "cell_type": "code",
   "execution_count": 34,
   "id": "e61afa81",
   "metadata": {},
   "outputs": [],
   "source": [
    "w  = Label(root,text='Swaraj',font='50')"
   ]
  },
  {
   "cell_type": "code",
   "execution_count": 35,
   "id": "4994371a",
   "metadata": {},
   "outputs": [],
   "source": [
    "w.pack()"
   ]
  },
  {
   "cell_type": "code",
   "execution_count": 36,
   "id": "0029b6d7",
   "metadata": {},
   "outputs": [],
   "source": [
    "# frame in our tkinter application"
   ]
  },
  {
   "cell_type": "code",
   "execution_count": 37,
   "id": "016e1167",
   "metadata": {},
   "outputs": [],
   "source": [
    "frame = Frame(root) # first frame"
   ]
  },
  {
   "cell_type": "code",
   "execution_count": 38,
   "id": "9a3bf8cf",
   "metadata": {},
   "outputs": [],
   "source": [
    "frame.pack()"
   ]
  },
  {
   "cell_type": "code",
   "execution_count": 39,
   "id": "4bfca08e",
   "metadata": {},
   "outputs": [],
   "source": [
    "# second frame"
   ]
  },
  {
   "cell_type": "code",
   "execution_count": 40,
   "id": "d23fc5ef",
   "metadata": {},
   "outputs": [],
   "source": [
    "bottomframe = Frame(root)\n"
   ]
  },
  {
   "cell_type": "code",
   "execution_count": 41,
   "id": "b0d406cd",
   "metadata": {},
   "outputs": [],
   "source": [
    "bottomframe.pack(side = BOTTOM)"
   ]
  },
  {
   "cell_type": "code",
   "execution_count": 42,
   "id": "4e870942",
   "metadata": {},
   "outputs": [],
   "source": [
    "# creating things to add in our frames"
   ]
  },
  {
   "cell_type": "code",
   "execution_count": 43,
   "id": "b536140e",
   "metadata": {},
   "outputs": [],
   "source": [
    "b1_button  = Button(frame, text = 'user 1', fg='red')\n",
    "b1_button.pack(side=LEFT)"
   ]
  },
  {
   "cell_type": "code",
   "execution_count": 44,
   "id": "d73fd7a3",
   "metadata": {},
   "outputs": [],
   "source": [
    "b2_button  = Button(frame, text = 'user 2', fg='green')\n",
    "b2_button.pack(side=LEFT)"
   ]
  },
  {
   "cell_type": "code",
   "execution_count": 45,
   "id": "eff583c6",
   "metadata": {},
   "outputs": [],
   "source": [
    "b3_button  = Button(frame, text = 'user 3', fg='blue')\n",
    "b3_button.pack(side=LEFT)"
   ]
  },
  {
   "cell_type": "code",
   "execution_count": 46,
   "id": "1eb39fd4",
   "metadata": {},
   "outputs": [],
   "source": [
    "b4_button  = Button(bottomframe, text = 'user 4', fg='green')\n",
    "b4_button.pack(side=BOTTOM)"
   ]
  },
  {
   "cell_type": "code",
   "execution_count": 47,
   "id": "cb126aaf",
   "metadata": {},
   "outputs": [],
   "source": [
    "b5_button  = Button(bottomframe, text = 'user 5', fg='green')\n",
    "b5_button.pack(side=BOTTOM)"
   ]
  },
  {
   "cell_type": "code",
   "execution_count": 48,
   "id": "95fb02df",
   "metadata": {},
   "outputs": [],
   "source": [
    "b6_button  = Button(bottomframe, text = 'user 6', fg='green')\n",
    "b6_button.pack(side=BOTTOM)"
   ]
  },
  {
   "cell_type": "code",
   "execution_count": 49,
   "id": "b7af9c51",
   "metadata": {},
   "outputs": [],
   "source": [
    "root.mainloop()"
   ]
  },
  {
   "cell_type": "code",
   "execution_count": null,
   "id": "ab0b6b4c",
   "metadata": {},
   "outputs": [],
   "source": []
  }
 ],
 "metadata": {
  "kernelspec": {
   "display_name": "Python 3 (ipykernel)",
   "language": "python",
   "name": "python3"
  },
  "language_info": {
   "codemirror_mode": {
    "name": "ipython",
    "version": 3
   },
   "file_extension": ".py",
   "mimetype": "text/x-python",
   "name": "python",
   "nbconvert_exporter": "python",
   "pygments_lexer": "ipython3",
   "version": "3.9.7"
  }
 },
 "nbformat": 4,
 "nbformat_minor": 5
}
