{
 "cells": [
  {
   "cell_type": "code",
   "execution_count": 1,
   "id": "156a619e",
   "metadata": {},
   "outputs": [],
   "source": [
    "# place (geommetry methods)"
   ]
  },
  {
   "cell_type": "code",
   "execution_count": 3,
   "id": "79920e41",
   "metadata": {},
   "outputs": [],
   "source": [
    "from tkinter import *\n",
    "from tkinter.ttk import *"
   ]
  },
  {
   "cell_type": "code",
   "execution_count": 4,
   "id": "d1321f58",
   "metadata": {},
   "outputs": [],
   "source": [
    "root = Tk()"
   ]
  },
  {
   "cell_type": "code",
   "execution_count": 5,
   "id": "b2b95587",
   "metadata": {},
   "outputs": [
    {
     "data": {
      "text/plain": [
       "''"
      ]
     },
     "execution_count": 5,
     "metadata": {},
     "output_type": "execute_result"
    }
   ],
   "source": [
    "root.geometry('200x200')"
   ]
  },
  {
   "cell_type": "code",
   "execution_count": 7,
   "id": "0f684941",
   "metadata": {},
   "outputs": [],
   "source": [
    "#button widget\n",
    "b1 = Button(root,text='I am Swaraj')\n",
    "b1.place(relx = 1, x=-2,y=2,anchor=NE)"
   ]
  },
  {
   "cell_type": "code",
   "execution_count": 8,
   "id": "78d7b923",
   "metadata": {},
   "outputs": [],
   "source": [
    "# label widget\n",
    "l  = Label(root,text='I am label widget')\n",
    "l.place(anchor=NW)"
   ]
  },
  {
   "cell_type": "code",
   "execution_count": 9,
   "id": "6d12c06e",
   "metadata": {},
   "outputs": [],
   "source": [
    "#button widget\n",
    "b2  =Button(root,text='I am swaraj part 2')\n",
    "b2.place(relx=0.5,rely=0.5,anchor=CENTER)"
   ]
  },
  {
   "cell_type": "code",
   "execution_count": 10,
   "id": "ac565fce",
   "metadata": {},
   "outputs": [],
   "source": [
    "root.mainloop()"
   ]
  },
  {
   "cell_type": "code",
   "execution_count": 18,
   "id": "9462e1b3",
   "metadata": {},
   "outputs": [],
   "source": [
    "master = Tk()\n",
    "\n"
   ]
  },
  {
   "cell_type": "code",
   "execution_count": 19,
   "id": "5a888ae1",
   "metadata": {},
   "outputs": [
    {
     "data": {
      "text/plain": [
       "''"
      ]
     },
     "execution_count": 19,
     "metadata": {},
     "output_type": "execute_result"
    }
   ],
   "source": [
    "master.geometry('250x250')"
   ]
  },
  {
   "cell_type": "code",
   "execution_count": 20,
   "id": "5a786589",
   "metadata": {},
   "outputs": [],
   "source": [
    "label_frame = LabelFrame(master,text='This is a label frame')\n",
    "label_frame.pack(expand='yes',fill='both')"
   ]
  },
  {
   "cell_type": "code",
   "execution_count": 21,
   "id": "907bcb71",
   "metadata": {},
   "outputs": [],
   "source": [
    "label1 = Label(label_frame,text='1. this is thw first label inside our label frame')\n",
    "label1.place(x=4,y=5)"
   ]
  },
  {
   "cell_type": "code",
   "execution_count": 22,
   "id": "0a856d2e",
   "metadata": {},
   "outputs": [],
   "source": [
    "label2 = Label(label_frame,text='2. this is the second label inside our label frame')\n",
    "label2.place(x=34,y=35)"
   ]
  },
  {
   "cell_type": "code",
   "execution_count": 23,
   "id": "e8e8bdde",
   "metadata": {},
   "outputs": [],
   "source": [
    "label3 = Label(label_frame,text='3. this is the Third label inside our label frame')\n",
    "label3.place(x=78,y=65)"
   ]
  },
  {
   "cell_type": "code",
   "execution_count": 24,
   "id": "032ada94",
   "metadata": {},
   "outputs": [],
   "source": [
    "master.mainloop()"
   ]
  },
  {
   "cell_type": "code",
   "execution_count": 41,
   "id": "f022a1d3",
   "metadata": {},
   "outputs": [],
   "source": [
    "y = Tk()"
   ]
  },
  {
   "cell_type": "code",
   "execution_count": 42,
   "id": "6a87bf2a",
   "metadata": {},
   "outputs": [],
   "source": [
    "r =IntVar()"
   ]
  },
  {
   "cell_type": "code",
   "execution_count": 43,
   "id": "5793ec5c",
   "metadata": {},
   "outputs": [],
   "source": [
    "def clicker(value):\n",
    "    myLabel = Label(y,text=value)\n",
    "    myLabel.pack()"
   ]
  },
  {
   "cell_type": "code",
   "execution_count": 44,
   "id": "4bb39bbc",
   "metadata": {},
   "outputs": [],
   "source": [
    "Radiobutton(y,text='ice cream',variable =r,value=1, command= lambda: clicker(r.get())).pack()"
   ]
  },
  {
   "cell_type": "code",
   "execution_count": 45,
   "id": "844091e7",
   "metadata": {},
   "outputs": [],
   "source": [
    "Radiobutton(y,text='Pizza',variable =r,value=2, command= lambda: clicker(r.get())).pack()"
   ]
  },
  {
   "cell_type": "code",
   "execution_count": 46,
   "id": "2cdab876",
   "metadata": {},
   "outputs": [],
   "source": [
    "y.mainloop()"
   ]
  },
  {
   "cell_type": "code",
   "execution_count": null,
   "id": "2e31b2e5",
   "metadata": {},
   "outputs": [],
   "source": []
  }
 ],
 "metadata": {
  "kernelspec": {
   "display_name": "Python 3 (ipykernel)",
   "language": "python",
   "name": "python3"
  },
  "language_info": {
   "codemirror_mode": {
    "name": "ipython",
    "version": 3
   },
   "file_extension": ".py",
   "mimetype": "text/x-python",
   "name": "python",
   "nbconvert_exporter": "python",
   "pygments_lexer": "ipython3",
   "version": "3.9.7"
  }
 },
 "nbformat": 4,
 "nbformat_minor": 5
}
